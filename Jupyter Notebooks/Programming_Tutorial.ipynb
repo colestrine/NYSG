{
 "cells": [
  {
   "cell_type": "markdown",
   "metadata": {},
   "source": [
    "References\n",
    "https://stackoverflow.com/questions/18162970/read-only-cells-in-ipython-notebook \n",
    "to edit metadata and make undeletable"
   ]
  },
  {
   "cell_type": "markdown",
   "metadata": {},
   "source": [
    "# Python Programming Tutorial\n",
    "\n",
    "## Introduction\n",
    "In this tutorial, we will be learning basics of programming in Python. The material in this tutorial will be directly relevant to both the Engineering Explores project, as well as your future programming pursuits. We intend for this tutorial as an interactive method to view how Python executes code, to develop core concepts for you to learn in order to complete this project, and as a guiding hand for help in case you get stuck while working on the project. In order to facilitate your learning, we will ask questions and have some exercises throughout the tutorial; please try to complete these exercises for your understanding and to develop the appropriate programming skills for this project. After completiong of this tutorial, you will be a stronger programmer and can complete the Greenhouse software component. You will also learn the basics of data visualization and gain an understanding of the machine learning used in this project.\n",
    "\n",
    "## How to use Jupyter for this Tutorial\n",
    "\n",
    "We would like you to use the virtual environment for this tutorial. Everytime you use this tutorial, at the start, click on **Kernel**, **Change Kernel** and choose **Venv**. This will make sure you have the correct packages and version of Python.\n",
    "\n",
    "We will be using Jupyter Notebook in this tutorial. Jupyter is interactive. On each cell of this tutorial, you can click on the cell, and it will be colored in green. Go to the top control bar. You can click **Run**, which will execute the code in the cell. If you need to stop execution, click the **Square** button to pause. If there is an error, or an issue in which Jupyter fails to work, navigate to the toolbar, click **Kernel** and **Restart**. You can also click **Kernel** and **Reconnect** if the Kernel becomes **Not Trusted.**\\\n",
    "\n",
    "Jupyter creates an environment to run Python code. In order to get the environment we want you to see, you must run the code from top to bottom, in that order, without skipping cells. **Skipping cells** might lead to inscrutable errors; in that case, just go back to the cell that you skipped and rerun it.\n",
    "\n",
    "In addition, rerunning cells will cause issues with expected results, because rerunning cells might overwrite preexisting data. If you get strange results, such as answers changing from one run to another, just start again at the beginning of a section. You should get the expected answer.\n",
    "\n",
    "To add cells, click on **insert** and click the appropriate location for the insert. You will need to use this insertion to add cells in the tutorial, to complete appropriate questions and exercises. \n",
    "\n",
    "## Goals/Objectives \n",
    "At the end of this tutorial, you will be able to:\n",
    "1. Program using assignment statements, control flow, functions, and classes\n",
    "2. Work with predeveloped sensor classes\n",
    "3. Debug and test your code\n",
    "4. Visualize data\n",
    "5. Have a basic understanding of Machine Learning\n",
    "\n",
    "## Outline\n",
    "- Basic Programming\n",
    "    - Assignment Statements\n",
    "    - Variables\n",
    "    - Printing\n",
    "    - Ints\n",
    "    - Arithmetic Operations\n",
    "    - Floats\n",
    "- Usage of Different Types\n",
    "    - Strings\n",
    "    - Booleans and comparisons\n",
    "    - Lists\n",
    "    - Manipulating Strings and Lists\n",
    "    - Comments\n",
    "- Control Flow\n",
    "    - If Else Statements\n",
    "    - For Loops\n",
    "    - While Loops\n",
    "- Functions\n",
    "    - Specifications\n",
    "    - Calling functions\n",
    "    - Function Definitions\n",
    "- Modules and APIs\n",
    "    - Importing Modules\n",
    "    - Calling pre-developed functions\n",
    "    - APIs and the specifications for functions\n",
    "- Classes and Methods\n",
    "    - Classes\n",
    "    - Attributes\n",
    "    - Methods\n",
    "    - Inheritance\n",
    "- Debugging\n",
    "    - Print statements\n",
    "- Testing\n",
    "    - Asserts\n",
    "\n",
    "## Authors\n",
    "- Jonathan Tran (NYSG Intern 2020)"
   ]
  },
  {
   "cell_type": "markdown",
   "metadata": {},
   "source": [
    "## Basic Programming\n",
    "We will start off with some basic programming elements: How to store data and refer back to this data, and also working with integers and floating point numbers. We will also learn how to print out the data we saved in a variable. \n",
    "\n",
    "### Assignment Statements:\n",
    "To begin, we will study how to store numbers and manipulate those numbers. You probably have done math of a calculator before; adding, subtracting, multiplying and dividing integers, whole numbers and decimals. Python can do this as well! Let's check this out:\n",
    "\n",
    "Try running the following statements. You will be assigning numbers to variables foo and bar. Afterwards, try to change the values of foo and bar to 8 and 9, respectively. \n",
    "\n",
    "Remember, to run a statement, click on the cell, then navigate to the top bar, clicking on **Run** to run the cell. Cells with print() in them will print out a value to the screen. To avoid errors, run from top most cells downwards; otherwise, you might get strange errors. "
   ]
  },
  {
   "cell_type": "code",
   "execution_count": 37,
   "metadata": {},
   "outputs": [],
   "source": [
    "foo = 3\n",
    "bar = 4"
   ]
  },
  {
   "cell_type": "code",
   "execution_count": 38,
   "metadata": {},
   "outputs": [
    {
     "name": "stdout",
     "output_type": "stream",
     "text": [
      "3\n",
      "4\n"
     ]
    }
   ],
   "source": [
    "print(foo)\n",
    "print(bar)"
   ]
  },
  {
   "cell_type": "markdown",
   "metadata": {},
   "source": [
    "### Variables \n",
    "\n",
    "foo and bar were **variables** in the above example. **Variables** are like boxes that hold numbers, or even data. They allow us to reference data we find useful. For example Syntactically, we can assign a **variable** a value using **assignment**, using the **=** sign. That is, to assign a value to the variable, we could do **variable = value** substituting value with the value you want and variable with the variable name you want. \n",
    "\n",
    "Note that in Python, variable names can be alphabetical upper case and lower case, with underscores . Typically, we might make variable names memoriable. Also, we have two conventions for variables names: CamelCase and using underscores. \n",
    "\n",
    "In **CamelCase**, we have the first character capitalized, and joined together. Remember, No spaces between the words Camel and Case, because python will not recognize the variable.\n",
    "\n",
    "With **underscores**, we can have variables like camel_case. This is also another valid and typical way to name variables.\n",
    "\n",
    "### Ints\n",
    "\n",
    "You probably also noticed that the numbers 3 and 4 are like normal whole numbers. In Python, we call the type for these numbers ints. Ints represent integers, like 0, -2, 4, 5, -100, etc. Anytime you have a negative or positive whole number in Python, it is of type **int**. \n",
    "\n",
    "Back to our example above:\n",
    "\n",
    "In that example example, we said foo had the value 3 and bar had the value 4 in the above example. We could just as well change it; in Python, variables can change the values that they hold. Let's try making foo 5. We will assign foo the value 5. Let's also check what foo and bar are afterwards. We will use the print to help."
   ]
  },
  {
   "cell_type": "code",
   "execution_count": 39,
   "metadata": {},
   "outputs": [
    {
     "name": "stdout",
     "output_type": "stream",
     "text": [
      "5\n",
      "4\n"
     ]
    }
   ],
   "source": [
    "foo = 5\n",
    "print(foo)\n",
    "print(bar)"
   ]
  },
  {
   "cell_type": "markdown",
   "metadata": {},
   "source": [
    "#### Exercise: Variables\n",
    "Since you've seen variables, let's try to create some of our own variables. \n",
    "1. Assign a varable named **Engineer** to the value 100. \n",
    "2. Also, Assign the variable named **Explore** to the value 12. \n",
    "\n",
    "To do this remember that you need to insert a cell. Click **Insert**, and click **Insert Cell Below**. This will allow you to add a cell below and add the variables."
   ]
  },
  {
   "cell_type": "markdown",
   "metadata": {},
   "source": [
    "### Printing\n",
    "You probably realized that \n",
    "```python \n",
    "print(var_name)\n",
    "```\n",
    "prints out the value of the variable. So if variable \n",
    "```python\n",
    "name = 3\n",
    "```\n",
    "then \n",
    "```python\n",
    "print(name)\n",
    "```\n",
    "will print 3 to the screen. In fact, print can be used in many places, from debugging, to user interaction, to logging results. Make a cell, create a new variable var with value -1 and print the variable var. Printing can be used to print out information for any variable, including the variables foo and bar above. Printing can also show the value of expressions. Try printing other variables; printing is very useful! \n",
    "\n",
    "Let's use printing to guess what the following operators *, - and / will give us as output."
   ]
  },
  {
   "cell_type": "code",
   "execution_count": 1,
   "metadata": {},
   "outputs": [
    {
     "name": "stdout",
     "output_type": "stream",
     "text": [
      "15\n",
      "1.0\n",
      "6\n"
     ]
    }
   ],
   "source": [
    "print(3 * 5)\n",
    "print(2 / 2)\n",
    "print(10 - 4)"
   ]
  },
  {
   "cell_type": "markdown",
   "metadata": {},
   "source": [
    "### Arithmetic Operations\n",
    "It's just multiplication, division and subtraction! In fact, Python has a ton of these operations defined. Exponentiation is defined with\n",
    "```python\n",
    "**\n",
    "```\n",
    "so we could do \n",
    "```python\n",
    "2**3\n",
    "```\n",
    "to get two cubed or 8. Try a few out below:\n",
    "\n",
    "#### Exercise: Arithmetic Operations\n",
    "1. Assign a variable with a name to the value 10 cubed. Use the exponentiation operator. \n",
    "2. Assign a variable with a name to the 3.14 * 3 squared. Use the exponentiation operator. \n",
    "3. Assign a variable with a name to the value 5 divided by 4 multiplied by 20."
   ]
  },
  {
   "cell_type": "markdown",
   "metadata": {},
   "source": [
    "### Floats\n",
    "\n",
    "We saw ints already; those represent the Integers from mathematics. While Computers cannot represent all integers, the int type is a good representation. What about decimal numbers? How about 1/2 or 0.5. Can Python represent this?\n",
    "\n",
    "Let us try an example:\n",
    "\n",
    "What about 2/3?"
   ]
  },
  {
   "cell_type": "code",
   "execution_count": 31,
   "metadata": {},
   "outputs": [
    {
     "name": "stdout",
     "output_type": "stream",
     "text": [
      "0.6666666666666666\n"
     ]
    }
   ],
   "source": [
    "print(2/3)"
   ]
  },
  {
   "cell_type": "markdown",
   "metadata": {},
   "source": [
    "We got a decimal! In Python, we say that this is a **float**, a floating point number. So we have decimals in python as well. HEre are some examples of floats:"
   ]
  },
  {
   "cell_type": "code",
   "execution_count": 32,
   "metadata": {},
   "outputs": [
    {
     "name": "stdout",
     "output_type": "stream",
     "text": [
      "7.99\n",
      "-20.0\n",
      "34.78\n"
     ]
    }
   ],
   "source": [
    "print(3.44 + 4.55)\n",
    "print(6.0 / -0.3)\n",
    "print(3.7 * 9.4)"
   ]
  },
  {
   "cell_type": "markdown",
   "metadata": {},
   "source": [
    "#### Exercise: Floats\n",
    "1. Add a few cells below, showing multiplication of three floating point numbers 3.0, 5.455 and 6.055. Print out your anwwer. Also do division, and subtration and addition of these floating point numbers. Also, assign a variable to a float, and to an int. \n",
    "\n",
    "2. Try doing more complex operations and assigning that operation to a variable with your choice for the name. For example, you could do:\n",
    "\n",
    "```python\n",
    "x = 100/3 * 4 * 5 /6\n",
    "```\n",
    "or\n",
    "```python\n",
    "complex = x * x /.4 * 5 * 6\n",
    "```\n",
    "\n",
    "Notice in the second example, I had x defined first, and I used x to assign a value to variable complex. This is well defined because I already assigned x a value already."
   ]
  },
  {
   "cell_type": "markdown",
   "metadata": {},
   "source": [
    "## TYPES\n",
    "How can we store different values? For example, can we store decimals, or words, or even a collection of items like a shopping list in Python? Types represent different storage classes; think of it like different sized containers for different uses; a small box can hold a few books; a storage facility can hold tons of items. \n",
    "\n",
    "### STRINGS\n",
    "\n",
    "Python has many different data types ready for your use. You just used ints, which are a machine representation of integers. How about a type for characters or words? Python also has a type for that: strings"
   ]
  },
  {
   "cell_type": "code",
   "execution_count": 33,
   "metadata": {},
   "outputs": [
    {
     "name": "stdout",
     "output_type": "stream",
     "text": [
      "Hello World!\n"
     ]
    }
   ],
   "source": [
    "s = \"Hello World!\"\n",
    "print(s)"
   ]
  },
  {
   "cell_type": "code",
   "execution_count": 34,
   "metadata": {},
   "outputs": [
    {
     "name": "stdout",
     "output_type": "stream",
     "text": [
      "h\n"
     ]
    }
   ],
   "source": [
    "s = \"My name is \" + input() + \".\""
   ]
  },
  {
   "cell_type": "code",
   "execution_count": 35,
   "metadata": {},
   "outputs": [
    {
     "name": "stdout",
     "output_type": "stream",
     "text": [
      "My name is h.\n"
     ]
    }
   ],
   "source": [
    "print(s)\n"
   ]
  },
  {
   "cell_type": "markdown",
   "metadata": {},
   "source": [
    "#### Exercise: Strings\n",
    "\n",
    "1. Create a string assigned to a variable named s1 with your favorite food. Remember to wrap your string with \" \" quotes at the start and end.\n",
    "\n",
    "2. Also, in a second exercise, create one variable named first with your first name as the value. Next, create a second variable named second with your last name as the value. Make a third variable adding first and second together like this:\n",
    "```python\n",
    "full_name = first + \" \" + second\n",
    "```\n",
    "where \n",
    "```python\n",
    "\" \"\n",
    "```\n",
    "adds a space between the strings. Notice that the +  (plus sign) **concatenates** strings: that is, it combines strings.\n",
    "Now do:\n",
    "```python\n",
    "print(full_name)\n",
    "```\n",
    "and see what the result is.\n",
    "\n",
    "3. Try using the + (plus sign) as to combine more strings together. Make an example with 4 strings, using one of the strings in another string. \n",
    "\n",
    "4. Try to use the * sign with strings. Guess what it does. For a start, you can try:\n",
    "```python\n",
    "\"hello\" * 3\n",
    "```\n",
    "and \n",
    "```python\n",
    "\"hello\" * 10\n",
    "```\n",
    "\n",
    "5. Play around with \n",
    "```python\n",
    "input()\n",
    "```\n",
    "You can try something like:\n",
    "```python\n",
    "favorite_food = input(\"Give me your favorite food: \")\n",
    "```\n",
    "Notice that input prints the string \"Give me your favorite food: \", and then takes the value you want and puts in variable favorite_food. Next, try an example where you ask the user \"What school do you go to\" and put that string in variable school. Print school out. Also, try combining school with other strings.\n",
    "\n",
    "\n",
    "*Note: There is no - (minus) or / (divide) operation defined for strings. Using these will cause errors.*"
   ]
  },
  {
   "cell_type": "markdown",
   "metadata": {},
   "source": [
    "### Booleans and Comparisons\n",
    "\n",
    "Another basic type that Python includes is a type with only two values: \n",
    "```python\n",
    "True\n",
    "```\n",
    "and \n",
    "```python\n",
    "False\n",
    "```\n",
    "This is the Boolean type. Booleans can useful when we only have to check two conditions, such as if something will occur or not. Be careful: True must have an uppercase t and False must have an uppercase F, otherwise you have a variable named true or a variable named false, and not a boolean. "
   ]
  },
  {
   "cell_type": "code",
   "execution_count": 46,
   "metadata": {},
   "outputs": [
    {
     "name": "stdout",
     "output_type": "stream",
     "text": [
      "True\n",
      "False\n"
     ]
    }
   ],
   "source": [
    "x = True\n",
    "print(True)\n",
    "y = False\n",
    "print(False)"
   ]
  },
  {
   "cell_type": "markdown",
   "metadata": {},
   "source": [
    "We can use bools for comparisons. For example, if we check two numbers or strings are the same, we get a bool. Or if we check for inequality, we get a bool. Of note is the operations: == is for equality, != for inequality, >=, <= , < and > have the standard mathematical meanings as greater than or equal, less than or equal, less than and greater than, respectively.\n",
    "\n",
    "So what happens if we do:\n",
    "```python\n",
    "print(3 == 3) \n",
    "```\n",
    "What do you think should be the outcome? True or False?\n",
    "How about \n",
    "```python\n",
    "print(5 > 4)\n",
    "```\n",
    "or \n",
    "```python\n",
    "print(3.0 < 7)\n",
    "```\n",
    "or \n",
    "```python\n",
    "print(5.6 <= -3.4)\n",
    "```\n",
    "or \n",
    "```python\n",
    "print (7 != 8)\n",
    "```\n",
    "or \n",
    "```python\n",
    "print (7 != 7)\n",
    "```\n",
    "Run the next cell to see!"
   ]
  },
  {
   "cell_type": "code",
   "execution_count": 47,
   "metadata": {},
   "outputs": [
    {
     "name": "stdout",
     "output_type": "stream",
     "text": [
      "True\n",
      "True\n",
      "False\n",
      "True\n",
      "False\n",
      "True\n",
      "False\n"
     ]
    }
   ],
   "source": [
    "print(5 > 4)\n",
    "print(3.0 < 7)\n",
    "print(5.6 <= -3.4)\n",
    "print (7 != 8)\n",
    "print (7 != 7)\n",
    "print (3 <= 3)\n",
    "print (7 == 9)"
   ]
  },
  {
   "cell_type": "markdown",
   "metadata": {},
   "source": [
    "Was that what you expected? It's pretty simple once you get the hang of it.\n",
    "\n",
    "Can we chain booleans together? Yes! We can use _and_ and _or_ to do this.\n",
    "\n",
    "What is \n",
    "```python\n",
    "True and True\n",
    "```\n",
    "Should be true!\n",
    "How about \n",
    "```python\n",
    "True or False\n",
    "```\n",
    "Again, it is True (because one of the two is true)\n",
    "How about:\n",
    "```python\n",
    "True and False\n",
    "```\n",
    "This time it is False (because and requires both to be true to give true)"
   ]
  },
  {
   "cell_type": "code",
   "execution_count": 4,
   "metadata": {},
   "outputs": [
    {
     "name": "stdout",
     "output_type": "stream",
     "text": [
      "False\n",
      "True\n",
      "True\n",
      "False\n",
      "True\n"
     ]
    }
   ],
   "source": [
    "print(True and False)\n",
    "print(True and True)\n",
    "print(False or True)\n",
    "print(False or False)\n",
    "x = 0\n",
    "print(x == 0 or x > 0)"
   ]
  },
  {
   "cell_type": "markdown",
   "metadata": {},
   "source": [
    "Finally, we can negate a boolean. This one is easy. What is \n",
    "```python\n",
    "not True\n",
    "```\n",
    "It is False! And what is \n",
    "```python\n",
    "not False\n",
    "```\n",
    "Try below!"
   ]
  },
  {
   "cell_type": "code",
   "execution_count": 5,
   "metadata": {},
   "outputs": [
    {
     "name": "stdout",
     "output_type": "stream",
     "text": [
      "False\n",
      "True\n",
      "True\n"
     ]
    }
   ],
   "source": [
    "print(not True)\n",
    "print(not False)\n",
    "y = 4\n",
    "print(not y != 4)"
   ]
  },
  {
   "cell_type": "markdown",
   "metadata": {},
   "source": [
    "#### Exercise: Booleans\n",
    "Create a variable to a complex boolean, for example True and False, or True. You can use parenthesis to add the order of evaluation, like \n",
    "```python\n",
    "b = (True and False) or True and (False or False)\n",
    "```\n",
    "Also, create an example with more than one variable where the first variable holds a boolean and the second variable uses the first."
   ]
  },
  {
   "cell_type": "markdown",
   "metadata": {},
   "source": [
    "### Lists\n",
    "\n",
    "How about a container type for collecting up elements of another type? Python has several different basic containes. Some of these include the list and the tuple. Let's see the list first."
   ]
  },
  {
   "cell_type": "code",
   "execution_count": 50,
   "metadata": {},
   "outputs": [],
   "source": [
    "lst = [1, 2, 3, 4, 5, 6, 7, 8, 9, 10]"
   ]
  },
  {
   "cell_type": "code",
   "execution_count": 51,
   "metadata": {},
   "outputs": [
    {
     "name": "stdout",
     "output_type": "stream",
     "text": [
      "[1, 2, 3, 4, 5, 6, 7, 8, 9, 10]\n"
     ]
    }
   ],
   "source": [
    "print(lst)"
   ]
  },
  {
   "cell_type": "markdown",
   "metadata": {},
   "source": [
    "Lists can hold as many things as you want, and the items inside can mixes of any type, including lists. Let's see an example."
   ]
  },
  {
   "cell_type": "code",
   "execution_count": 52,
   "metadata": {},
   "outputs": [],
   "source": [
    "new_lst = [[1, 2, 3], \"hello\", 5]"
   ]
  },
  {
   "cell_type": "code",
   "execution_count": 53,
   "metadata": {},
   "outputs": [
    {
     "name": "stdout",
     "output_type": "stream",
     "text": [
      "[[1, 2, 3], 'hello', 5]\n"
     ]
    }
   ],
   "source": [
    "print(new_lst)"
   ]
  },
  {
   "cell_type": "markdown",
   "metadata": {},
   "source": [
    "How about this next list? What is in it?"
   ]
  },
  {
   "cell_type": "code",
   "execution_count": 54,
   "metadata": {},
   "outputs": [
    {
     "name": "stdout",
     "output_type": "stream",
     "text": [
      "[]\n"
     ]
    }
   ],
   "source": [
    "x = []\n",
    "print(x)"
   ]
  },
  {
   "cell_type": "markdown",
   "metadata": {},
   "source": [
    "### Manipulating Lists and Strings\n",
    "\n",
    "The above example showed the empty list: it has nothing inside. The empty list can be useful if we want to start off with an empty list and add items: its like a empty shopping cart to which we can place groceries inside. But how can we add stuff to a list? Append()"
   ]
  },
  {
   "cell_type": "code",
   "execution_count": 55,
   "metadata": {},
   "outputs": [
    {
     "name": "stdout",
     "output_type": "stream",
     "text": [
      "[1]\n"
     ]
    }
   ],
   "source": [
    "x = []\n",
    "x.append(1)\n",
    "print(x)"
   ]
  },
  {
   "cell_type": "markdown",
   "metadata": {},
   "source": [
    "We added the value of 1 to x! Let's try adding the values 0 and 3 as well"
   ]
  },
  {
   "cell_type": "code",
   "execution_count": 56,
   "metadata": {},
   "outputs": [
    {
     "name": "stdout",
     "output_type": "stream",
     "text": [
      "[1, 0, 3]\n"
     ]
    }
   ],
   "source": [
    "x.append(0)\n",
    "x.append(3)\n",
    "print(x)"
   ]
  },
  {
   "cell_type": "markdown",
   "metadata": {},
   "source": [
    "Notice we added values at the right end of the list. We will call the right end the tail fo the list adn the left end the head. So append appends values to the tail. We can add to an arbitrary location as well.Suppose we want to add to the head of the list. We can use insert()"
   ]
  },
  {
   "cell_type": "code",
   "execution_count": 57,
   "metadata": {},
   "outputs": [
    {
     "name": "stdout",
     "output_type": "stream",
     "text": [
      "[4, 1, 0, 3]\n"
     ]
    }
   ],
   "source": [
    "x.insert(0, 4)\n",
    "print(x)"
   ]
  },
  {
   "cell_type": "markdown",
   "metadata": {},
   "source": [
    "Notice how we added the value 4 at position 0 using insert. In general, insert takes a position p and a value n to add to the list. Now we can insert values anywhere in the list.\n",
    "\n",
    "You might notice we start at position 0 at the left end side, or the head of the list. In general, Python numbers every collection from **0. The first item of any collection is 0, the next is location 1, and so on. So remember to count from 0!**\n",
    "\n",
    "We can see this when we get elements from strings and lists. Let's try indexing a list and a string to get elements inside, keeping in mind we start from **0**. \n",
    "\n",
    "To get an item from a string or a list, or any other collection, we can use the notation string[i] or list[i] to get the ith element from the list. So if the lsit was named items, and we wanted the first item, we would do items[0]. To get the 10th element from items, we do items[9]."
   ]
  },
  {
   "cell_type": "code",
   "execution_count": 58,
   "metadata": {},
   "outputs": [
    {
     "name": "stdout",
     "output_type": "stream",
     "text": [
      "E\n",
      "i\n",
      "50\n",
      "6\n"
     ]
    }
   ],
   "source": [
    "s = \"Engineers\"\n",
    "print(s[0])\n",
    "print(s[3])\n",
    "\n",
    "items = [30, 50, 2, 3, -4, 0, 5, 6]\n",
    "print(items[1])\n",
    "print(items[7])"
   ]
  },
  {
   "cell_type": "markdown",
   "metadata": {},
   "source": [
    "We can also  manipulate the items in a list. For example, let's change the first element of items to -100. We can use the same notation as getting an element, just changed a bit. Now, we have items[0] = -100, with items[0] on the left of the equals sign. Think of it as assignment - you are assigning the first element of items the value -100."
   ]
  },
  {
   "cell_type": "code",
   "execution_count": 59,
   "metadata": {},
   "outputs": [
    {
     "name": "stdout",
     "output_type": "stream",
     "text": [
      "[-100, 50, 2, 3, -4, 0, 5, 6]\n"
     ]
    }
   ],
   "source": [
    "items[0] = -100\n",
    "print(items)"
   ]
  },
  {
   "cell_type": "markdown",
   "metadata": {},
   "source": [
    "Let's try the same thing for strings: can we do s[0] = \"h\" to change the string's first character to h?"
   ]
  },
  {
   "cell_type": "code",
   "execution_count": 60,
   "metadata": {},
   "outputs": [
    {
     "ename": "TypeError",
     "evalue": "'str' object does not support item assignment",
     "output_type": "error",
     "traceback": [
      "\u001b[0;31m---------------------------------------------------------------------------\u001b[0m",
      "\u001b[0;31mTypeError\u001b[0m                                 Traceback (most recent call last)",
      "\u001b[0;32m<ipython-input-60-28afdf8ed541>\u001b[0m in \u001b[0;36m<module>\u001b[0;34m()\u001b[0m\n\u001b[0;32m----> 1\u001b[0;31m \u001b[0ms\u001b[0m\u001b[0;34m[\u001b[0m\u001b[0;36m0\u001b[0m\u001b[0;34m]\u001b[0m \u001b[0;34m=\u001b[0m \u001b[0;34m'h'\u001b[0m\u001b[0;34m\u001b[0m\u001b[0;34m\u001b[0m\u001b[0m\n\u001b[0m",
      "\u001b[0;31mTypeError\u001b[0m: 'str' object does not support item assignment"
     ]
    }
   ],
   "source": [
    "s[0] = 'h'"
   ]
  },
  {
   "cell_type": "markdown",
   "metadata": {},
   "source": [
    "You got a TypeError! Oh No! An error means that Python cannot do the intended operation. Python explains strings do not have item assignment. \n",
    "\n",
    "Actually, this shows that strings are **immutable**. Once you assign a string its characters, you cannot change the characters inside. So you cannot delete the character 'e' in the beginning of the string 'engineers', nor can you add to the string, nor can you change the characters, like the 'e' to another character. You can, however, make a new string or resassign the string. So we could still do the actions shown below:"
   ]
  },
  {
   "cell_type": "code",
   "execution_count": null,
   "metadata": {},
   "outputs": [],
   "source": [
    "s = \"hi\"\n",
    "s = \"hello\"\n",
    "s = \"hello\" + \"!\"\n",
    "s = s + \" \" + s\n",
    "print(s)"
   ]
  },
  {
   "cell_type": "markdown",
   "metadata": {},
   "source": [
    "#### Exercise: Lists\n",
    "1. Make a list with 10 elements and put in bools, strings, ints and floats. You can even nest lists inside. Print out the list to verify your work\n",
    "2. With the list you made in 1, change the third element to be \"Third Changed\". \n",
    "3. With the list you made in 1, add on an 11th, 12th, 13th, and 14th elements with append"
   ]
  },
  {
   "cell_type": "markdown",
   "metadata": {},
   "source": [
    "### COMMENTS:\n",
    "Sometimes, we want to explain our code, but we do not want Python to execute the code, Comments are the right way to do this. They allow us to type out the explanation for future readers, and ourselves, especially in places with hard to understand logic. A good rule of thumb is to comment blocks of code, but not excessively"
   ]
  },
  {
   "cell_type": "code",
   "execution_count": 30,
   "metadata": {},
   "outputs": [],
   "source": [
    "# Hi This is a comment\n",
    "\n",
    "# Comments begin with a hash tag symbol\n",
    "\n",
    "# You can write anything in a comment and it is ignored by Python"
   ]
  },
  {
   "cell_type": "markdown",
   "metadata": {},
   "source": [
    "#### Exercise: Comments\n",
    "1. Create a bunch of comments and try it out! Interleave the comments with code. \n",
    "2. For this code:\n",
    "```python\n",
    "years = 1\n",
    "months = years * 12\n",
    "days = months * 30\n",
    "hours = days * 24\n",
    "minutes = hours * 60\n",
    "seconds = minutes * 60\n",
    "```\n",
    "add comments explaining what the code does **as a whole**, not for each line. *Hint: the variable names are helpful.*"
   ]
  },
  {
   "cell_type": "markdown",
   "metadata": {},
   "source": [
    "## CONTROL FLOW\n",
    "\n",
    "So far, programs executed line by line: For instance,\n",
    "```python\n",
    "x = 3\n",
    "y = 4\n",
    "l = x * x + y * y\n",
    "```\n",
    "will set variable x to 3 and then y to 4, and then calculate l. The program moves from top to bottom. What happens if we want to only execute a line under certain conditions. Or what happens if we want to repeat a line over and over. We need **Control flow**."
   ]
  },
  {
   "cell_type": "markdown",
   "metadata": {},
   "source": [
    "### IF - ELIF - ELSE\n",
    "\n",
    "If - Elif- Else blocks help control which lines of code is execute. They use boolean values to decide which lines of code are evaluated. When the condition to execute the code is True, we carry out the If statement. Otherwise, we check any other conditions to execute the Elif Statement. If all the conditions are False, we carry out the Else statement. Let's try a few examples. "
   ]
  },
  {
   "cell_type": "markdown",
   "metadata": {},
   "source": [
    "Let's see if we can influence what code is executed. What do you think will be printed out below?"
   ]
  },
  {
   "cell_type": "code",
   "execution_count": 9,
   "metadata": {},
   "outputs": [
    {
     "name": "stdout",
     "output_type": "stream",
     "text": [
      "Hi\n"
     ]
    }
   ],
   "source": [
    "b = True\n",
    "if b:\n",
    "    print(\"Hi\")\n",
    "else:\n",
    "    print(\"Bye\")"
   ]
  },
  {
   "cell_type": "markdown",
   "metadata": {},
   "source": [
    "There are two types of booleans: True and False. Can you infer how to make the above code print \"Bye\"?"
   ]
  },
  {
   "cell_type": "markdown",
   "metadata": {},
   "source": [
    "Can we try replacing b with False? Let's do an assignment statement to see what happens:"
   ]
  },
  {
   "cell_type": "code",
   "execution_count": 10,
   "metadata": {},
   "outputs": [
    {
     "name": "stdout",
     "output_type": "stream",
     "text": [
      "Bye\n"
     ]
    }
   ],
   "source": [
    "b = False\n",
    "if b:\n",
    "    # Inside If statement\n",
    "    print(\"Hi\")\n",
    "else:\n",
    "    # Inside Else statement\n",
    "    print(\"Bye\")"
   ]
  },
  {
   "cell_type": "markdown",
   "metadata": {},
   "source": [
    "If-else statements are interesting. They allow us to alter flow of the program in run time. The behavior is straightforward: we check the value of b, which we call the guard. If b is true, then we execute the statements inside of the if statement, where the \"inside if statement indicates\". We then skip the else statement. Otherwise, if b were False, we completely skip over the if statement and go the else statement. We would execute the statements in the else statement instead. \n",
    "\n",
    "But what if want to have multiple branches? Say what happens if we want to do something when x > 0, something else when x = 0 and lastly, something when x < 0:"
   ]
  },
  {
   "cell_type": "code",
   "execution_count": 11,
   "metadata": {},
   "outputs": [
    {
     "name": "stdout",
     "output_type": "stream",
     "text": [
      "X is positive\n"
     ]
    }
   ],
   "source": [
    "x = 3\n",
    "if x < 0:\n",
    "    # Inside If Branch\n",
    "    print(\"X is negative\")\n",
    "elif x == 0:\n",
    "    # Inside Elif branch\n",
    "    print(\"X is 0\")\n",
    "else:\n",
    "    # Inside Else Branch\n",
    "    print(\"X is positive\")"
   ]
  },
  {
   "cell_type": "markdown",
   "metadata": {},
   "source": [
    "We add the elif statement in order to add additional branching behavior. The elif has another guard which checks the value in the guard, and if the value is true, we execute what is inside the elif statement. \n",
    "\n",
    "If is always required, but elif and else are not always required. We could have if and elif, and not have else, or we could have if and else alone.\n",
    "\n",
    "We can have multiple elif statements. For example, let us consider a variable named bank accouint. When back account is negative, we print \"We are bankrupt\". When bank account is 0, we print \"We have no money\". When bank account is less than 1000, we print \"We want more money\" and when bank account is greater than or equal to 1000, we print \"We have enough money\"\n",
    "\n",
    "Try changing the value of bank_account to get different printed values."
   ]
  },
  {
   "cell_type": "code",
   "execution_count": 12,
   "metadata": {},
   "outputs": [
    {
     "name": "stdout",
     "output_type": "stream",
     "text": [
      "We want more money\n"
     ]
    }
   ],
   "source": [
    "bank_account = 200\n",
    "if bank_account < 0:\n",
    "    print(\"We are bankrupt\")\n",
    "elif bank_account == 0:\n",
    "    print(\"We have no money\")\n",
    "elif bank_account < 1000:\n",
    "    print(\"We want more money\")\n",
    "else:\n",
    "    print(\"We have enough money.\")"
   ]
  },
  {
   "cell_type": "markdown",
   "metadata": {},
   "source": [
    "#### Exercise: If - Elif- Else\n",
    "1. Make an if-elif-else expression that prints(\"I am age 10!\") if a variable age = 10 is True, and if age is 20, prints \"I am age 20\". Otherwise print \"I am not age 10 or age 20.\n",
    "2. Change the above example of the bank account so that when bank_account is greater than 1000000, prints \"I am a Millionare\". Make sure to check that the booleans are coorect by testing different values for bank_account"
   ]
  },
  {
   "cell_type": "markdown",
   "metadata": {},
   "source": [
    "### Repetition - Loops\n",
    "What happens if we want to repeat our code 3 times in a row? Or how about repeat until we get a variable is larger than 10?\n",
    "We need repetition. Python provides two simple constructs for repetition: the For Loop,  and the While Loop. For loops terminate after a specified number of iterations; while loop terminate after a condition is reached."
   ]
  },
  {
   "cell_type": "markdown",
   "metadata": {},
   "source": [
    "#### FOR LOOPS:\n",
    "Let's have our code print out \"hi\" 3 times in a row. Because we have a specified number of iterations, we can use a for loop. "
   ]
  },
  {
   "cell_type": "code",
   "execution_count": 13,
   "metadata": {},
   "outputs": [
    {
     "name": "stdout",
     "output_type": "stream",
     "text": [
      "Hi\n",
      "Hi\n",
      "Hi\n"
     ]
    }
   ],
   "source": [
    "for i in range(3):\n",
    "    print(\"Hi\")"
   ]
  },
  {
   "cell_type": "markdown",
   "metadata": {},
   "source": [
    "Notice the format: we have the for opening the statement, in range(3), where 3 is the number of iterations. Inside, we print(\"HI\") 3 times."
   ]
  },
  {
   "cell_type": "markdown",
   "metadata": {},
   "source": [
    "#### Exercise: For Loops\n",
    "1. Can you make a for loop which prints your name out 10 times?\n",
    "2. Combine a for loop and an if statement like this:\n",
    "```python\n",
    "for i in range(100):\n",
    "    if i == 1:\n",
    "        print(i)\n",
    "```\n",
    "Now change the above example so that it prints every number that is less than 20\n",
    "Also, print every number that is greater than 80.\n",
    "3. Use a for loop and an if-elif-else statement. Iterate over the first 100 integers Print \"3\" when the number is 3 and print '5' when the number is 5 and for all other numbers print \"Not 3 or 5\""
   ]
  },
  {
   "cell_type": "markdown",
   "metadata": {},
   "source": [
    "We can further work with for loops without specifying a range. Whenever we have a container type, such as a list or a string, we can use the for loop to unpack the elements and iterate over. Let's examine with a list:"
   ]
  },
  {
   "cell_type": "code",
   "execution_count": 15,
   "metadata": {},
   "outputs": [
    {
     "name": "stdout",
     "output_type": "stream",
     "text": [
      "1\n",
      "2\n",
      "3\n",
      "4\n",
      "5\n",
      "6\n"
     ]
    }
   ],
   "source": [
    "lst = [1, 2, 3, 4, 5, 6]\n",
    "for n in lst:\n",
    "    print(n)"
   ]
  },
  {
   "cell_type": "markdown",
   "metadata": {},
   "source": [
    "Notice we do not have to use range here. In fact, range actually creates a list. For example, range(3) equals the list [0, 1, 2], ending before 3. So when we do range(n), we really mean we iterate over a list with n elements, starting at 0 and ending at n - 1. _As an aside, range actually does not create a list immediately; it uses lazy evaluation to defer getting each element of the list until that element is needed._ \n",
    "\n",
    "### WHILE LOOPS\n",
    "\n",
    "With all this in mind, we can now iterate for a specified amount of iterations. How about iterating until I enter Yes? Can we go on for an indefinite amount of time before ending the iteration? Yes, we can do this with a while loop. The while loop below will run forever until you type in \"Yes\". Try it!"
   ]
  },
  {
   "cell_type": "code",
   "execution_count": null,
   "metadata": {},
   "outputs": [],
   "source": [
    "s = \"\"\n",
    "while (s != \"yes\"):\n",
    "    s = input(\"Type Yes to end \")\n",
    "    s = s.lower().strip()"
   ]
  },
  {
   "cell_type": "markdown",
   "metadata": {},
   "source": [
    "It can be confusing to know when to use a while loop versus using a for loop. Let's consider several situations. \n",
    "\n",
    "#### Exercise: While Loops\n",
    "1. Would you use a for loop or while loop when waiting for a button press from the user?\n",
    "How about when iterating over a string, and considering several elements at a time?\n",
    "How about a iteration of a list, except you are doing operations from both ends of the list?\n",
    "provide your explanations: there could many right answers with different justifications.\n",
    "\n",
    "2. Use a while loop to print out your name 100 times in a row:\n",
    "Here is a starter code block:\n",
    "```python\n",
    "i = 0\n",
    "while (i < 100):\n",
    "    # your code goes here\n",
    "    i = i + 1 # this increases i by one so we do not loop forever\n",
    "```\n",
    "3. Use the for loop above without range to print out every element in this list\n",
    "```python\n",
    "lst = [\"Hi\", \"My\", \"Name\", \"Is\", \"Steve\"]\n",
    "```\n",
    "Then do the same thing with a while loop. You might find it helpful to have this framework, where i is the index of the list, remembering to start from **0**. Note that len() finds the length of the list, so \n",
    "```python\n",
    "len(lst)\n",
    "```\n",
    "is 5 for the above example. \n",
    "```python\n",
    "len([])\n",
    "```\n",
    "is 0, because an empty list has no elements\n",
    "The framework:\n",
    "```python\n",
    "i = 0\n",
    "while i < len(lst):\n",
    "    # your code here\n",
    "    ...\n",
    "    i = i + 1\n",
    "```\n",
    "4. Again, using the same list above\n",
    "```python\n",
    "lst = [\"Hi\", \"My\", \"Name\", \"Is\", \"Steve\"]\n",
    "```\n",
    "use a for loop to collect the all the elements of the list is a single string. Use concatenation to combine strings. Remember to add spaces between words in the list.\n",
    "\n",
    "Also, repeat with a while loop. Print out the string to verify your results. Try chaing the lst by adding elements and seeing if your code still works. You can use \n",
    "```python\n",
    "len()\n",
    "```\n",
    "to find the length of a list. For example, with a lst of unknown length, you could use a for loop with len like this:\n",
    "\n",
    "```python\n",
    "for i in range(len(lst)):\n",
    "    # your code\n",
    "    ...\n",
    "```\n",
    "5. Combine a while loop and an if statement to print out \"hello\" if a number in a number in the first 100 integers is equal to 5.\n",
    "\n"
   ]
  },
  {
   "cell_type": "markdown",
   "metadata": {},
   "source": [
    "## Functions:\n",
    "At the heart of programming is functions. Functions are one of the ways we resuse code without copy and pasting. Functions help us map an input to a known output, and are thus predictable, With code reuse and predictability, we can have an easier time reasoning that our code is correct. This means less bugs! \n",
    "\n",
    "What is a function example though? Consider a function that adds the numbers in a list. Let's see this in action."
   ]
  },
  {
   "cell_type": "code",
   "execution_count": 16,
   "metadata": {},
   "outputs": [
    {
     "name": "stdout",
     "output_type": "stream",
     "text": [
      "55\n"
     ]
    }
   ],
   "source": [
    "def sum_list(lst):\n",
    "    \"\"\"\n",
    "    Sums the numbers in lst\n",
    "    lst is a list of ints\n",
    "    Returns the sum\n",
    "    \"\"\"\n",
    "    total = 0\n",
    "    for n in lst:\n",
    "        total = total + n\n",
    "    return total\n",
    "\n",
    "n = 10\n",
    "print(sum_list(range(n + 1)))"
   ]
  },
  {
   "cell_type": "markdown",
   "metadata": {},
   "source": [
    "Cool! Seems to work well. We can sum up the list. *Try chaning the value of n to see.* \n",
    "\n",
    "Here, we learned two things: How to write the function, which begins at the \"def\" statement and ends with a \"return\" if we choose to return a value [we could omit the return if we do not return anything]. We also learn how to \"call\" the function. We call the function on the list created by range, and the function spits out an answer. \n",
    "\n",
    "When you are the user of a function, You could imagine the function as a blackbox where magically, the right answer comes out. For instance, there is a function in Python called sum that does what we did above. All we have to know as the user is what sum does. We do not need to know what happens inside of sum. \n",
    "\n",
    "But when we implement the function, we have to think to follow a specification: the guidelines and rules of what the user wants. We must make sure that the user gets their intended result. \n",
    "\n",
    "Notice the specification above. It is in docstrings, or the \"\"\" ... \"\"\" section of quotes. It is treated like a comment and is not executed by Python. But it tells the user exactly what the function will do.\n",
    "\n",
    "Let's try writing some specifications, calling some functions, and finally implementing some functions with specifications. These will be very useful skills later on, so master them now.\n",
    "\n",
    "#### Exercise: Function Specifications"
   ]
  },
  {
   "cell_type": "code",
   "execution_count": 18,
   "metadata": {},
   "outputs": [],
   "source": [
    "# Give the Specifications for the functions below: e.g. tell me what the function does\n",
    "# Feel free to try values in the functions to see what they do\n",
    "# Append adds on elements to the end of the list\n",
    "def add_1(n):\n",
    "    \"\"\"\n",
    "    Fill in the Specification: Remember to give types and return values\n",
    "    \"\"\"\n",
    "    return n + 1\n",
    "\n",
    "\n",
    "def mult(x, y):\n",
    "    \"\"\"\n",
    "    Fill in the Specification: Remember to give types and return values\n",
    "    \"\"\"\n",
    "    return x * y\n",
    "\n",
    "def rep(s, n):\n",
    "    \"\"\"\n",
    "    Fill in the Specification: Remember to give types and return values\n",
    "    \"\"\"\n",
    "    lst = []\n",
    "    for i in range(n):\n",
    "        lst.append(s)\n",
    "    return lst\n",
    "\n",
    "def harder(n, lst):\n",
    "    \"\"\"\n",
    "    Fill in the Specification: Remember to give types and return values\n",
    "    Here, lst is a lst of Ints\n",
    "    \"\"\"\n",
    "    i = 0\n",
    "    while (i != len(lst)):\n",
    "        lst[i] = lst[i] + 1\n",
    "        i += 1\n",
    "    return lst\n",
    "\n",
    "def return_nothing(s):\n",
    "    \"\"\"\n",
    "    Fill in the Specification: \n",
    "    This is an example of a function with no return value!! Returns are not always needed\n",
    "    and so this function has no return. Instead, it returns the None type, \n",
    "    whicn you do not need to know about\n",
    "    \"\"\"\n",
    "    print(s)\n",
    "    print(\"I printed S, I do nothing\")\n",
    "\n",
    "        \n",
    "    "
   ]
  },
  {
   "cell_type": "markdown",
   "metadata": {},
   "source": [
    "#### Exercise: Calling Functions\n",
    "1. Call the function len() which we talked about with lsts earlier. Len() finds the length of the list\n",
    "2. Call the function mult_2 on a list of ints; you should create the list your self. Also, print out the result of the function by saving the function call to a variable twos and then printing twos"
   ]
  },
  {
   "cell_type": "code",
   "execution_count": 21,
   "metadata": {},
   "outputs": [],
   "source": [
    "# Calling Functions exercise\n",
    "# Find the length of the list lst\n",
    "lst = [1, 2, 4, \"hello\", [2, 3], 7]\n",
    "\n",
    "# use mult_2 to double elements in a list\n",
    "def mult_2(lst):\n",
    "    \"\"\"\n",
    "    mult_2(lst) doubles the elements in lst\n",
    "    Returns a list of integers\n",
    "    lst is a lst of integers\n",
    "    \"\"\"\n",
    "    new_lst = []\n",
    "    for n in lst:\n",
    "        new_lst.append(n * 2)\n",
    "    return new_lst"
   ]
  },
  {
   "cell_type": "markdown",
   "metadata": {},
   "source": [
    "Functions can have multiple arguments; For example, consider a function that adds two numbers together:\n",
    "def add (x, y):\n",
    "    return x + y\n",
    "    \n",
    "In general, you can have as many function arguments as you want. "
   ]
  },
  {
   "cell_type": "code",
   "execution_count": 24,
   "metadata": {},
   "outputs": [
    {
     "name": "stdout",
     "output_type": "stream",
     "text": [
      "5\n"
     ]
    }
   ],
   "source": [
    "def add (x, y):\n",
    "    \"\"\"\n",
    "    adds x and y and returns the sum \n",
    "    \"\"\"\n",
    "    return x + y\n",
    "\n",
    "print(add(2, 3))"
   ]
  },
  {
   "cell_type": "markdown",
   "metadata": {},
   "source": [
    "#### Exercise: Fill in the Function\n",
    "1. Write a function that adds n to a number x. the function returns the sum. X and N are ints, and so the function has 2 arguments\n",
    "\n",
    "2. Write a function that takes in a list and prints out all the elements of the list., There is only one argument, the list of integers. Use a for loop and len(). There is no return needed\n",
    "\n",
    "3. Write a function that takes in a list and prints out all numbers greater than 40. There is only one argument, the list of integers. Use a for loop and len(). There is no return needed\n",
    "\n",
    "4. Write a function that takes in a list of strings, and if one of the strings is 'Hello World!' returns True, otherwise returning False. The list of strings can be empty. \n"
   ]
  },
  {
   "cell_type": "code",
   "execution_count": 29,
   "metadata": {},
   "outputs": [],
   "source": [
    "# Fill in the function\n",
    "def add_n(x, n):\n",
    "    # add a specification\n",
    "    pass # delete pass and fill in your code here\n",
    "    # add a return statement\n",
    "    \n",
    "def print_list(lst):\n",
    "    pass # delete pass and fill in your code here\n",
    "\n",
    "def print_greater(lst):\n",
    "    pass # delete pass and fill in your code here\n",
    "\n",
    "def hello_world(lst):\n",
    "    pass # delete pass and fill in your code here\n",
    "    # add a return statement"
   ]
  },
  {
   "cell_type": "markdown",
   "metadata": {},
   "source": [
    "So how are functions good for code reuse? Consider this code:\n",
    "```python\n",
    "s1 = \"Steven\"\n",
    "s1.lower().strip()\n",
    "s1 += \" \"\n",
    "s2 += \"Says Hi\"\n",
    "\n",
    "s2 = \"Jane\"\n",
    "s2.lower().strip()\n",
    "s2 += \" \"\n",
    "s2 += \"Says Hi!\"\n",
    "```\n",
    "\n",
    "Notice the lower and the strip are repeated over and over, then the appending to the string is also repeated. We could turn this into its own function."
   ]
  },
  {
   "cell_type": "code",
   "execution_count": 26,
   "metadata": {},
   "outputs": [
    {
     "name": "stdout",
     "output_type": "stream",
     "text": [
      "Steven Says Hi!\n",
      "Jane Says Hi!\n"
     ]
    }
   ],
   "source": [
    "s1 = \"Steven\"\n",
    "s1.lower().strip()\n",
    "s1 += \" \"\n",
    "s1 += \"Says Hi!\"\n",
    "print(s1)\n",
    "\n",
    "s2 = \"Jane\"\n",
    "s2.lower().strip()\n",
    "s2 += \" \"\n",
    "s2 += \"Says Hi!\"\n",
    "print(s2)"
   ]
  },
  {
   "cell_type": "markdown",
   "metadata": {},
   "source": [
    "Instead, we have this function with the same result!"
   ]
  },
  {
   "cell_type": "code",
   "execution_count": 27,
   "metadata": {},
   "outputs": [
    {
     "name": "stdout",
     "output_type": "stream",
     "text": [
      "Steven Says Hi!\n",
      "Jane Says Hi!\n"
     ]
    }
   ],
   "source": [
    "def says_hi(name):\n",
    "    \"\"\"\n",
    "    Makes name say hi!\n",
    "    Returns name with says hi! appending\n",
    "    Returns String\n",
    "    Requires: name is a string\n",
    "    \"\"\"\n",
    "    name.lower().strip()\n",
    "    name += \" \"\n",
    "    name += \"Says Hi!\"\n",
    "    return name\n",
    "\n",
    "s1 = \"Steven\"\n",
    "s2 = \"Jane\"\n",
    "print(says_hi(s1))\n",
    "print(says_hi(s2))"
   ]
  },
  {
   "cell_type": "markdown",
   "metadata": {},
   "source": [
    "Let's try some examples to reduce code being copy and pasting (which is a big source of computer bugs) and instead write some functions to increase code reuse. For the examples below, write your own functions to abstract away some functionality into a function that can be reused.\n",
    "\n",
    "#### Exercise: Code Reuse with Functions"
   ]
  },
  {
   "cell_type": "code",
   "execution_count": 28,
   "metadata": {},
   "outputs": [
    {
     "name": "stdout",
     "output_type": "stream",
     "text": [
      "start\n",
      "0\n",
      "1\n",
      "2\n",
      "3\n",
      "4\n",
      "5\n",
      "6\n",
      "7\n",
      "8\n",
      "9\n",
      "10\n",
      "11\n",
      "12\n",
      "13\n",
      "14\n",
      "15\n",
      "16\n",
      "17\n",
      "18\n",
      "19\n",
      "20\n",
      "21\n",
      "22\n",
      "23\n",
      "24\n",
      "25\n",
      "26\n",
      "27\n",
      "28\n",
      "29\n",
      "30\n",
      "31\n",
      "32\n",
      "33\n",
      "34\n",
      "35\n",
      "36\n",
      "37\n",
      "38\n",
      "39\n",
      "40\n",
      "41\n",
      "42\n",
      "43\n",
      "44\n",
      "45\n",
      "46\n",
      "47\n",
      "48\n",
      "49\n",
      "Halfway\n",
      "50\n",
      "51\n",
      "52\n",
      "53\n",
      "54\n",
      "55\n",
      "56\n",
      "57\n",
      "58\n",
      "59\n",
      "60\n",
      "61\n",
      "62\n",
      "63\n",
      "64\n",
      "65\n",
      "66\n",
      "67\n",
      "68\n",
      "69\n",
      "70\n",
      "71\n",
      "72\n",
      "73\n",
      "74\n",
      "75\n",
      "76\n",
      "77\n",
      "78\n",
      "79\n",
      "80\n",
      "81\n",
      "82\n",
      "83\n",
      "84\n",
      "85\n",
      "86\n",
      "87\n",
      "88\n",
      "89\n",
      "90\n",
      "91\n",
      "92\n",
      "93\n",
      "94\n",
      "95\n",
      "96\n",
      "97\n",
      "98\n",
      "99\n",
      "start\n",
      "0\n",
      "1\n",
      "2\n",
      "3\n",
      "4\n",
      "5\n",
      "6\n",
      "7\n",
      "8\n",
      "9\n",
      "10\n",
      "11\n",
      "12\n",
      "13\n",
      "14\n",
      "15\n",
      "16\n",
      "17\n",
      "18\n",
      "19\n",
      "20\n",
      "21\n",
      "22\n",
      "23\n",
      "24\n",
      "25\n",
      "26\n",
      "27\n",
      "28\n",
      "29\n",
      "30\n",
      "31\n",
      "32\n",
      "33\n",
      "34\n",
      "35\n",
      "36\n",
      "37\n",
      "38\n",
      "39\n",
      "40\n",
      "41\n",
      "42\n",
      "43\n",
      "44\n",
      "45\n",
      "46\n",
      "47\n",
      "48\n",
      "49\n",
      "50\n",
      "51\n",
      "52\n",
      "53\n",
      "54\n",
      "55\n",
      "56\n",
      "57\n",
      "58\n",
      "59\n",
      "60\n",
      "61\n",
      "62\n",
      "63\n",
      "64\n",
      "65\n",
      "66\n",
      "67\n",
      "68\n",
      "69\n",
      "70\n",
      "71\n",
      "72\n",
      "73\n",
      "74\n",
      "75\n",
      "76\n",
      "77\n",
      "78\n",
      "79\n",
      "80\n",
      "81\n",
      "82\n",
      "83\n",
      "84\n",
      "85\n",
      "86\n",
      "87\n",
      "88\n",
      "89\n",
      "90\n",
      "91\n",
      "92\n",
      "93\n",
      "94\n",
      "95\n",
      "96\n",
      "97\n",
      "98\n",
      "99\n",
      "100\n",
      "101\n",
      "102\n",
      "103\n",
      "104\n",
      "105\n",
      "106\n",
      "107\n",
      "108\n",
      "109\n",
      "110\n",
      "111\n",
      "112\n",
      "113\n",
      "114\n",
      "115\n",
      "116\n",
      "117\n",
      "118\n",
      "119\n",
      "120\n",
      "121\n",
      "122\n",
      "123\n",
      "124\n",
      "125\n",
      "126\n",
      "127\n",
      "128\n",
      "129\n",
      "130\n",
      "131\n",
      "132\n",
      "133\n",
      "134\n",
      "135\n",
      "136\n",
      "137\n",
      "138\n",
      "139\n",
      "140\n",
      "141\n",
      "142\n",
      "143\n",
      "144\n",
      "145\n",
      "146\n",
      "147\n",
      "148\n",
      "149\n",
      "Halfway\n",
      "150\n",
      "151\n",
      "152\n",
      "153\n",
      "154\n",
      "155\n",
      "156\n",
      "157\n",
      "158\n",
      "159\n",
      "160\n",
      "161\n",
      "162\n",
      "163\n",
      "164\n",
      "165\n",
      "166\n",
      "167\n",
      "168\n",
      "169\n",
      "170\n",
      "171\n",
      "172\n",
      "173\n",
      "174\n",
      "175\n",
      "176\n",
      "177\n",
      "178\n",
      "179\n",
      "180\n",
      "181\n",
      "182\n",
      "183\n",
      "184\n",
      "185\n",
      "186\n",
      "187\n",
      "188\n",
      "189\n",
      "190\n",
      "191\n",
      "192\n",
      "193\n",
      "194\n",
      "195\n",
      "196\n",
      "197\n",
      "198\n",
      "199\n",
      "200\n",
      "201\n",
      "202\n",
      "203\n",
      "204\n",
      "205\n",
      "206\n",
      "207\n",
      "208\n",
      "209\n",
      "210\n",
      "211\n",
      "212\n",
      "213\n",
      "214\n",
      "215\n",
      "216\n",
      "217\n",
      "218\n",
      "219\n",
      "220\n",
      "221\n",
      "222\n",
      "223\n",
      "224\n",
      "225\n",
      "226\n",
      "227\n",
      "228\n",
      "229\n",
      "230\n",
      "231\n",
      "232\n",
      "233\n",
      "234\n",
      "235\n",
      "236\n",
      "237\n",
      "238\n",
      "239\n",
      "240\n",
      "241\n",
      "242\n",
      "243\n",
      "244\n",
      "245\n",
      "246\n",
      "247\n",
      "248\n",
      "249\n",
      "250\n",
      "251\n",
      "252\n",
      "253\n",
      "254\n",
      "255\n",
      "256\n",
      "257\n",
      "258\n",
      "259\n",
      "260\n",
      "261\n",
      "262\n",
      "263\n",
      "264\n",
      "265\n",
      "266\n",
      "267\n",
      "268\n",
      "269\n",
      "270\n",
      "271\n",
      "272\n",
      "273\n",
      "274\n",
      "275\n",
      "276\n",
      "277\n",
      "278\n",
      "279\n",
      "280\n",
      "281\n",
      "282\n",
      "283\n",
      "284\n",
      "285\n",
      "286\n",
      "287\n",
      "288\n",
      "289\n",
      "290\n",
      "291\n",
      "292\n",
      "293\n",
      "294\n",
      "295\n",
      "296\n",
      "297\n",
      "298\n",
      "299\n",
      "start\n",
      "0\n",
      "1\n",
      "2\n",
      "3\n",
      "4\n",
      "5\n",
      "Halfway\n",
      "6\n",
      "7\n",
      "8\n",
      "9\n",
      "10\n",
      "11\n"
     ]
    }
   ],
   "source": [
    "# Example 1: write a function to calculate z and r \n",
    "x = 3\n",
    "y = 4\n",
    "\n",
    "z = x * y\n",
    "z = z + 1\n",
    "z = z / 2\n",
    "z = z * z\n",
    "\n",
    "l = 2\n",
    "m = 3\n",
    "\n",
    "r = l * m\n",
    "r = r + 1\n",
    "r = r / 2\n",
    "r = r * r\n",
    "\n",
    "# Example 2: code reuse with loops\n",
    "# write One (1) function only that does what these three for loops below all do\n",
    "# The function should have one argument, an integer n. Assume that n is even\n",
    "# and state that assumption in the specification so that other uses know\n",
    "\n",
    "for i in range(100):\n",
    "    if i == 0:\n",
    "        print(\"start\")\n",
    "    if i == 100/2:\n",
    "        print(\"Halfway\")\n",
    "    print(i)\n",
    "    \n",
    "for j in range(300):\n",
    "    if j == 0:\n",
    "        print(\"start\")\n",
    "    if j == 300/2:\n",
    "        print(\"Halfway\")\n",
    "    print(j)\n",
    "\n",
    "for k in range(12):\n",
    "    if k == 0:\n",
    "        print(\"start\")\n",
    "    if k == 12/2:\n",
    "        print(\"Halfway\")\n",
    "    print(k)\n",
    "\n"
   ]
  },
  {
   "cell_type": "markdown",
   "metadata": {},
   "source": [
    "## Modules and APIs\n",
    "Modules are a way for developers to bundle code together. You import modules to use the functions inside. For example, the math module uhas tons of functions to use like sine, cosine, tangent, exponentials and much more. There are modules for virtually anything.\n",
    "\n",
    "But how do we know how to use the functions in the modules? We look it up in the API, which is  the documentation on how to use the module's functions.\n",
    "\n",
    "Let's try using the math module. Check out the Math module API here;\n",
    "https://docs.python.org/3/library/math.html\n",
    "\n",
    "To use the module, we use:\n",
    "```python\n",
    "import\n",
    "```\n",
    "a statement that copies the modules function in the workspace we are working in. Now we have those functions and can use them.Here, you can see we use the sin and exp function.\n",
    "\n",
    "Note that we call functions with the module, a dot, then the function.\n",
    "```python\n",
    "module.func(args)\n",
    "```"
   ]
  },
  {
   "cell_type": "code",
   "execution_count": 67,
   "metadata": {},
   "outputs": [
    {
     "name": "stdout",
     "output_type": "stream",
     "text": [
      "-0.9880316240928618\n",
      "2.6881171418161356e+43\n"
     ]
    }
   ],
   "source": [
    "import math\n",
    "print(math.sin(30))\n",
    "print(math.exp(100))"
   ]
  },
  {
   "cell_type": "markdown",
   "metadata": {},
   "source": [
    "But is sine in radians or degrees. It looks like radians since sin(30 degrees) is 0.5. If we did not know this, we would check out the API! \n",
    "\n",
    "#### Exercise: Modules and APIs\n",
    "1. Check out the JSON module. Read the API. What does Loads and Dumps do?\n",
    "2. Read the Numpy API. Try importing NUmpy into a cell with\n",
    "```python\n",
    "import numpy\n",
    "```\n",
    "Play around with the functions, and work with a numpy array. Numpy is very efficient for matrices and array calculations. For example, try \n",
    "```python\n",
    "numpy.zeros()\n",
    "```\n",
    "3. Check out the Matplotlib API. It hs tons of functions for plotting and graphing. If you are adventurous, use numpy to create two arrays and make a scatterplot of the Data. Even better, check out the random API, import random, make two lists of random numbers, and use Matplotlib to plot it\n",
    "\n",
    "You may have to run on the terminal:\n",
    "```bash\n",
    "pip install matplotlib\n",
    "```\n",
    "if matplotlib is not installed already.\n",
    "\n",
    "Here is a starter:\n",
    "```python\n",
    "import random\n",
    "import matplotlib.pyplot as plt # you can use plt instead of matplotlib.pyplot, which is hard # to type\n",
    "\n",
    "random_xs = []\n",
    "for i in range(100): # get first 100 random nums\n",
    "    n = random.randint(0, 100)\n",
    "    random_xs.append(n)\n",
    "    \n",
    "random_ys = []\n",
    "for i in range(100): # get second 100 random nums\n",
    "    n = random.randint(0, 100)\n",
    "    random_ys.append(n)\n",
    "\n",
    "# use plt to plot! read the API\n",
    "```\n"
   ]
  },
  {
   "cell_type": "markdown",
   "metadata": {},
   "source": [
    "## Classes and Object Oriented Programming"
   ]
  },
  {
   "cell_type": "markdown",
   "metadata": {},
   "source": [
    "You have seen functions being used to reuse code. Now, you will learn about classes. Classes are another way to reduce code, and are central to object oreinted programming. A class is really a blueprint for an object. For example, consider an architect's blueprint. It represents a \"class\" of houses, but is not a house itself. To instantiate the 'class', we built an actual house. So the house is an **object**, while the **class** is the blueprint the house.\n",
    "\n",
    "Below, we will define a class for a sensor. The sensor will have a variable noting whether it is activated or not. We call the variable (or **attribute**) active. The sensor starts inactive, so we set active to False.\n",
    "\n",
    "Here is an example of a class: The class of humans. Humanity is a blueprint, since it is a general concept. Each human is an object of the class. **Attributes** are literally the characteristics of an object. So, our name, age, and year of school are attributes. \n",
    "\n",
    "Consider the class below. IT is a class for sensors. An instance of the class Sensor is a specific sensor. Now run the class the below and take note of the different parts of the class. \n",
    "\n",
    "Several things to note as you look through the syntax.\n",
    "1. The syntax for a class begins with the word \"class\" and is followed by the name, here, Sensor.\n",
    "2. The **__init__** function is a **constructor** for the class: it is responsible for building an object of the type class. So for example, if we were the architect, to create a house, we would call the init function\n",
    "3. To create the object, we do not call __init__, but we call the name of the class, Sensor. So use \n",
    "```python\n",
    "Sensor() \n",
    "```\n",
    "rather than __init__.\n",
    "4. Self represents the object. It is the _name_ of the object. For example, the address of the house that the architect builds would be the **self** for the house. Self allows for referencing the object just like the address of your home allows people to know where you live.\n",
    "5. In the cell after, I have created a sensor object in variable s. Self is not needed as an argument to the constructor, so there are no arguments in the function call"
   ]
  },
  {
   "cell_type": "code",
   "execution_count": 73,
   "metadata": {},
   "outputs": [],
   "source": [
    "class Sensor:\n",
    "    \"\"\"\n",
    "    Sensor represents a sensor object\n",
    "    \n",
    "    Active is the activity of the sensor: True if on, false if false\n",
    "    \"\"\"\n",
    "    def __init__(self):\n",
    "        self.active = False"
   ]
  },
  {
   "cell_type": "code",
   "execution_count": 74,
   "metadata": {},
   "outputs": [],
   "source": [
    "s = Sensor()"
   ]
  },
  {
   "cell_type": "markdown",
   "metadata": {},
   "source": [
    "And here is a sensor! You instantiated a sensor which you can maninpulate! But this sensor does not do much right now. You cannot turn it on. Let's add a method to turn on the sensor so that it can sense actions.\n",
    "\n",
    "We extend the class with a **method**. A **method** is a function that resides in a class. It manipulates an object of the class. Here, we want a method to turn the Sensor on. Naturally, the method must know which object to change; it needs a reference much like the address to your home. Thus, it needs to have self as an argument. In general, all methods of a class need self as an argument to be able to manipulate the objects of that class.\n",
    "\n",
    "So we create a method named turn_on, which has one argument self. It changes the **attribute** of self, active, to be True, representing on. Notice that the specification for the method follows the specification for the class, saying that active is true if the sensor is on. Also, the method does not return a value. This is ok, because self is set properly, which is what we want the method to do."
   ]
  },
  {
   "cell_type": "code",
   "execution_count": 36,
   "metadata": {},
   "outputs": [],
   "source": [
    "class Sensor:\n",
    "    \"\"\"\n",
    "    Sensor represents a sensor object\n",
    "    \n",
    "    Active is the activity of the sensor: True if on, false if false\n",
    "    \"\"\"\n",
    "    def __init__(self):\n",
    "        self.active = False\n",
    "        \n",
    "    def turn_on(self):\n",
    "        \"\"\"\n",
    "        turn_on(self) turns on the sensor\n",
    "        \"\"\"\n",
    "        self.active = True"
   ]
  },
  {
   "cell_type": "markdown",
   "metadata": {},
   "source": [
    "Let's turn the sensor on now! We create an object s of class Sensor and we call turn_on on s. Notice that we need an argument for turn_on, and turn_on is not a constructor, so we cannot ignore self. Instead, we call the method like this: \n",
    "```python\n",
    "s.turn_on()\n",
    "```\n",
    "For method calls, we call methods in this fashion: \n",
    "```python\n",
    "object.method(additional args)\n",
    "```\n",
    "This is different from function calls, where we never do \n",
    "```python\n",
    "arg.func()\n",
    "```\n",
    "but we do \n",
    "```python\n",
    "func(arg)\n",
    "```\n",
    "You can remember the difference by knowing that methods belong to classes, and are special, while functions do not belong to the class you made."
   ]
  },
  {
   "cell_type": "code",
   "execution_count": 37,
   "metadata": {},
   "outputs": [],
   "source": [
    "s = Sensor()\n",
    "s.turn_on()"
   ]
  },
  {
   "cell_type": "markdown",
   "metadata": {},
   "source": [
    "#### Exercise: Class\n",
    "1. You've turned on the sensor! But we can do more. Try adding some other attributes and methods to the sensor. For example, make a method that prints(\"Sensor is on.\") if the sensor is active and otherwise prints(\"Sensor is off.\")\n",
    "\n",
    "2. Also, try adding an attribute that to represent the name of the sensor., Think of an appropriate type for this attribute and document it in the specificaiton. Make a method to print out the name of the sensor and test it out. To create an attribute, you can go to __init__ and add another line self.<attribute> = ... wherre attribute is the name you give to the attribute. For example, we have <attribute> = active in the above example.\n",
    "    \n",
    "3. Create a class representing a student: each student instance should have an age, a name, the year in school, gender and favorite food. This means the class has five attributes. Here is a template for the class you can use:\n",
    "```python\n",
    "class Student:\n",
    "    def __init__(self, name):\n",
    "        self.name = name\n",
    "        # add other attributes\n",
    "```\n",
    "Then create a student object. Make sure you have enough arguments in the constructor; not including self, there should be 5 arguments for the 5 attributes, and so when you call the function, you need 5 arguments.\n",
    "\n",
    "4. Create a class representing a bank account. It should have attributes of the amount of money, the id of the bank account and the bank's name. Here is a template:\n",
    "```python\n",
    "class Bank_Account:\n",
    "    def __init__(self, amount):\n",
    "        self.amount = amount\n",
    "        # add other attributes\n",
    "```\n",
    "\n",
    "5. As a challenge, add a method to print out the amount of money in the bank. Return that amount. This is called a **getter** method since it gets an attribute.\n",
    "\n",
    "6. As a challenge, add a method to change the amount of money in the bank by d dollars. Return the new changed amount. This is called a **setter** method since it changes the value of the attribute."
   ]
  },
  {
   "cell_type": "markdown",
   "metadata": {},
   "source": [
    "### Using Classes\n",
    "Using classes can be very helpful. We can use classes in different ways. For example, if we want a class full of students, we can create a list of student objects, We could then manipulate the student objects; for example, we could change each student's grade attribute."
   ]
  },
  {
   "cell_type": "code",
   "execution_count": 42,
   "metadata": {},
   "outputs": [
    {
     "name": "stdout",
     "output_type": "stream",
     "text": [
      "The grade for this student is A\n",
      "The grade for this student is A\n",
      "The grade for this student is A\n",
      "The grade for this student is A\n",
      "The grade for this student is A\n",
      "The grade for this student is A\n",
      "The grade for this student is A\n",
      "The grade for this student is A\n",
      "The grade for this student is A\n",
      "The grade for this student is A\n",
      "The grade for this student is B\n",
      "The grade for this student is B\n",
      "The grade for this student is B\n",
      "The grade for this student is B\n",
      "The grade for this student is B\n",
      "The grade for this student is B\n",
      "The grade for this student is B\n",
      "The grade for this student is B\n",
      "The grade for this student is B\n",
      "The grade for this student is B\n"
     ]
    }
   ],
   "source": [
    "class Student:\n",
    "    \"\"\"\n",
    "    Student represents a student object\n",
    "    grade is the grade of a student, and is a string, e.g. 'A'\n",
    "    \"\"\"\n",
    "    def __init__(self, grade):\n",
    "        self.grade = grade\n",
    "    \n",
    "    def change_grade(self, new_grade):\n",
    "        self.grade = new_grade\n",
    "    \n",
    "    # __repr__ is a representation of the object, you do not need to know this\n",
    "    def __repr__(self):\n",
    "        return (\"The grade for this student is \" + self.grade)\n",
    "        \n",
    "student_list = [] # list of students\n",
    "for i in range(10): # create 10 students\n",
    "    student_list.append(Student('A'))\n",
    "    \n",
    "for i in range(10): # get initial grades\n",
    "    print(student_list[i])\n",
    "    \n",
    "for i in range(10):\n",
    "    student_list[i].change_grade('B') # change all students to grade B\n",
    "    \n",
    "for i in range(10): # get changed grades\n",
    "    print(student_list[i])"
   ]
  },
  {
   "cell_type": "markdown",
   "metadata": {},
   "source": [
    "Above, you can see how the student's grades change based on our setting method change_grade. This type of interaction of methods chaning objects is typical in this project. In the Greenhouse project, you will be working with the classes that we create. You willcreate instances of the class, representing each sensor, and you will manipulate the sensors to read in input and turn on and turn off sensors. You will also get a chance to change the settings on the sensors as well, for example, like the power of a sensor. \n",
    "\n",
    "### Inheritance\n",
    "Why are classes good for code reuse? One of the examples is inheritance. Classes can inherit properties from parent classes. This means we do not have to duplicate code; the code from the parent class is implicitly given to the child class through inheritance. While we will not cover this in detail, we will demonstrate an example, with the Sensor class.\n",
    "\n",
    "The Sensor class represents a broad spectrum of sensors. A child of the sensor class is a specific type of sensor, for example, the class of light sensors. It inherits the attribute active, and gains a new attribute, the light intensity. It also inherits from the parent Sensor class, the turn_on method. We add a new method in the Light Sensor Class, the method change_intensity.\n",
    "\n",
    "Note the syntax of subclasses (child classes), where we wrap the Parent class in parenthesis:\n",
    "```python\n",
    "class Child(Parent):\n",
    "    pass\n",
    "```\n",
    "\n",
    "Also note how we use code reuse: we call\n",
    "```python\n",
    "super()\n",
    "```\n",
    "which allows us to call the superclass method (the parent class method). So When we call \n",
    "```python\n",
    "super().__init__\n",
    "```\n",
    "it calls the parent constructor for Light Sensor, or the Sensor Constructor. This way, I do not need self.active inside Light Sensor."
   ]
  },
  {
   "cell_type": "code",
   "execution_count": 57,
   "metadata": {},
   "outputs": [],
   "source": [
    "class Sensor:\n",
    "    \"\"\"\n",
    "    Sensor represents a sensor object\n",
    "    \n",
    "    Active is the activity of the sensor: True if on, false if false\n",
    "    \"\"\"\n",
    "    def __init__(self):\n",
    "        self.active = False\n",
    "        \n",
    "    def turn_on(self):\n",
    "        \"\"\"\n",
    "        turn_on(self) turns on the sensor\n",
    "        \"\"\"\n",
    "        self.active = True\n",
    "    \n",
    "    def __repr__(self):\n",
    "        return str(self.active) # turn self.active boolean into string\n",
    "        \n",
    "class LightSensor(Sensor):\n",
    "    \"\"\"\n",
    "    LightSensor represents a light sensor object\n",
    "    \n",
    "    intensity is the activity of the sensor: it is an int between 0 and 100\n",
    "    \"\"\"\n",
    "    def __init__(self):\n",
    "        super().__init__()\n",
    "        self.intensity = 0\n",
    "        \n",
    "    def change_intensity(self, change):\n",
    "        \"\"\"\n",
    "        change_intensity(self, change) changes the current intensity of the light sensor\n",
    "        by change amount\n",
    "        \"\"\"\n",
    "        self.intensity = self.intensity + change\n",
    "        \n",
    "    def __repr__(self):\n",
    "        return super().__repr__() + \" \" + str(self.intensity)"
   ]
  },
  {
   "cell_type": "code",
   "execution_count": 58,
   "metadata": {},
   "outputs": [
    {
     "data": {
      "text/plain": [
       "'True 24'"
      ]
     },
     "execution_count": 58,
     "metadata": {},
     "output_type": "execute_result"
    }
   ],
   "source": [
    "ls = LightSensor()\n",
    "ls.change_intensity(24)\n",
    "ls.turn_on()\n",
    "str(ls)"
   ]
  },
  {
   "cell_type": "markdown",
   "metadata": {},
   "source": [
    "We see that the Light Sensor intensity changed, and that it is on! \n",
    "\n",
    "The class hierarchy is very useful; by adding inheritance, we allow for code resuse. Class and subclasses are used everywhere, and in this project, the classes for sensors and peripherals will be subclasses of another parent class.\n",
    "\n",
    "#### Exercise: Inheritance\n",
    "1. Make a parent class human with attribute name and make a subclass Student with attribute student_id.\n",
    "2. Extend the Sensor parent class above with another sensor, a humidity sensor. Let the humidity sensor have attribute humidity, which is a positive integer. Here is a template:\n",
    "```python\n",
    "class HumiditySensor(Sensor):\n",
    "    def __init__(self, humidity):\n",
    "        super().__init__()\n",
    "        # set the attribute\n",
    "```\n",
    "3. Add two methods to the humidity sensor class, to increase adn decrease humidity by an amount n each time. \n",
    "4. Extend the ligh sensor class above to have another method, to shine the light sensor. Make the attribute shine be true when you shine the sensor. You will need to add an attribute shine along with the method. Also, add a method to turn off the sensor. Print out the result by creating a light sensor object and printing the object. For convenience, here is a repr function you can put in your class to print:\n",
    "```python\n",
    "    def __repr__(self):\n",
    "        return super().__repr__() + \" \" + str(self.intensity) + \" \" + str(self.shine)\n",
    "```"
   ]
  },
  {
   "cell_type": "markdown",
   "metadata": {},
   "source": [
    "## Debugging\n",
    "What happens when our program does not do what we want it to? We have to debug the bugs in the program. The process is like a puzzle. You can make an estimated guess of where the problem is and try to verify and fix the problem. To help come up with guesses for what the bug is, we can use different methods\n",
    "\n",
    "We have different ways to pin down where bugs are, such as printing. We can also test our code to reveal more bugs!\n",
    "\n",
    "For example in the code below, we cannot find out why we do not get the number 10 for i. We use print statements to see what is happening:"
   ]
  },
  {
   "cell_type": "code",
   "execution_count": 68,
   "metadata": {},
   "outputs": [
    {
     "name": "stdout",
     "output_type": "stream",
     "text": [
      "0\n",
      "1\n",
      "2\n",
      "3\n",
      "4\n",
      "5\n",
      "6\n",
      "7\n",
      "8\n",
      "9\n"
     ]
    }
   ],
   "source": [
    "for i in range(10):\n",
    "    # our code:\n",
    "    x = i + 1\n",
    "    y = x\n",
    "    # the print statement\n",
    "    print(i)"
   ]
  },
  {
   "cell_type": "markdown",
   "metadata": {},
   "source": [
    "Turns out we did not check the range(). We want range 11 to get the number 10. Print statements can be very helpful to isolate errors. In the next example, please try to find the errors and fix it.\n",
    "\n",
    "#### Exercise: Debugging"
   ]
  },
  {
   "cell_type": "code",
   "execution_count": 69,
   "metadata": {},
   "outputs": [
    {
     "name": "stdout",
     "output_type": "stream",
     "text": [
      "11\n",
      "12\n",
      "13\n",
      "14\n",
      "15\n",
      "16\n",
      "17\n",
      "18\n",
      "19\n",
      "20\n",
      "21\n",
      "22\n",
      "23\n",
      "24\n",
      "25\n",
      "26\n",
      "27\n",
      "28\n",
      "29\n",
      "30\n",
      "31\n",
      "32\n",
      "33\n",
      "34\n",
      "35\n",
      "36\n",
      "37\n",
      "38\n",
      "39\n",
      "40\n",
      "41\n",
      "42\n",
      "43\n",
      "44\n",
      "45\n",
      "46\n",
      "47\n",
      "48\n",
      "49\n",
      "50\n",
      "51\n",
      "52\n",
      "53\n",
      "54\n",
      "55\n",
      "56\n",
      "57\n",
      "58\n",
      "59\n",
      "60\n",
      "61\n",
      "62\n",
      "63\n",
      "64\n",
      "65\n",
      "66\n",
      "67\n",
      "68\n",
      "69\n",
      "70\n",
      "71\n",
      "72\n",
      "73\n",
      "74\n",
      "75\n",
      "76\n",
      "77\n",
      "78\n",
      "79\n",
      "80\n",
      "81\n",
      "82\n",
      "83\n",
      "84\n",
      "85\n",
      "86\n",
      "87\n",
      "88\n",
      "89\n",
      "90\n",
      "91\n",
      "92\n",
      "93\n",
      "94\n",
      "95\n",
      "96\n",
      "97\n",
      "98\n",
      "99\n"
     ]
    }
   ],
   "source": [
    "# prints \"hi\" when i >= 10\n",
    "# Does it work or can you fix the error?\n",
    "\n",
    "for i in range(100):\n",
    "    if i > 10:\n",
    "        print(i)"
   ]
  },
  {
   "cell_type": "markdown",
   "metadata": {},
   "source": [
    "## Testing\n",
    "Testing is a relatively cheap way to find and fix bugs. One could conceivably use loops and randomization to write millions of tests for certain programs. Yet, tests cannot prove correctness of programs; specificational correctness is only possible using mathematical proof, which you can study in formal verification. We won't cover the mathematical side; instead, we will focus on building solid test cases to find bugs and fix them. We can be reasonably sure, with a solid test suite, that our programs work as intended.\n",
    "\n",
    "Let's try testing the function which divides each number by 2 if it is even, but when it is odd, it multiplies by 3 and adds 1. *This is the Collatz problem*. We use the assert statement to test our answer, asserting the result equal to some expected value. So, inside the asserts is a boolean. If the boolean is false, we have an issue, and the asserts will cause an exception stopping execution. \n",
    "\n",
    "Here is our first try:"
   ]
  },
  {
   "cell_type": "code",
   "execution_count": 65,
   "metadata": {},
   "outputs": [
    {
     "ename": "AssertionError",
     "evalue": "",
     "output_type": "error",
     "traceback": [
      "\u001b[0;31m---------------------------------------------------------------------------\u001b[0m",
      "\u001b[0;31mAssertionError\u001b[0m                            Traceback (most recent call last)",
      "\u001b[0;32m<ipython-input-65-5b9cc4dcb79c>\u001b[0m in \u001b[0;36m<module>\u001b[0;34m()\u001b[0m\n\u001b[1;32m     13\u001b[0m \u001b[0;32massert\u001b[0m \u001b[0mcollatz\u001b[0m\u001b[0;34m(\u001b[0m\u001b[0;36m2\u001b[0m\u001b[0;34m)\u001b[0m \u001b[0;34m==\u001b[0m \u001b[0;36m1\u001b[0m\u001b[0;34m\u001b[0m\u001b[0;34m\u001b[0m\u001b[0m\n\u001b[1;32m     14\u001b[0m \u001b[0;32massert\u001b[0m \u001b[0mcollatz\u001b[0m\u001b[0;34m(\u001b[0m\u001b[0;36m4\u001b[0m\u001b[0;34m)\u001b[0m \u001b[0;34m==\u001b[0m \u001b[0;36m2\u001b[0m\u001b[0;34m\u001b[0m\u001b[0;34m\u001b[0m\u001b[0m\n\u001b[0;32m---> 15\u001b[0;31m \u001b[0;32massert\u001b[0m \u001b[0mcollatz\u001b[0m\u001b[0;34m(\u001b[0m\u001b[0;36m5\u001b[0m\u001b[0;34m)\u001b[0m \u001b[0;34m==\u001b[0m \u001b[0;36m16\u001b[0m\u001b[0;34m\u001b[0m\u001b[0;34m\u001b[0m\u001b[0m\n\u001b[0m",
      "\u001b[0;31mAssertionError\u001b[0m: "
     ]
    }
   ],
   "source": [
    "def collatz(n):\n",
    "    \"\"\"\n",
    "    collatz(n) divides n by 2 if n is even, otherwise multiples n by 3 and adds 1\n",
    "    n is positive integer and can be 0\n",
    "    returns an integer\n",
    "    \"\"\"\n",
    "    if n % 2 == 0: # % takes the remainder, so 3 % 2 is 1 and 2 % 2 is 0\n",
    "        return n / 2\n",
    "    else:\n",
    "        return 2 * n + 1\n",
    " \n",
    "assert collatz(0) == 0\n",
    "assert collatz(2) == 1\n",
    "assert collatz(4) == 2\n",
    "assert collatz(5) == 16"
   ]
  },
  {
   "cell_type": "markdown",
   "metadata": {},
   "source": [
    "We get an AssertionError! This means the asserts statement got a False value, on line 15, and that collatz(5) is not 16 as expected *since 5 * 3 + 1 = 16*. so we have to debug. Let's add print statements in each branch of the if and else:"
   ]
  },
  {
   "cell_type": "code",
   "execution_count": 62,
   "metadata": {},
   "outputs": [
    {
     "name": "stdout",
     "output_type": "stream",
     "text": [
      "Else\n",
      "11\n"
     ]
    }
   ],
   "source": [
    "def collatz(n):\n",
    "    \"\"\"\n",
    "    collatz(n) divides n by 2 if n is even, otherwise multiples n by 3 and adds 1\n",
    "    n is positive integer and can be 0\n",
    "    returns an integer\n",
    "    \"\"\"\n",
    "    if n % 2 == 0: # % takes the remainder, so 3 % 2 is 1 and 2 % 2 is 0\n",
    "        print(\"if\")\n",
    "        return n / 2\n",
    "    else:\n",
    "        print(\"Else\")\n",
    "        return 2 * n + 1\n",
    "    \n",
    "print(collatz(5))"
   ]
  },
  {
   "cell_type": "markdown",
   "metadata": {},
   "source": [
    "So the collatz function executes the else branch: the error must be in the else branch. And we see the error is we multiplied by 2 and not 3. Here is a better function with more test cases: it works now. There are no assertion errors."
   ]
  },
  {
   "cell_type": "code",
   "execution_count": 64,
   "metadata": {},
   "outputs": [],
   "source": [
    "def collatz(n):\n",
    "    \"\"\"\n",
    "    collatz(n) divides n by 2 if n is even, otherwise multiples n by 3 and adds 1\n",
    "    n is positive integer and can be 0\n",
    "    returns an integer\n",
    "    \"\"\"\n",
    "    if n % 2 == 0: # % takes the remainder, so 3 % 2 is 1 and 2 % 2 is 0\n",
    "        return n / 2\n",
    "    else:\n",
    "        return 3 * n + 1\n",
    "    \n",
    "assert collatz(0) == 0\n",
    "assert collatz(2) == 1\n",
    "assert collatz(4) == 2\n",
    "assert collatz(5) == 16\n",
    "assert collatz(15) == 46\n",
    "assert collatz(1) == 4\n",
    "assert collatz(100) == 50\n",
    "assert collatz(67) == 202"
   ]
  },
  {
   "cell_type": "markdown",
   "metadata": {},
   "source": [
    "The lesson is to test extensively to hunt down bugs. We tried different represrntative tests, with 0, 1, 2 being small evens and odds numbers.We also tried normal cases like 4 and 5. Finally, we tried big even and odd numbers like 100 and 67.\n",
    "\n",
    "When you test, try to test the normal cases, and lots of edge cases like we did. Also, mever break the specificaiton: we say that n is a positive integer and can be 0. So we cannot test -1,-2, or any negative number."
   ]
  }
 ],
 "metadata": {
  "kernelspec": {
   "display_name": "venv",
   "language": "python",
   "name": "venv"
  },
  "language_info": {
   "codemirror_mode": {
    "name": "ipython",
    "version": 3
   },
   "file_extension": ".py",
   "mimetype": "text/x-python",
   "name": "python",
   "nbconvert_exporter": "python",
   "pygments_lexer": "ipython3",
   "version": "3.7.6"
  }
 },
 "nbformat": 4,
 "nbformat_minor": 2
}
