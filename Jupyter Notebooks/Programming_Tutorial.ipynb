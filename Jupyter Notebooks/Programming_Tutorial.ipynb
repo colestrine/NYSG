{
 "cells": [
  {
   "cell_type": "markdown",
   "metadata": {},
   "source": [
    "References\n",
    "https://stackoverflow.com/questions/18162970/read-only-cells-in-ipython-notebook \n",
    "to edit metadata and make undeletable"
   ]
  },
  {
   "cell_type": "markdown",
   "metadata": {},
   "source": [
    "# Python Programming Tutorial\n",
    "\n",
    "## Introduction\n",
    "In this tutorial, we will be learning basics of programming in Python. The material in this tutorial will be directly relevant to both the Engineering Explores project, as well as your future programming pursuits. We intend for this tutorial as an interactive method to view how Python executes code, to develop core concepts for you to learn in order to complete this project, and as a guiding hand for help in case you get stuck while working on the project. In order to facilitate your learning, we will ask questions and have some exercises throughout the tutorial; please try to complete these exercises for your understanding and to develop the appropriate programming skills for this project. After completiong of this tutorial, you will be a stronger programmer and can complete the Greenhouse software component. You will also learn the basics of data visualization and gain an understanding of the machine learning used in this project.\n",
    "\n",
    "## How to use Jupyter for this Tutorial\n",
    "\n",
    "We would like you to use the virtual environment for this tutorial. Everytime you use this tutorial, at the start, click on **Kernel**, **Change Kernel** and choose **Venv**. This will make sure you have the correct packages and version of Python.\n",
    "\n",
    "We will be using Jupyter Notebook in this tutorial. Jupyter is interactive. On each cell of this tutorial, you can click on the cell, and it will be colored in green. Go to the top control bar. You can click **Run**, which will execute the code in the cell. If you need to stop execution, click the **Square** button to pause. If there is an error, or an issue in which Jupyter fails to work, navigate to the toolbar, click **Kernel** and **Restart**. You can also click **Kernel** and **Reconnect** if the Kernel becomes **Not Trusted.**\\\n",
    "\n",
    "Jupyter creates an environment to run Python code. In order to get the environment we want you to see, you must run the code from top to bottom, in that order, without skipping cells. **Skipping cells** might lead to inscrutable errors; in that case, just go back to the cell that you skipped and rerun it.\n",
    "\n",
    "In addition, rerunning cells will cause issues with expected results, because rerunning cells might overwrite preexisting data. If you get strange results, such as answers changing from one run to another, just start again at the beginning of a section. You should get the expected answer.\n",
    "\n",
    "To add cells, click on **insert** and click the appropriate location for the insert. You will need to use this insertion to add cells in the tutorial, to complete appropriate questions and exercises. \n",
    "\n",
    "## Goals/Objectives \n",
    "At the end of this tutorial, you will be able to:\n",
    "1. Program using assignment statements, control flow, functions, and classes\n",
    "2. Work with predeveloped sensor classes\n",
    "3. Debug and test your code\n",
    "4. Visualize data\n",
    "5. Have a basic understanding of Machine Learning\n",
    "\n",
    "## Outline\n",
    "- Basic Programming\n",
    "    - Assignment Statements\n",
    "    - Variables\n",
    "    - Printing\n",
    "    - Ints\n",
    "    - Arithmetic Operations\n",
    "    - Floats\n",
    "- Usage of Different Types\n",
    "    - Strings\n",
    "    - Booleans and comparisons\n",
    "    - Lists\n",
    "    - Manipulating Strings and Lists\n",
    "    - Comments\n",
    "- Control Flow\n",
    "    - If Else Statements\n",
    "    - For Loops\n",
    "    - While Loops\n",
    "- Functions\n",
    "    - Specifications\n",
    "    - Calling functions\n",
    "    - Function Definitions\n",
    "- Modules and APIs\n",
    "    - Importing Modules\n",
    "    - Calling pre-developed functions\n",
    "    - APIs and the specifications for functions\n",
    "- Classes and Methods\n",
    "    - Classes\n",
    "    - Attributes\n",
    "    - Methods\n",
    "    - Inheritance\n",
    "- Basic Visualization\n",
    "    - Histograms\n",
    "    - Scatterplots\n",
    "- Debugging\n",
    "    - Print statements\n",
    "- Testing\n",
    "    - Asserts\n",
    "\n",
    "## Authors\n",
    "- Jonathan Tran (NYSG Intern 2020)"
   ]
  },
  {
   "cell_type": "markdown",
   "metadata": {},
   "source": [
    "## Basic Programming\n",
    "We will start off with some basic programming elements: How to store data and refer back to this data, and also working with integers and floating point numbers. We will also learn how to print out the data we saved in a variable. \n",
    "\n",
    "### Assignment Statements:\n",
    "To begin, we will study how to store numbers and manipulate those numbers. You probably have done math of a calculator before; adding, subtracting, multiplying and dividing integers, whole numbers and decimals. Python can do this as well! Let's check this out:\n",
    "\n",
    "Try running the following statements. You will be assigning numbers to variables foo and bar. Afterwards, try to change the values of foo and bar to 8 and 9, respectively. \n",
    "\n",
    "Remember, to run a statement, click on the cell, then navigate to the top bar, clicking on **Run** to run the cell. Cells with print() in them will print out a value to the screen. To avoid errors, run from top most cells downwards; otherwise, you might get strange errors. "
   ]
  },
  {
   "cell_type": "code",
   "execution_count": null,
   "metadata": {},
   "outputs": [],
   "source": [
    "foo = 3\n",
    "bar = 4"
   ]
  },
  {
   "cell_type": "code",
   "execution_count": null,
   "metadata": {},
   "outputs": [],
   "source": [
    "print(foo)\n",
    "print(bar)"
   ]
  },
  {
   "cell_type": "markdown",
   "metadata": {},
   "source": [
    "### Variables \n",
    "\n",
    "foo and bar were **variables** in the above example. **Variables** are like boxes that hold numbers, or even data. They allow us to reference data we find useful. For example Syntactically, we can assign a **variable** a value using **assignment**, using the **=** sign. That is, to assign a value to the variable, we could do **variable = value** substituting value with the value you want and variable with the variable name you want. \n",
    "\n",
    "Note that in Python, variable names can be alphabetical upper case and lower case, with underscores . Typically, we might make variable names memoriable. Also, we have two conventions for variables names: CamelCase and using underscores. \n",
    "\n",
    "In **CamelCase**, we have the first character capitalized, and joined together. Remember, No spaces between the words Camel and Case, because python will not recognize the variable.\n",
    "\n",
    "With **underscores**, we can have variables like camel_case. This is also another valid and typical way to name variables.\n",
    "\n",
    "### Ints\n",
    "\n",
    "You probably also noticed that the numbers 3 and 4 are like normal whole numbers. In Python, we call the type for these numbers ints. Ints represent integers, like 0, -2, 4, 5, -100, etc. Anytime you have a negative or positive whole number in Python, it is of type **int**. \n",
    "\n",
    "Back to our example above:\n",
    "\n",
    "In that example example, we said foo had the value 3 and bar had the value 4 in the above example. We could just as well change it; in Python, variables can change the values that they hold. Let's try making foo 5. We will assign foo the value 5. Let's also check what foo and bar are afterwards. We will use the print to help."
   ]
  },
  {
   "cell_type": "code",
   "execution_count": null,
   "metadata": {},
   "outputs": [],
   "source": [
    "foo = 5\n",
    "print(foo)\n",
    "print(bar)"
   ]
  },
  {
   "cell_type": "markdown",
   "metadata": {},
   "source": [
    "#### Exercise: Variables\n",
    "Since you've seen variables, let's try to create some of our own variables. \n",
    "1. Assign a varable named **Engineer** to the value 100. \n",
    "2. Also, Assign the variable named **Explore** to the value 12. \n",
    "\n",
    "To do this remember that you need to insert a cell. Click **Insert**, and click **Insert Cell Below**. This will allow you to add a cell below and add the variables."
   ]
  },
  {
   "cell_type": "markdown",
   "metadata": {},
   "source": [
    "### Printing\n",
    "You probably realized that \n",
    "```python \n",
    "print(var_name)\n",
    "```\n",
    "prints out the value of the variable. So if variable \n",
    "```python\n",
    "name = 3\n",
    "```\n",
    "then \n",
    "```python\n",
    "print(name)\n",
    "```\n",
    "will print 3 to the screen. In fact, print can be used in many places, from debugging, to user interaction, to logging results. Make a cell, create a new variable var with value -1 and print the variable var. Printing can be used to print out information for any variable, including the variables foo and bar above. Printing can also show the value of expressions. Try printing other variables; printing is very useful! \n",
    "\n",
    "Let's use printing to guess what the following operators *, - and / will give us as output."
   ]
  },
  {
   "cell_type": "code",
   "execution_count": null,
   "metadata": {},
   "outputs": [],
   "source": [
    "print(3 * 5)\n",
    "print(2 / 2)\n",
    "print(10 - 4)"
   ]
  },
  {
   "cell_type": "markdown",
   "metadata": {},
   "source": [
    "### Arithmetic Operations\n",
    "It's just multiplication, division and subtraction! In fact, Python has a ton of these operations defined. Exponentiation is defined with\n",
    "```python\n",
    "**\n",
    "```\n",
    "so we could do \n",
    "```python\n",
    "2**3\n",
    "```\n",
    "to get two cubed or 8.\n",
    "\n",
    "Try out \n",
    "```python\n",
    "10 % 3\n",
    "```\n",
    "or \n",
    "```python\n",
    "12 % 5\n",
    "```\n",
    "Find out what the % operator does.\n",
    "\n",
    "Try a few out below:\n",
    "\n",
    "#### Exercise: Arithmetic Operations\n",
    "1. Assign a variable with a name to the value 10 cubed. Use the exponentiation operator. \n",
    "2. Assign a variable with a name to the 3.14 * 3 squared. Use the exponentiation operator. \n",
    "3. Assign a variable with a name to the value 5 divided by 4 multiplied by 20.\n",
    "4. What does the operator do? "
   ]
  },
  {
   "cell_type": "markdown",
   "metadata": {},
   "source": [
    "### Floats\n",
    "\n",
    "We saw ints already; those represent the Integers from mathematics. While Computers cannot represent all integers, the int type is a good representation. What about decimal numbers? How about 1/2 or 0.5. Can Python represent this?\n",
    "\n",
    "Let us try an example:\n",
    "\n",
    "What about 2/3?"
   ]
  },
  {
   "cell_type": "code",
   "execution_count": null,
   "metadata": {},
   "outputs": [],
   "source": [
    "print(2/3)"
   ]
  },
  {
   "cell_type": "markdown",
   "metadata": {},
   "source": [
    "We got a decimal! In Python, we say that this is a **float**, a floating point number. So we have decimals in python as well. HEre are some examples of floats:"
   ]
  },
  {
   "cell_type": "code",
   "execution_count": null,
   "metadata": {},
   "outputs": [],
   "source": [
    "print(3.44 + 4.55)\n",
    "print(6.0 / -0.3)\n",
    "print(3.7 * 9.4)"
   ]
  },
  {
   "cell_type": "markdown",
   "metadata": {},
   "source": [
    "#### Exercise: Floats\n",
    "1. Add a few cells below, showing multiplication of three floating point numbers 3.0, 5.455 and 6.055. Print out your anwwer. Also do division, and subtration and addition of these floating point numbers. Also, assign a variable to a float, and to an int. \n",
    "\n",
    "2. Try doing more complex operations and assigning that operation to a variable with your choice for the name. For example, you could do:\n",
    "\n",
    "```python\n",
    "x = 100/3 * 4 * 5 /6\n",
    "```\n",
    "or\n",
    "```python\n",
    "complex = x * x /.4 * 5 * 6\n",
    "```\n",
    "\n",
    "Notice in the second example, I had x defined first, and I used x to assign a value to variable complex. This is well defined because I already assigned x a value already.\n",
    "\n",
    "### Order of operations\n",
    "To force execution of expressions in a certain order, we can add parentheses. For example, suppose we have the expression:\n",
    "```python\n",
    "    3 * 2 + 4\n",
    "```\n",
    "which python evaluates as 10 with order of operations, doing * before +. If we want to do the addition before the mulitiplcation, we can add parentheses. We use the rounded parentheses to denote the order we want python to evaluate. So, we could have:\n",
    "```python\n",
    "    3 * (2 + 4)\n",
    "```\n",
    "in which case Python would evaluate 2 + 4 first and get 6, then multiply by 3 to get 18. \n",
    "\n",
    "We can use parentheses to change the order of execution in otehr places. Consider the expression:\n",
    "```python\n",
    "    -10 ** 4\n",
    "```\n",
    "which python evaluates as (-10)**4 or 10000. But what if we really wanted the negation to be performed after the exponentiation. We could add parentheses again to tell Python our intended order of operations.\n",
    "```python\n",
    "    -(10 ** 4)\n",
    "```\n",
    "This will now give us -10000, which is the order we intended.\n",
    "\n",
    "\n",
    "#### EXERCISE: INTS and Floats\n",
    "1. Let's print some more. Help me print out x by filling in the blank.\n",
    "```python\n",
    "    x = 2 * 3 / 4.9\n",
    "    print(<fill in the blank>)\n",
    "```\n",
    "\n",
    "2. Help me fill in what the expression assigned to the variable should be. I want variable x to have the value 10 multipled by 12 divided by 3. Then I want variable y to be x squared minus 4.\n",
    "```python\n",
    "    x = <fill in the blank> * <fill in the blank> / <fill in the blank>\n",
    "    y = <fill in the blank> * <fill in the blank> - <fill in the blank>\n",
    "```\n",
    "Each blank should be just one number or variable\n",
    "\n",
    "3. Help me assignt the number 10 * 3.0 - 456 to a variable. Choose the variable name.\n",
    "```python\n",
    "    <fill in the blank> = 10 * 3.0 - 456\n",
    "```\n",
    "\n",
    "4. Help me assignt the number 12 * -2 /  - 126 to a variable. Choose the variable name. Next divide that variable by 2 and assign it back to itself. \n",
    "```python\n",
    "    <fill in the blank> = 12 * -2 /  - 126\n",
    "    <fill in the blank> = <fill in the blank> / <fill in the blank>\n",
    "```\n",
    "\n",
    "5. Let's get a variable, with your choice for name and set it to 0. Increase it by 1 five times in a row with five assignment statements, assigning each time to the same variable.\n",
    "\n",
    "6. Assign the variable exponential to the number 3 ** 4. Then subtract 5 from this variable and set it to a new variable.\n",
    "\n",
    "7. Assign the variable x to a complex expression of your choice. Then print x. Here is a template:\n",
    "```python\n",
    "    x = <fill in the blank> \n",
    "    <fill in the blank for printing>\n",
    "```\n",
    "\n",
    "8. Assign the variable z to a complex expression of your choice, with at least one multiplcatikn, division and addition. Then print z. Here is a template:\n",
    "```python\n",
    "    z = <fill in the blank> \n",
    "    <fill in the blank for printing>\n",
    "```\n",
    "Afterwards, change z and assign the changed value back to z. Then print out the new changed value.\n",
    "\n",
    "9. I want to add 3 and 5, then multiply by 8, but Python is not understanding to me and instead multiples 5 by 8, then adds 3. Can you fix the below expression to give th correct answer?\n",
    "```python\n",
    "    # fix me\n",
    "    3 + 5 * 8\n",
    "```\n",
    "\n",
    "10. I want to subtract 3 from 5, then divide by 2, then add 1, but Python instread divides 5 by 2, subtracts that from 3 and adds 1. Can you fix the below expression to give the correct answer?\n",
    "```python\n",
    "    # fix me\n",
    "    3 - 5 / 2 + 1\n",
    "```"
   ]
  },
  {
   "cell_type": "markdown",
   "metadata": {},
   "source": [
    "## TYPES\n",
    "How can we store different values? For example, can we store decimals, or words, or even a collection of items like a shopping list in Python? Types represent different storage classes; think of it like different sized containers for different uses; a small box can hold a few books; a storage facility can hold tons of items. \n",
    "\n",
    "### STRINGS\n",
    "\n",
    "Python has many different data types ready for your use. You just used ints, which are a machine representation of integers. How about a type for characters or words? Python also has a type for that: strings.\n",
    "\n",
    "To declare a string, start with an open quote, put the items you want in the string inside, and put the closing quote after. You can imagine it like this:\n",
    "```Python\n",
    "\"<stuff inside string>\"\n",
    "```\n",
    "\n",
    "Strings can be used to hold information. IF we assign the stirng to a variable, we can reuse it elsewhere. So we could use the variable, for example, to mark whether an object is a fan, or a heater, or another device. \n",
    "\n",
    "Below are a few examples of strings. For the second example, a small box will be created. Type in your name. "
   ]
  },
  {
   "cell_type": "code",
   "execution_count": null,
   "metadata": {},
   "outputs": [],
   "source": [
    "# example 1\n",
    "s = \"Hello World!\"\n",
    "print(s)"
   ]
  },
  {
   "cell_type": "code",
   "execution_count": null,
   "metadata": {},
   "outputs": [],
   "source": [
    "# example 2\n",
    "s = \"My name is \" + input() + \".\""
   ]
  },
  {
   "cell_type": "code",
   "execution_count": null,
   "metadata": {},
   "outputs": [],
   "source": [
    "print(s)\n"
   ]
  },
  {
   "cell_type": "markdown",
   "metadata": {},
   "source": [
    "In the above example 2, notice we could add strings together with the + operator. This allows us to concatenate strings together, or comboine strings. This is one way we can interact with strings.\n",
    "\n",
    "Suppose we wanted to create a date string but we only had a month, year, day, hour and minute string. How could we create the date string? We could use contatenation. The below example shows how:\n",
    "\n",
    "```python\n",
    "date = month + \" \" + day + \" \" + year + \" \" + hour + \" : \" + minute\n",
    "```\n",
    "\n",
    "Notice we added spaces \n",
    "```python\n",
    "\" \"\n",
    "```\n",
    "between the strings. This is so it is more readable; you do not always have to add spaces. \n",
    "\n",
    "As an aside, there are ways to get the date in a nicely formatted string from Python. One could use:\n",
    "```\n",
    "import datetime \n",
    "datetime.dateime.strftime()\n",
    "```\n",
    "to get a date string like the one we made above. We will use this function in the project, but you will not need to know it at this point in the tutorial. \\\n",
    "\n",
    "### Other things about strings\n",
    "\n",
    "In strings, we can also put numbers, or any other character. For example, we could make the number 100.1 a stirng. \n",
    "```python\n",
    "\"100.1\"\n",
    "```\n",
    "Again, we just wrap the number in quotes.\n",
    "\n",
    "We can put dashes, parentheses, or just about any other character. However, putting quotes and forward slashes in strings is tricky, and I advise you to look online on how to do that. \n",
    "\n",
    "Here's an example of a string with punctuation and other characters.\n",
    "```python\n",
    "\"??<>)*Weird string 10203@---__\"\n",
    "```\n",
    "Again, we just wrap the characters in quotes to make it a string. \n",
    "\n",
    "#### Exercise: Strings\n",
    "\n",
    "1. Create a string assigned to a variable named s1 with your favorite food. Remember to wrap your string with \" \" quotes at the start and end.\n",
    "\n",
    "2. Also, in a second exercise, create one variable named first with your first name as the value. Next, create a second variable named second with your last name as the value. Make a third variable adding first and second together like this:\n",
    "```python\n",
    "full_name = first + \" \" + second\n",
    "```\n",
    "where \n",
    "```python\n",
    "\" \"\n",
    "```\n",
    "adds a space between the strings. Notice that the +  (plus sign) **concatenates** strings: that is, it combines strings.\n",
    "Now do:\n",
    "```python\n",
    "print(full_name)\n",
    "```\n",
    "and see what the result is.\n",
    "\n",
    "3. Try using the + (plus sign) as to combine more strings together. Make an example with 4 strings, using one of the strings in another string. \n",
    "\n",
    "4. Try to use the * sign with strings. Guess what it does. For a start, you can try:\n",
    "```python\n",
    "\"hello\" * 3\n",
    "```\n",
    "and \n",
    "```python\n",
    "\"hello\" * 10\n",
    "```\n",
    "\n",
    "5. Play around with \n",
    "```python\n",
    "input()\n",
    "```\n",
    "You can try something like:\n",
    "```python\n",
    "favorite_food = input(\"Give me your favorite food: \")\n",
    "```\n",
    "Notice that input prints the string \"Give me your favorite food: \", and then takes the value you want and puts in variable favorite_food. Next, try an example where you ask the user \"What school do you go to\" and put that string in variable school. Print school out. Also, try combining school with other strings.\n",
    "\n",
    "\n",
    "*Note: There is no - (minus) or / (divide) operation defined for strings. Using these will cause errors.*\n",
    "\n",
    "6. I have my street number as a string, and my street as a string and my town and zipcode as a string. Combine the three to get a address. Here's the starter:\n",
    "```python\n",
    "numner = \"111\"\n",
    "street = \"Willow Road\"\n",
    "town = \"Springfield, NV\"\n",
    "zip = \"00000\"\n",
    "address = <fill in the blank>\n",
    "``` \n",
    "Remember to add spaces as needed!\n",
    "\n",
    "7. I have a bunch of sensors and their names as strings. Help me combine them, into one longer string of all the sensors. The sensors are \"light\", \"moisture\", \"temperature\" and \"humidity\". Assign the longer string to a variable. Add spaces between sensors!\n",
    "\n",
    "8. I have a string of my area code for my phone number, as well as the remaining 7 digits. Help me get my phone number as a string. Here's a template;\n",
    "```python\n",
    "area = \"123\"\n",
    "rest = \"456-7890\"\n",
    "phone_number = <fill in the blank>\n",
    "```\n",
    "Use dashes like \n",
    "```\n",
    "\"-'\n",
    "```\n",
    "to separate the area code and the remainder of the digits.\n",
    "\n",
    "9. Make a weird string with numbers and punctuation in it, and combine it with another weird stirng. \n",
    "\n",
    "10. I have a bunch of peripherals and their names as strings. Help me combine them, into one longer string of all the peripherals. The peripherals are \"fan\", \"heater\", \"light\" and \"valve\". Assign the longer string to a variable. Add spaces between peripherals!"
   ]
  },
  {
   "cell_type": "markdown",
   "metadata": {},
   "source": [
    "### Booleans and Comparisons\n",
    "\n",
    "Another basic type that Python includes is a type with only two values: \n",
    "```python\n",
    "True\n",
    "```\n",
    "and \n",
    "```python\n",
    "False\n",
    "```\n",
    "This is the Boolean type. Booleans can useful when we only have to check two conditions, such as if something will occur or not. Be careful: True must have an uppercase t and False must have an uppercase F, otherwise you have a variable named true or a variable named false, and not a boolean. "
   ]
  },
  {
   "cell_type": "code",
   "execution_count": null,
   "metadata": {},
   "outputs": [],
   "source": [
    "x = True\n",
    "print(True)\n",
    "y = False\n",
    "print(False)"
   ]
  },
  {
   "cell_type": "markdown",
   "metadata": {},
   "source": [
    "We can use bools for comparisons. For example, if we check two numbers or strings are the same, we get a bool. Or if we check for inequality, we get a bool. Of note is the operations: == is for equality, != for inequality, >=, <= , < and > have the standard mathematical meanings as greater than or equal, less than or equal, less than and greater than, respectively.\n",
    "\n",
    "So what happens if we do:\n",
    "```python\n",
    "print(3 == 3) \n",
    "```\n",
    "What do you think should be the outcome? True or False?\n",
    "How about \n",
    "```python\n",
    "print(5 > 4)\n",
    "```\n",
    "or \n",
    "```python\n",
    "print(3.0 < 7)\n",
    "```\n",
    "or \n",
    "```python\n",
    "print(5.6 <= -3.4)\n",
    "```\n",
    "or \n",
    "```python\n",
    "print (7 != 8)\n",
    "```\n",
    "or \n",
    "```python\n",
    "print (7 != 7)\n",
    "```\n",
    "Run the next cell to see!"
   ]
  },
  {
   "cell_type": "code",
   "execution_count": null,
   "metadata": {},
   "outputs": [],
   "source": [
    "print(5 > 4)\n",
    "print(3.0 < 7)\n",
    "print(5.6 <= -3.4)\n",
    "print (7 != 8)\n",
    "print (7 != 7)\n",
    "print (3 <= 3)\n",
    "print (7 == 9)"
   ]
  },
  {
   "cell_type": "markdown",
   "metadata": {},
   "source": [
    "Was that what you expected? It's pretty simple once you get the hang of it.\n",
    "\n",
    "Can we chain booleans together? Yes! We can use _and_ and _or_ to do this.\n",
    "\n",
    "What is \n",
    "```python\n",
    "True and True\n",
    "```\n",
    "Should be true!\n",
    "How about \n",
    "```python\n",
    "True or False\n",
    "```\n",
    "Again, it is True (because one of the two is true)\n",
    "How about:\n",
    "```python\n",
    "True and False\n",
    "```\n",
    "This time it is False (because and requires both to be true to give true)"
   ]
  },
  {
   "cell_type": "code",
   "execution_count": null,
   "metadata": {},
   "outputs": [],
   "source": [
    "print(True and False)\n",
    "print(True and True)\n",
    "print(False or True)\n",
    "print(False or False)\n",
    "x = 0\n",
    "print(x == 0 or x > 0)"
   ]
  },
  {
   "cell_type": "markdown",
   "metadata": {},
   "source": [
    "Finally, we can negate a boolean. This one is easy. What is \n",
    "```python\n",
    "not True\n",
    "```\n",
    "It is False! And what is \n",
    "```python\n",
    "not False\n",
    "```\n",
    "Try below!"
   ]
  },
  {
   "cell_type": "code",
   "execution_count": null,
   "metadata": {},
   "outputs": [],
   "source": [
    "print(not True)\n",
    "print(not False)\n",
    "y = 4\n",
    "print(not y != 4)"
   ]
  },
  {
   "cell_type": "markdown",
   "metadata": {},
   "source": [
    "#### Exercise: Booleans\n",
    "1. Create a variable to a complex boolean, for example True and False, or True. You can use parenthesis to add the order of evaluation, like \n",
    "```python\n",
    "b = (True and False) or True and (False or False)\n",
    "```\n",
    "2. Also, create an example with more than one variable where the first variable holds a boolean and the second variable uses the first.\n",
    "\n",
    "3. b, c and d are boolean valued variables. Fill in the blank to create an expression that is True when b and c are not the same, and b and d are the same.\n",
    "``` python\n",
    "(b <fill in the operator> c) <fill in the operator> (b <fill in the operator> d)\n",
    "```\n",
    "\n",
    "4. i and j are ints. Fill in the blank to create an expression that is True when i is less than j or i is equal to 0\n",
    "``` python\n",
    "(i <fill in the operator> j) <fill in the operator>  (i <fill in the operator> 0)\n",
    "```\n",
    "\n",
    "5. i and j are ints. Fill in the blank to create an expression that is True when i is greater than or equal to j or i is less than or equal to -3 or j is greater than 5\n",
    "``` python\n",
    "(i <fill in the operator> j) <fill in the operator>  (i <fill in the operator> -3 ) <fill in the operator>(j <fill in the operator> 5 ) \n",
    "```\n",
    "\n",
    "6. b is a boolean and i and j are ints. Fill in tbe blank to create an expressin that is True when b is false and i and j are not equal. \n",
    "\n",
    "``` python\n",
    "<fill in the operator> b <fill in the operator> (i <fill in the operator> j ) \n",
    "```\n",
    "\n",
    "7. Assign b to be a boolean variable to an expression of True or False and 3 >= 4\n",
    "\n",
    "8. Assign b to be a boolean variable to an expression of not True and not False or 5 <= 7\n",
    "\n",
    "9. s a variable containing the speed of the fan peripheral. Make an expression that is true when s is equal to 3 or 5 or when s is greater than 50.\n",
    "\n",
    "10. t is a variable containing the temperature of the greenhouse. Make an express that is **False** when t is equal to 5. "
   ]
  },
  {
   "cell_type": "markdown",
   "metadata": {},
   "source": [
    "### Lists\n",
    "\n",
    "How about a container type for collecting up elements of another type? Python has several different basic containes. Some of these include the list and the tuple. Let's see the list first."
   ]
  },
  {
   "cell_type": "code",
   "execution_count": null,
   "metadata": {},
   "outputs": [],
   "source": [
    "lst = [1, 2, 3, 4, 5, 6, 7, 8, 9, 10]"
   ]
  },
  {
   "cell_type": "code",
   "execution_count": null,
   "metadata": {},
   "outputs": [],
   "source": [
    "print(lst)"
   ]
  },
  {
   "cell_type": "markdown",
   "metadata": {},
   "source": [
    "Lists can hold as many things as you want, and the items inside can mixes of any type, including lists. Let's see an example."
   ]
  },
  {
   "cell_type": "code",
   "execution_count": null,
   "metadata": {},
   "outputs": [],
   "source": [
    "new_lst = [[1, 2, 3], \"hello\", 5]"
   ]
  },
  {
   "cell_type": "code",
   "execution_count": null,
   "metadata": {},
   "outputs": [],
   "source": [
    "print(new_lst)"
   ]
  },
  {
   "cell_type": "markdown",
   "metadata": {},
   "source": [
    "How about this next list? What is in it?"
   ]
  },
  {
   "cell_type": "code",
   "execution_count": null,
   "metadata": {},
   "outputs": [],
   "source": [
    "x = []\n",
    "print(x)"
   ]
  },
  {
   "cell_type": "markdown",
   "metadata": {},
   "source": [
    "### Manipulating Lists and Strings\n",
    "\n",
    "The above example showed the empty list: it has nothing inside. The empty list can be useful if we want to start off with an empty list and add items: its like a empty shopping cart to which we can place groceries inside. But how can we add stuff to a list? Append()"
   ]
  },
  {
   "cell_type": "code",
   "execution_count": null,
   "metadata": {},
   "outputs": [],
   "source": [
    "x = []\n",
    "x.append(1)\n",
    "print(x)"
   ]
  },
  {
   "cell_type": "markdown",
   "metadata": {},
   "source": [
    "We added the value of 1 to x! Let's try adding the values 0 and 3 as well"
   ]
  },
  {
   "cell_type": "code",
   "execution_count": null,
   "metadata": {},
   "outputs": [],
   "source": [
    "x.append(0)\n",
    "x.append(3)\n",
    "print(x)"
   ]
  },
  {
   "cell_type": "markdown",
   "metadata": {},
   "source": [
    "Notice we added values at the right end of the list. We will call the right end the tail fo the list adn the left end the head. So append appends values to the tail. We can add to an arbitrary location as well.Suppose we want to add to the head of the list. We can use insert()"
   ]
  },
  {
   "cell_type": "code",
   "execution_count": null,
   "metadata": {},
   "outputs": [],
   "source": [
    "x.insert(0, 4)\n",
    "print(x)"
   ]
  },
  {
   "cell_type": "markdown",
   "metadata": {},
   "source": [
    "Notice how we added the value 4 at position 0 using insert. In general, insert takes a position p and a value n to add to the list. Now we can insert values anywhere in the list.\n",
    "\n",
    "You might notice we start at position 0 at the left end side, or the head of the list. In general, Python numbers every collection from **0. The first item of any collection is 0, the next is location 1, and so on. So remember to count from 0!**\n",
    "\n",
    "We can see this when we get elements from strings and lists. Let's try indexing a list and a string to get elements inside, keeping in mind we start from **0**. \n",
    "\n",
    "To get an item from a string or a list, or any other collection, we can use the notation string[i] or list[i] to get the ith element from the list. So if the lsit was named items, and we wanted the first item, we would do items[0]. To get the 10th element from items, we do items[9]."
   ]
  },
  {
   "cell_type": "code",
   "execution_count": null,
   "metadata": {},
   "outputs": [],
   "source": [
    "s = \"Engineers\"\n",
    "print(s[0])\n",
    "print(s[3])\n",
    "\n",
    "items = [30, 50, 2, 3, -4, 0, 5, 6]\n",
    "print(items[1])\n",
    "print(items[7])"
   ]
  },
  {
   "cell_type": "markdown",
   "metadata": {},
   "source": [
    "We can also  manipulate the items in a list. For example, let's change the first element of items to -100. We can use the same notation as getting an element, just changed a bit. Now, we have items[0] = -100, with items[0] on the left of the equals sign. Think of it as assignment - you are assigning the first element of items the value -100."
   ]
  },
  {
   "cell_type": "code",
   "execution_count": null,
   "metadata": {},
   "outputs": [],
   "source": [
    "items[0] = -100\n",
    "print(items)"
   ]
  },
  {
   "cell_type": "markdown",
   "metadata": {},
   "source": [
    "Let's try the same thing for strings: can we do s[0] = \"h\" to change the string's first character to h?"
   ]
  },
  {
   "cell_type": "code",
   "execution_count": null,
   "metadata": {},
   "outputs": [],
   "source": [
    "s[0] = 'h'"
   ]
  },
  {
   "cell_type": "markdown",
   "metadata": {},
   "source": [
    "You got a TypeError! Oh No! An error means that Python cannot do the intended operation. Python explains strings do not have item assignment. \n",
    "\n",
    "Actually, this shows that strings are **immutable**. Once you assign a string its characters, you cannot change the characters inside. So you cannot delete the character 'e' in the beginning of the string 'engineers', nor can you add to the string, nor can you change the characters, like the 'e' to another character. You can, however, make a new string or resassign the string. So we could still do the actions shown below:"
   ]
  },
  {
   "cell_type": "code",
   "execution_count": null,
   "metadata": {},
   "outputs": [],
   "source": [
    "s = \"hi\"\n",
    "s = \"hello\"\n",
    "s = \"hello\" + \"!\"\n",
    "s = s + \" \" + s\n",
    "print(s)"
   ]
  },
  {
   "cell_type": "markdown",
   "metadata": {},
   "source": [
    "### IN OPERATOR\n",
    "We would somtimes like to check if something is in a string or a list. Consider the following example:\n",
    "We have a list of sensor names:\n"
   ]
  },
  {
   "cell_type": "code",
   "execution_count": 1,
   "metadata": {},
   "outputs": [],
   "source": [
    "lst = [\"light\", \"moisture\", \"temperature\", \"humidity\"]"
   ]
  },
  {
   "cell_type": "markdown",
   "metadata": {},
   "source": [
    "We want to check if the \"light\" sensor is in the list. How can we do this?\n",
    "\n",
    "In general, if we want to check if a element is in a list, or if a chracter is a string, we can check with\n",
    "```python\n",
    "element in list\n",
    "```\n",
    "or \n",
    "```python \n",
    "character in string\n",
    "```\n",
    "\n",
    "So we could do:"
   ]
  },
  {
   "cell_type": "code",
   "execution_count": 2,
   "metadata": {
    "tags": []
   },
   "outputs": [
    {
     "output_type": "stream",
     "name": "stdout",
     "text": "True\n"
    }
   ],
   "source": [
    "status = \"light\" in lst \n",
    "print(status)"
   ]
  },
  {
   "cell_type": "markdown",
   "metadata": {},
   "source": [
    "Hence, we see that light is in lst as we got True! \n",
    "\n",
    "Try for yourself to see if \"moisture\" is in list. Also, try to see if \"co2\" is in list. You should not get True.\n",
    "\n",
    "For strings, the result is similar. We can check if the substirng \"st\" is in \"tallest\". \n",
    "\n",
    "We can also check if the chracter \"a\" is in \"also\""
   ]
  },
  {
   "cell_type": "code",
   "execution_count": 3,
   "metadata": {
    "tags": []
   },
   "outputs": [
    {
     "output_type": "stream",
     "name": "stdout",
     "text": "True\nTrue\n"
    }
   ],
   "source": [
    "sub = \"st\"\n",
    "status = sub in \"tallest\"\n",
    "print(status)\n",
    "\n",
    "c = \"a\"\n",
    "status2 = c in \"also\"\n",
    "print(status2)"
   ]
  },
  {
   "cell_type": "markdown",
   "metadata": {},
   "source": [
    "For both, we got True as expected. Try some more out yourself!"
   ]
  },
  {
   "cell_type": "markdown",
   "metadata": {},
   "source": [
    "#### Exercise: Lists\n",
    "1. Make a list with 10 elements and put in bools, strings, ints and floats. You can even nest lists inside. Print out the list to verify your work\n",
    "2. With the list you made in 1, change the third element to be \"Third Changed\". \n",
    "3. With the list you made in 1, add on an 11th, 12th, 13th, and 14th elements with append\n",
    "4. Can we turn other types into strings? Let's try:  What does this doe?\n",
    "```python\n",
    "i = 3\n",
    "print(str(i))\n",
    "s = \"hello\" + str(i)\n",
    "```\n",
    "Use the \n",
    "```python\n",
    "str()\n",
    "```\n",
    "function to create more strings from integers. Also, conjecture what\n",
    "```python\n",
    "int()\n",
    "``` \n",
    "does and use it. \n",
    "5. Create a list of sensors that either on or off. A sensor is on if the value in the list is 1 and off if the value in the list is 0. Thus, create a list with 10 sensors,, all on. The assign this list to a variable. Turn off the third sensor, the fifth sensor and the 8th sensor. print out the new updated sensor list.\n",
    "\n",
    "6. Create a list with 5 fan peripherals. Each fan peripheral is represented by a number between 0 and 100 representing the speed of the fan. You can choose the speed to be whatever you would like for each sensor.Save the list of 5 integers to a variable. print out all the even indexed elements of the list (the 0th, 2nd and 4th), then change all the odd indexes to be 25. \n",
    "\n",
    "7. We change the representation of the list of sensors. There are 4 types of sensors:\n",
    "light sensors, moisture sensors, temperature sensors and humidity sensors. They are represented by the strings \"light\", \"moisture\", \"temperature\" and \"humidity\". Create a list with these 4 sensors and save it to a variable. Then change the all the sensors to be moisture sensors. \n",
    "\n",
    "8. There are 4 types of peripherals, represented by the strings \"fan\", \"light\", \"heater\" and \"valve\". Create a list with these 4 peripherals, print each peripheral out one at a time using indexing and then save the list to a variable. Then change the \"light\" peripheral to a \"heater\" peripheral. Then append on to the list a new \"light\" peripheral.\n",
    "\n",
    "9. From the string \"hello\", pull out the 0th and 2nd characters. Print these characters.\n",
    "\n",
    "10. From the string \"world!\", what is the index of the exclamation? of the o? Remember indexing starts from 0 in Python! Then print out the exclamation and the chracter o from the string.\n",
    "\n",
    "11. Using the In operator, check if the number 1 is in the list [1,2,3, 4, 5,6]. Then check if 0 is in the list .\n",
    "\n",
    "12. Using the In operator, check if the substring \"hello\" is in the string \"hello world!\"\n",
    "\n"
   ]
  },
  {
   "cell_type": "markdown",
   "metadata": {},
   "source": [
    "### COMMENTS:\n",
    "Sometimes, we want to explain our code, but we do not want Python to execute the code, Comments are the right way to do this. They allow us to type out the explanation for future readers, and ourselves, especially in places with hard to understand logic. A good rule of thumb is to comment blocks of code, but not excessively"
   ]
  },
  {
   "cell_type": "code",
   "execution_count": null,
   "metadata": {},
   "outputs": [],
   "source": [
    "# Hi This is a comment\n",
    "\n",
    "# Comments begin with a hash tag symbol\n",
    "\n",
    "# You can write anything in a comment and it is ignored by Python"
   ]
  },
  {
   "cell_type": "markdown",
   "metadata": {},
   "source": [
    "#### Exercise: Comments\n",
    "1. Create a bunch of comments and try it out! Interleave the comments with code. \n",
    "2. For this code:\n",
    "```python\n",
    "years = 1\n",
    "months = years * 12\n",
    "days = months * 30\n",
    "hours = days * 24\n",
    "minutes = hours * 60\n",
    "seconds = minutes * 60\n",
    "```\n",
    "add comments explaining what the code does **as a whole**, not for each line. *Hint: the variable names are helpful.*"
   ]
  },
  {
   "cell_type": "markdown",
   "metadata": {},
   "source": [
    "## CONTROL FLOW\n",
    "\n",
    "So far, programs executed line by line: For instance,\n",
    "```python\n",
    "x = 3\n",
    "y = 4\n",
    "l = x * x + y * y\n",
    "```\n",
    "will set variable x to 3 and then y to 4, and then calculate l. The program moves from top to bottom. What happens if we want to only execute a line under certain conditions. Or what happens if we want to repeat a line over and over. We need **Control flow**."
   ]
  },
  {
   "cell_type": "markdown",
   "metadata": {},
   "source": [
    "### IF - ELIF - ELSE\n",
    "\n",
    "If - Elif- Else blocks help control which lines of code is execute. They use boolean values to decide which lines of code are evaluated. When the condition to execute the code is True, we carry out the If statement. Otherwise, we check any other conditions to execute the Elif Statement. If all the conditions are False, we carry out the Else statement. Let's try a few examples. "
   ]
  },
  {
   "cell_type": "markdown",
   "metadata": {},
   "source": [
    "Let's see if we can influence what code is executed. What do you think will be printed out below?"
   ]
  },
  {
   "cell_type": "code",
   "execution_count": null,
   "metadata": {},
   "outputs": [],
   "source": [
    "b = True\n",
    "if b:\n",
    "    print(\"Hi\")\n",
    "else:\n",
    "    print(\"Bye\")"
   ]
  },
  {
   "cell_type": "markdown",
   "metadata": {},
   "source": [
    "There are two types of booleans: True and False. Can you infer how to make the above code print \"Bye\"?"
   ]
  },
  {
   "cell_type": "markdown",
   "metadata": {},
   "source": [
    "Can we try replacing b with False? Let's do an assignment statement to see what happens:"
   ]
  },
  {
   "cell_type": "code",
   "execution_count": null,
   "metadata": {},
   "outputs": [],
   "source": [
    "b = False\n",
    "if b:\n",
    "    # Inside If statement\n",
    "    print(\"Hi\")\n",
    "else:\n",
    "    # Inside Else statement\n",
    "    print(\"Bye\")"
   ]
  },
  {
   "cell_type": "markdown",
   "metadata": {},
   "source": [
    "If-else statements are interesting. They allow us to alter flow of the program in run time. The behavior is straightforward: we check the value of b, which we call the guard. If b is true, then we execute the statements inside of the if statement, where the \"inside if statement indicates\". We then skip the else statement. Otherwise, if b were False, we completely skip over the if statement and go the else statement. We would execute the statements in the else statement instead. \n",
    "\n",
    "But what if want to have multiple branches? Say what happens if we want to do something when x > 0, something else when x = 0 and lastly, something when x < 0:"
   ]
  },
  {
   "cell_type": "code",
   "execution_count": null,
   "metadata": {},
   "outputs": [],
   "source": [
    "x = 3\n",
    "if x < 0:\n",
    "    # Inside If Branch\n",
    "    print(\"X is negative\")\n",
    "elif x == 0:\n",
    "    # Inside Elif branch\n",
    "    print(\"X is 0\")\n",
    "else:\n",
    "    # Inside Else Branch\n",
    "    print(\"X is positive\")"
   ]
  },
  {
   "cell_type": "markdown",
   "metadata": {},
   "source": [
    "We add the elif statement in order to add additional branching behavior. The elif has another guard which checks the value in the guard, and if the value is true, we execute what is inside the elif statement. \n",
    "\n",
    "If is always required, but elif and else are not always required. We could have if and elif, and not have else, or we could have if and else alone.\n",
    "\n",
    "In terms of execution now, we can describe it in this way: We always check the guard of the if statement. If the guard is true, we execute the if statement, and skip all elif and else statements. \n",
    "\n",
    "If the if statement guard is False, we then go through each elif guard at a time. The first elif guard that evaluates to true will cause us to evaluate the body of that elif statement. We then skip the remainder of the rest of the elif statements and the else statements. We could potentially have 0 elif statements to check.\n",
    "\n",
    "Finally, if there is an else statmenet, and none of the if or elif guards evaluated to true, we execute the body of the else statement. \n",
    "\n",
    "#### More Examples of If-Elif-Else\n",
    "\n",
    "We can have multiple elif statements. For example, let us consider a variable named bank accouint. When back account is negative, we print \"We are bankrupt\". When bank account is 0, we print \"We have no money\". When bank account is less than 1000, we print \"We want more money\" and when bank account is greater than or equal to 1000, we print \"We have enough money\"\n",
    "\n",
    "Try changing the value of bank_account to get different printed values."
   ]
  },
  {
   "cell_type": "code",
   "execution_count": null,
   "metadata": {},
   "outputs": [],
   "source": [
    "bank_account = 200\n",
    "if bank_account < 0:\n",
    "    print(\"We are bankrupt\")\n",
    "elif bank_account == 0:\n",
    "    print(\"We have no money\")\n",
    "elif bank_account < 1000:\n",
    "    print(\"We want more money\")\n",
    "else:\n",
    "    print(\"We have enough money.\")"
   ]
  },
  {
   "cell_type": "markdown",
   "metadata": {},
   "source": [
    "Let's see a guided example with if-elif-else statements. Suppose we have measured the temperature. If the temperature is below 20, we want to see the variable named action to the string \"heat\". If the temperature is between 20 and 75\", including 20 but not 75, we set action to \"light heat\". If the temperature is equal to 75 exactly, we set action to \"No action\". And if action is above 75, we set action to \"fan\".\n",
    "\n",
    "With all these branching choices, we must use an if - elif-else statment. We can find out what each of the branches are just based of the description of what we want for each action.\n",
    "\n",
    "The first branch is when temperature is below 20. Here, we set action to \"heat\". So our if statement currently looks like this:"
   ]
  },
  {
   "cell_type": "code",
   "execution_count": null,
   "metadata": {},
   "outputs": [],
   "source": [
    "t = 20\n",
    "if t < 20:\n",
    "    action = \"heat\""
   ]
  },
  {
   "cell_type": "markdown",
   "metadata": {},
   "source": [
    "We next do the next branch. This is when temperature is between 20 and 75, excluding 75. Here, we set action to \"light heat\". Since this is our second branch, we could use an elif or else statement. Since we have a stringent condition to be between 20 and 75, we use an elif statmenet. \n",
    "\n",
    "Our if statement looks like this now:"
   ]
  },
  {
   "cell_type": "code",
   "execution_count": null,
   "metadata": {},
   "outputs": [],
   "source": [
    "t = 20\n",
    "if t < 20:\n",
    "    action = \"heat\"\n",
    "elif t >= 20 and t < 75:\n",
    "    action = \"light heat\""
   ]
  },
  {
   "cell_type": "markdown",
   "metadata": {},
   "source": [
    "In our next branch, we check if temperature is 75, and if it is, we have variable action assigned the string. \"no action\". "
   ]
  },
  {
   "cell_type": "code",
   "execution_count": null,
   "metadata": {},
   "outputs": [],
   "source": [
    "t = 20\n",
    "if t < 20:\n",
    "    action = \"heat\"\n",
    "elif t >= 20 and t < 75:\n",
    "    action = \"light heat\"\n",
    "elif t == 75:\n",
    "    action = \"no action\""
   ]
  },
  {
   "cell_type": "markdown",
   "metadata": {},
   "source": [
    "Finally, in our last branch, we do not need to use a guard. This is because temperature must be greater than 75 at this point. In this case, we use a else statement, and set action to \"fan\"."
   ]
  },
  {
   "cell_type": "code",
   "execution_count": null,
   "metadata": {},
   "outputs": [],
   "source": [
    "t = 20\n",
    "if t < 20:\n",
    "    action = \"heat\"\n",
    "elif t >= 20 and t < 75:\n",
    "    action = \"light heat\"\n",
    "elif t == 75:\n",
    "    action = \"no action\"\n",
    "else:\n",
    "    action = \"fan\""
   ]
  },
  {
   "cell_type": "markdown",
   "metadata": {},
   "source": [
    "That's all there is to if statements! Remember to decompose what you want the if-elif-esle block to do into different components. Figure out what the if block will be and what the guard condition is. Then figure out how many elif blocks you need. It is possible you do not need an elif block. Finally, is there a last condition that you need? If so, add an else block. Again, remember that else blocks are optional. \n",
    "\n",
    "We'll do one more example. Here we will put if statements inside of other if statements. Python allows you, in general, to **nest** any control flow structures inside of each other.\n",
    "\n",
    "Suppose that if the temperature is below 20, we will turn set the variable peripheral to be 2 to indicate that the heat should turn on high. If the temperature is between 20 and 50, we check what the moisture is, and if the moisture is below 50, we turn on the heat to 2, and if the moisture is between 50 and 75, we set peripheral to be 1, otherwise we set variable peripheral to be 0 to turn off the heat. Finally, if the tempeature is above 50, we set peripheral to be 0, representing no heat. \n",
    "\n",
    "We can do what we did in the previous example. We have three obviosu cases: temperature < 20, temperature >= 20 and temperature <= 50 and tempetature > 50. For the time being; let's ignore the middle case because the middle case is more tricky; it depdends on moisture. \n",
    "\n",
    "For the first case, where temperatiure < 20, we can set the peripheral to be 2. And for the last case, we can assign peropheral to be 0. The if statement looks like this below:\n",
    "\n"
   ]
  },
  {
   "cell_type": "code",
   "execution_count": null,
   "metadata": {},
   "outputs": [],
   "source": [
    "t = 43\n",
    "if t < 20:\n",
    "    peripheral = 2\n",
    "elif t >= 20 and t <= 50:\n",
    "    pass \n",
    "else:\n",
    "    peripheral = 0"
   ]
  },
  {
   "cell_type": "markdown",
   "metadata": {},
   "source": [
    "Now in the middle case, we have to coinsider moisture. We can add in an if statement inside of the middle case; Again we have three cases; if mopisture < 50, we set peripheral to be 2. If moisture is between 50 and 75, we set peripheral to be 1. In the else case, we set peripheral to be 0.\n",
    "\n",
    "Remember to indent the middle case's if-else-elif statement! python requires proper indentation: blocks of code nested inside any block must be idented one level deeper.\n",
    "\n",
    "Our completed code looks like this:"
   ]
  },
  {
   "cell_type": "code",
   "execution_count": null,
   "metadata": {},
   "outputs": [],
   "source": [
    "t = 43\n",
    "m = 20 \n",
    "if t < 20:\n",
    "    peripheral = 2\n",
    "elif t >= 20 and t <= 50:\n",
    "    if  m < 50:\n",
    "        peripheral = 2\n",
    "    elif m >= 50 and m <= 75:\n",
    "        peripheral = 1\n",
    "    else:\n",
    "        peripheral = 0\n",
    "else:\n",
    "    peripheral = 0"
   ]
  },
  {
   "cell_type": "markdown",
   "metadata": {},
   "source": [
    "Notice how the blocks are nested and indented properly inside of each other. The inner if block inside the elif block is exactly indented one tab inwards. \n",
    "\n",
    "Try changing t and m and then printing out the value of peripheral! You should get the expected answers.\n",
    "\n",
    "Finally, we could actually have written the code without a nested if statement. It would look like this. Try to understand why by playing around with variables t and m. Perhaps, the if statement is a bit harder to read when we write it in the below form."
   ]
  },
  {
   "cell_type": "code",
   "execution_count": null,
   "metadata": {},
   "outputs": [],
   "source": [
    "t = 43\n",
    "m = 20\n",
    "if t < 20:\n",
    "    peripheral = 2\n",
    "elif t >= 20 and t <= 50 and m < 50:\n",
    "    peripheral = 2\n",
    "elif t >= 20 and t <= 50 and m >= 50 and m <= 75:\n",
    "    peripheral = 1\n",
    "elif t >= 20 and t <= 50 and m > 75:\n",
    "    peripheral = 0\n",
    "else:\n",
    "    peripheral = 0"
   ]
  },
  {
   "cell_type": "markdown",
   "metadata": {},
   "source": [
    "Given all we've talked about, there are some tricky things about if statements. What happens if we have if statements back to back like this:"
   ]
  },
  {
   "cell_type": "code",
   "execution_count": 3,
   "metadata": {
    "tags": []
   },
   "outputs": [
    {
     "output_type": "stream",
     "name": "stdout",
     "text": "Y = 1\ny = 0\n"
    }
   ],
   "source": [
    "x = 20\n",
    "if x > 0:\n",
    "    y = 1\n",
    "    print(\"Y = 1\")\n",
    "if x > 0:\n",
    "    y = 0\n",
    "    print(\"y = 0\")"
   ]
  },
  {
   "cell_type": "markdown",
   "metadata": {},
   "source": [
    "The first if statement is true since x = 20 and so x is greater than 0. Thus, we print Y = 1. Why do we print Y = 0 then? \n",
    "\n",
    "The answer is that the there are 2 if statements back to back next to each other. The first if statement is only three lines long, from if x > - to print(\"Y = 1'). After that, another if statement begins. So it is not like aother elif block or else block,. but rather, the second if statment its own if statement, completely separate from the first. "
   ]
  },
  {
   "cell_type": "markdown",
   "metadata": {},
   "source": [
    "#### Exercise: If - Elif- Else\n",
    "1. Make an if-elif-else expression that prints(\"I am age 10!\") if a variable age = 10 is True, and if age is 20, prints \"I am age 20\". Otherwise print \"I am not age 10 or age 20.\n",
    "2. Change the above example of the bank account so that when bank_account is greater than 1000000, prints \"I am a Millionare\". Make sure to check that the booleans are coorect by testing different values for bank_account\n",
    "3. Try an example where you have just an if statement, then try an example with an if and else statement only, then try one with if and many elif statements but not else. Finally create an example with if, elif and else altogether.\n",
    "4. Suppose h is the temperature recorded from a sensor. Print \"too hot\" if the temperature is above 80 and \"just ok\" if the temperature is between 80 and 60 and \"too cold\" if below 60. Here's a template  to fill in:\n",
    "```python\n",
    "if <fill in the blank>:\n",
    "    print(<fill in the blank>)\n",
    "elif <fill in the blank>:\n",
    "    <fill in the blank>\n",
    "<fill in the blank for the last statement>\n",
    "```\n",
    " \n",
    "5. Suppose m is the moisture recorded from a sensor. If the moisture is above 25, print \"to much moisture\". If it is below that, print \"to little moisture\". As a challenge, do not use an else statment, but use elif instead, HEre's a template.\n",
    "```python\n",
    "if <fill in the blank>:\n",
    "    print(<fill in the blank>)\n",
    "elif <fill in the blank>:\n",
    "    print(<fill in the blank>)\n",
    "```\n",
    "\n",
    "6. In words, explain what the following if elif-else statement does. Assume that variable h stands for relative humidity. \n",
    "``` python \n",
    "if h > 70:\n",
    "    print(\"To High Humidity\")\n",
    "elif h >= 40 and h <= 70:\n",
    "    print(\"Ok Humidity range\")\n",
    "else:\n",
    "    print(\"too Low humidity\")\n",
    "```\n",
    "\n",
    "7. Suppose l is ambient light and is between 0 and 100 in value as a integer. Suppose h is humidity. If l is greater than 50 and h is greater than 25, then print(\"Optimal condition\"). Otherwise, do not print anything. Do you need a elif or else statement for this example? Can you do this two ways, one way using only if statements?\n",
    "\n",
    "8. Explain in words what the following code does. Explain the order that python executes statements in; also explain whioch statements are skipped, if any. Assume that variable h stands for relative humidity, m for moisture and t stands for temperature.\n",
    "```python \n",
    "if t > 0:\n",
    "    print(\"temperature is positive\")\n",
    "if h == 50:\n",
    "    print(\"optimal humidity\")\n",
    "if m != 20;\n",
    "    print(\"Moisture is not 20\")\n",
    "```\n",
    "Then, explain what is printed when t is -40, h is 20 and m is 40. Also explain what is printed when t is 20, h is 50 and m is 10. \n",
    "\n",
    "9. Change the above block of code in question 8. Make it so that we print \"temperature is positive' when t is greater than 50, h is 50 and m is not 20. Make sure you see the difference between this question and the previous. \n",
    "\n",
    "10. Assume l is ambient light. If ambient light is greater than 85 print \"High ambient light level\", if ambient light is between 85 and 60 inclusive of both 85 and 60 print \"medium ambient light\" and if ambient light is less than 60 print \"low ambient light\". Do this using if statements in 2 ways: in the first, use 3 consecutive if statmenets, with no elif or else branches whatsoever. In the second, use only one if statement with an elif and else branch.\n",
    "\n"
   ]
  },
  {
   "cell_type": "markdown",
   "metadata": {},
   "source": [
    "### Repetition - Loops\n",
    "What happens if we want to repeat our code 3 times in a row? Or how about repeat until we get a variable is larger than 10?\n",
    "We need repetition. Python provides two simple constructs for repetition: the For Loop,  and the While Loop. For loops terminate after a specified number of iterations; while loop terminate after a condition is reached."
   ]
  },
  {
   "cell_type": "markdown",
   "metadata": {},
   "source": [
    "#### FOR LOOPS:\n",
    "Let's have our code print out \"hi\" 3 times in a row. Because we have a specified number of iterations, we can use a for loop. "
   ]
  },
  {
   "cell_type": "code",
   "execution_count": null,
   "metadata": {},
   "outputs": [],
   "source": [
    "for i in range(3):\n",
    "    print(\"Hi\")"
   ]
  },
  {
   "cell_type": "markdown",
   "metadata": {},
   "source": [
    "Notice the format: we have the for opening the statement, in range(3), where 3 is the number of iterations. Inside, we print(\"HI\") 3 times."
   ]
  },
  {
   "cell_type": "markdown",
   "metadata": {},
   "source": [
    "#### Exercise: For Loops\n",
    "1. Can you make a for loop which prints your name out 10 times?\n",
    "2. Combine a for loop and an if statement like this:\n",
    "```python\n",
    "for i in range(100):\n",
    "    if i == 1:\n",
    "        print(i)\n",
    "```\n",
    "Now change the above example so that it prints every number that is less than 20\n",
    "Also, print every number that is greater than 80.\n",
    "3. Use a for loop and an if-elif-else statement. Iterate over the first 100 integers Print \"3\" when the number is 3 and print '5' when the number is 5 and for all other numbers print \"Not 3 or 5\""
   ]
  },
  {
   "cell_type": "markdown",
   "metadata": {},
   "source": [
    "We can further work with for loops without specifying a range. Whenever we have a container type, such as a list or a string, we can use the for loop to unpack the elements and iterate over. Let's examine with a list:"
   ]
  },
  {
   "cell_type": "code",
   "execution_count": null,
   "metadata": {},
   "outputs": [],
   "source": [
    "lst = [1, 2, 3, 4, 5, 6]\n",
    "for n in lst:\n",
    "    print(n)"
   ]
  },
  {
   "cell_type": "markdown",
   "metadata": {},
   "source": [
    "Notice we do not have to use range here. In fact, range actually creates a list. For example, range(3) equals the list [0, 1, 2], ending before 3. So when we do range(n), we really mean we iterate over a list with n elements, starting at 0 and ending at n - 1. _As an aside, range actually does not create a list immediately; it uses lazy evaluation to defer getting each element of the list until that element is needed._ \n",
    "\n",
    "### WHILE LOOPS\n",
    "\n",
    "With all this in mind, we can now iterate for a specified amount of iterations. How about iterating until I enter Yes? Can we go on for an indefinite amount of time before ending the iteration? Yes, we can do this with a while loop. The while loop below will run forever until you type in \"Yes\". Try it!"
   ]
  },
  {
   "cell_type": "code",
   "execution_count": null,
   "metadata": {},
   "outputs": [],
   "source": [
    "s = \"\"\n",
    "while (s != \"yes\"):\n",
    "    s = input(\"Type Yes to end \")\n",
    "    s = s.lower().strip()"
   ]
  },
  {
   "cell_type": "markdown",
   "metadata": {},
   "source": [
    "It can be confusing to know when to use a while loop versus using a for loop. Let's consider several situations. \n",
    "\n",
    "#### Exercise: While Loops\n",
    "1. Would you use a for loop or while loop when waiting for a button press from the user?\n",
    "How about when iterating over a string, and considering several elements at a time?\n",
    "How about a iteration of a list, except you are doing operations from both ends of the list?\n",
    "provide your explanations: there could many right answers with different justifications.\n",
    "\n",
    "2. Use a while loop to print out your name 100 times in a row:\n",
    "Here is a starter code block:\n",
    "```python\n",
    "i = 0\n",
    "while (i < 100):\n",
    "    # your code goes here\n",
    "    i = i + 1 # this increases i by one so we do not loop forever\n",
    "```\n",
    "3. Use the for loop above without range to print out every element in this list\n",
    "```python\n",
    "lst = [\"Hi\", \"My\", \"Name\", \"Is\", \"Steve\"]\n",
    "```\n",
    "Then do the same thing with a while loop. You might find it helpful to have this framework, where i is the index of the list, remembering to start from **0**. Note that len() finds the length of the list, so \n",
    "```python\n",
    "len(lst)\n",
    "```\n",
    "is 5 for the above example. \n",
    "```python\n",
    "len([])\n",
    "```\n",
    "is 0, because an empty list has no elements\n",
    "The framework:\n",
    "```python\n",
    "i = 0\n",
    "while i < len(lst):\n",
    "    # your code here\n",
    "    ...\n",
    "    i = i + 1\n",
    "```\n",
    "4. Again, using the same list above\n",
    "```python\n",
    "lst = [\"Hi\", \"My\", \"Name\", \"Is\", \"Steve\"]\n",
    "```\n",
    "use a for loop to collect the all the elements of the list is a single string. Use concatenation to combine strings. Remember to add spaces between words in the list.\n",
    "\n",
    "Also, repeat with a while loop. Print out the string to verify your results. Try chaing the lst by adding elements and seeing if your code still works. You can use \n",
    "```python\n",
    "len()\n",
    "```\n",
    "to find the length of a list. For example, with a lst of unknown length, you could use a for loop with len like this:\n",
    "\n",
    "```python\n",
    "for i in range(len(lst)):\n",
    "    # your code\n",
    "    ...\n",
    "```\n",
    "5. Combine a while loop and an if statement to print out \"hello\" if a number in a number in the first 100 integers is equal to 5.\n",
    "\n"
   ]
  },
  {
   "cell_type": "markdown",
   "metadata": {},
   "source": [
    "## Functions:\n",
    "At the heart of programming is functions. Functions can be seen in three different ways. Firstly, Functions can represent actions, transforming an input into an output. In addition, functions are one of the ways we resuse code without copy and pasting. Finally, a third understanding of functions is that gunctions help us map an input to a known output, and are thus predictable. The transformative power of functions allows us to express and do more than we could without functions. Moreover, with code reuse and predictability, we can have an easier time reasoning that our code is correct. This means less bugs!\n",
    "\n",
    "### Example: Range()\n",
    "\n",
    "You might be wondering what a function looks like: \n",
    "Actually, you've already seen a function: \n",
    "```{python}\n",
    "range()\n",
    "```\n",
    "\n",
    "#### Action of Range\n",
    "In terms of an action, Range() represents creating a list of integers from start to end (excluding the end), incrementally increasing by 1. So range(1, 5) creates the list: [1, 2, 3, 4]. So the transformative action of this function is that it turns two numbers into a list with the above property of being incrementally increasing.\n",
    "\n",
    "#### Code Reuse in Range\n",
    "\n",
    "Range() allows us to reuse code because we can avoid writing our own range function all the time. Think how annoying that would be to have to keep copying code or writing new code! Now all we have to do is call this prepackaged piece of code someone wrote, and we will always get the expected list range() is supposed to give us. \n",
    "\n",
    "#### Predictability of Range\n",
    "\n",
    "Finally, we can see range() as a predictable mapping from input to output. Input range(5) and you will **always** get [1, 2, 3, 4]. You will never get [-1, 5, 6] or False or something else. You **always get the same output for the same input**!. That's one of the most powerful properties of functions, around which functional programming is built. We will not, however, cover functional programming.\n",
    "\n",
    "### Example: Len()\n",
    "Here's another example of a function you've seen before. We'll perform the same explanation and analysis. We will talk about \n",
    "```{python}\n",
    "len()\n",
    "```\n",
    "which computes the length of a list.\n",
    "\n",
    "#### Action of Len\n",
    "In terms of an action, Len() represents finding the length of a lst. So len([1]) is 1 and  len([2, 3, -4]) is 3. Notice how the function transforms a list to a number. That transformation is an action to change one quantity (the list) into another (an int).\n",
    "\n",
    "#### Code Reuse in Len\n",
    "\n",
    "Len() allows us to reuse code because we can avoid writing our own len function all the time. Now, we can just use the prepackaged len() function that Python gives us to find the length of a list, without the need to write our own. If we wrote our own, we could have bugs in our code, which would be bad.\n",
    "\n",
    "#### Predictability of Len\n",
    "\n",
    "Finally, we can see len() as a predictable mapping from input to output. Input range([1]) and you will **always** get 1. You will never get 2 or -3 or something else. You **always get the same output for the same input**!. Try this out for different lists!\n",
    "\n",
    "### Writing Our Own Custom Function\n",
    "It's all good to see functions that people made already and that we can use. But how about our own functions?Let's now see an example of a function we custom made.\n",
    "\n",
    "What is a function example though? Consider a function that adds the numbers in a list. Let's see this in action. \n",
    "\n",
    "I'll break down writing this function into steps:\n",
    "- First, we will consider the objective of the function, using some examples to see if understand what we need to do.\n",
    "- Next, we will implement the **body** of the function\n",
    "- We will then add the **arguments** which could require some abstraction based on the body code we have so far.\n",
    "- Additionally we complete the function by adding in the **return** statement, if needed (__return is optional__).\n",
    "- Lastly, we add a docstring or documentation to explain what our function does to other users who will call our function. The docstring is also for our own benefit, so that we do not have to go back and parse the code, but we just have to read the docstring to understand what is happening.\n",
    "\n",
    "We develop our function below!\n",
    "\n",
    "1. The objective is to sum the numbers in a list. We will assume the list wills only have integers in it. \n",
    "\n",
    "This means in our documentation, we should state that the list will only have integers. We will take this into account when we write our docstring.\n",
    "\n",
    "2. When writing a function, we should consider what the body of the function looks like. The **body of the function** is the meat of the function: it is what calculates the output. Here, we want to calculate the sum of the numbers of the list. So we will need to go to every element of the list and add it together. If we need to go to every element, we will need to have a loop of some sort. Let's use a for loop, since the list has fixed length l (e.g. the list we operate on will not change in length when we operate on it). \n",
    "\n",
    "We should probably have a total value to add each element on to for each iteration of the loop. This total value will represent the sum of the first n elements of the loop after the loop has finished n iterations (our **invariant**, you do not need to know about **invariants**, though they can be useful in proving correctness of code).\n",
    "\n",
    "Since at the beginning, the loop has not finished an iteration, it has done 0 iterations at the beginnning. By our above logic, total then will be the sum of the first 0 elements of the loop, and so total should start at 0, since a list with 0 elements has no values in it whatsoever. \n",
    "\n",
    "So we have the body of the loop done. Try filling in the code yourselve and make sure that this makes sense.\n",
    "\n",
    "In the next cell, I will show what the body looks like. I will hardcode the list to the list [1, 2, 3, -6, 7], but you should be able to reason that the code should work for any other list.\n",
    "\n"
   ]
  },
  {
   "cell_type": "code",
   "execution_count": null,
   "metadata": {},
   "outputs": [],
   "source": [
    "lst = [1,2, 3, -6, 7]\n",
    "total = 0\n",
    "for n in lst:\n",
    "    total = total + n"
   ]
  },
  {
   "cell_type": "markdown",
   "metadata": {},
   "source": [
    "There's the body! Pretty simple so far.\n",
    "\n",
    "#### Arguments \n",
    "Let's figure out what should what the **arguments** to the function should be. **arguments** are the **inputs** to the function. If the function is a machine that makes bread, then the inputs are flour and water and eggs. So the **arguments** to a breadmaking function are flour, water and eggs. Notice we had three **arguments** here. Some functions have one argument. If you had a function to eat bread, the only **argument** would be the bread! In another example,  the len() function only has one **argument**, the list (for which we want to know the length of)!. Finally, some functions have no arguments! How about a function that just prints (\"hello world\"). There's no need to have an input in this example. \n",
    "\n",
    "Typically, **arguments** to the function differ between examples. For example, for the bread machine example, if you want bigger bread, put in more flour and eggs. If you want smaller bread, your inputs will change. The **arguments** control the change and the outcome.\n",
    "\n",
    "So let's continue with our example. \n",
    "\n",
    "3. What arguments do we need? Well, we want to be able to sum elements of a list, and presumeably, not all lists are the same. Since the lists can differ, it must be that the list is the argument. Thinking a little more, it seems like this is the only argument we need. \n",
    "\n",
    "So what's the syntax for writing this out?\n",
    "Well, arguments go in parentheses, between commas. You can have no arguments, or 1 argument, or as many arguments as you need.\n",
    "\n",
    "Below, we name the function \"sum_lst\". We can name the function anything we want, so feel free to change it to some other name. To the left of  the function name is the keyword **def**. All functions must begin with **def** before the function name. This tells python that you are declaring a function with name \"sum_lst\". Finally, to the right of the function name is the arguments. Here we have on argument lst, and so our arguments are (lst).\n",
    "\n",
    "If we have 5 arguments, x, y, z, a, b, our arguments would be (x, y, z, a, b).\n",
    "\n",
    "So here is the finished declaration of the function with arguments.\n",
    "\n",
    "```{python}\n",
    "def sum_list(lst):\n",
    "    pass\n",
    "```\n",
    "#### Return\n",
    "4. We need to return a value to the user. **Return** gives the user the **output** of the function. We use the keyword **return** to return a value as an output.\n",
    "\n",
    "What do we return? Well, we can return the total variable, which has the total sum of the list after the entire list has been processed. \n",
    "\n",
    "The syntax looks like this:\n",
    "```{python}\n",
    "return total\n",
    "```\n",
    "\n",
    "In general, we can return any value: for example, if we have a variable x we want to return, we can do:\n",
    "```{python}\n",
    "return x\n",
    "```\n",
    "If we want to return 2 + 3, we could do:\n",
    "```{python}\n",
    "return 2 + 3\n",
    "```\n",
    "\n",
    "If we have nothing to return, we could omit the return. Functions in python do not need return statements, and thus, functions in python do not need outputs as well.\n",
    "\n",
    "If you want to use the return keyword, but not return a value, you can omit the value. It looks like this:\n",
    "```{python}\n",
    "return \n",
    "```\n",
    "Notice there is nothing after return. \n",
    "\n",
    "So our function looks like this now:\n"
   ]
  },
  {
   "cell_type": "code",
   "execution_count": null,
   "metadata": {},
   "outputs": [],
   "source": [
    "def sum_list(lst):\n",
    "    total = 0\n",
    "    for n in lst:\n",
    "        total = total + n\n",
    "    return total"
   ]
  },
  {
   "cell_type": "markdown",
   "metadata": {},
   "source": [
    "#### Documentation\n",
    "\n",
    "We have one more step: adding in documentation. We need to explain what the function does, what inputs it takes and what the output is. This documentation can be written in a **docstring** , which is written between triple double apostrophes like This\n",
    "```{python}\n",
    "\"\"\" what you want to put in the docstring goes in here, between the triple double apostrophes \"\"\"\n",
    "```\n",
    "\n",
    "5. What is our docstring then? We need to explain the function purpose, inputs and outputs. The function's purpose is to sum ht enumbers in lst. The input is a list of ints. The output is the sum. So our docstring is:\n",
    "```{python}\n",
    "\"\"\" Sums the numbers in lst\n",
    "    lst is a list of ints\n",
    "    Returns the sum\n",
    "\"\"\"\n",
    "```\n",
    "\n",
    "Notice how you can understand what the function does just from the docstring, and you can figure out what the inputs and outputs are. If you were not the writer of this function, you could know how to use it!\n",
    "\n",
    "Below is the completed function for you to play around with. "
   ]
  },
  {
   "cell_type": "code",
   "execution_count": null,
   "metadata": {},
   "outputs": [],
   "source": [
    "def sum_list(lst):\n",
    "    \"\"\"\n",
    "    Sums the numbers in lst\n",
    "    lst is a list of ints\n",
    "    Returns the sum\n",
    "    \"\"\"\n",
    "    total = 0\n",
    "    for n in lst:\n",
    "        total = total + n\n",
    "    return total\n",
    "\n",
    "n = 10\n",
    "print(sum_list(range(n + 1)))"
   ]
  },
  {
   "cell_type": "markdown",
   "metadata": {},
   "source": [
    "Cool! Seems to work well. We can sum up the list. Try changing the value of n in the above cell to see the effect. Notice we are just summing lists of the first n integers, creating the list with range().\n",
    "\n",
    "Here, we learned two things: How to write the function, which begins at the \"def\" statement and ends with a \"return\" if we choose to return a value [we could omit the return if we do not return anything]. We also learn how to \"call\" the function. We call the function on the list created by range, and the function spits out an answer. \n",
    "\n",
    "When you are the user of a function, You could imagine the function as a blackbox where magically, the right answer comes out. For instance, there is a function in Python called sum that does what we did above. All we have to know as the user is what sum does. We do not need to know what happens inside of sum. \n",
    "\n",
    "But when we implement the function, we have to think to follow a specification: the guidelines and rules of what the user wants. We must make sure that the user gets their intended result. \n",
    "\n",
    "Notice the specification above. It is in docstrings, or the \"\"\" ... \"\"\" section of quotes. It is treated like a comment and is not executed by Python. But it tells the user exactly what the function will do.\n",
    "\n",
    "#### Exercise: Function Basics\n",
    "1. You've seen the function\n",
    "```{python}\n",
    "str()\n",
    "```\n",
    "before. Explain its transformational action, its code reusability aspect, and its predictiability.\n",
    "\n",
    "2. For the above example sum_list(), explain its transformational action, its code reusability aspect, and its predictiability. Give examples of how sum_list could be used. \n",
    "\n",
    "3. You've seen the function\n",
    "```{python}\n",
    "print()\n",
    "```\n",
    "before. Explain its transformational action, its code reusability aspect, and its predictiability.\n",
    "Does print() have an input? What is its input? Can print have more than one argument input? Does print have an output? Hint, print() prints to the screen, but do you think it returns anything? Explain why. \n",
    "\n",
    "4. Using the 5 step process, develop a function that takes an integer and returns 1 if the interger is greater than 0, -1 if the integer is less than 0 and 0 otherwise.\n",
    "Here's the 5 step process for reference:\n",
    "-   First, we will consider the objective of the function, using some examples to see if understand what we need to do.\n",
    "-    Next, we will implement the body of the function\n",
    "-   We will then add the arguments which could require some abstraction based on the body code we have so far.\n",
    "-   Additionally we complete the function by adding in the return statement, if needed (return is optional).\n",
    "-   Lastly, we add a docstring or documentation to explain what our function does to other users who will call our function. The docstring is also for our own benefit, so that we do not have to go back and parse the code, but we just have to read the docstring to understand what is happening.\n",
    "\n",
    "5. Using the 5 step process, develop a function that takes two integers and returns 1 if the first interger is greater than the second, -1 if the first integer is less than the second, and 0 if they are equal.\n",
    "\n",
    "6. Develop a function that takes a list of integers and an integer n and returns those values which are greater than n. You can feel free to use the 5 step process.Remember a specification!\n",
    "Here's a template for which you can fill in code. \n",
    "```{python}\n",
    "def filter_list(lst, n):\n",
    "    new_list = <fill in here>\n",
    "    for element in lst:\n",
    "        if <fill in here>:\n",
    "            new_list.append(<fill in here>)\n",
    "    return <fill in here>\n",
    "```\n",
    "7. Develop a function that takes a list of integers and doubles all the elements in the list.A template for you to fill in is given below.\n",
    "```{python}\n",
    "def double(lst):\n",
    "    new_list = <fill in here>\n",
    "    for element in lst:\n",
    "        new_list.append(<fill in here>)\n",
    "    return <fill in here>\n",
    "```\n",
    "8. Develop a function that takes a list of integers and multiples all the elements in the list by a number n. A template for you to fill in is given below.\n",
    "```{python}\n",
    "def multiply(lst, n):\n",
    "    new_list = <fill in here>\n",
    "    for element in lst:\n",
    "        new_list.append(<fill in here>)\n",
    "    return <fill in here>\n",
    "```\n",
    "Also, how can you use the function multiply to do what double did? Can you see the abstraction between double and multiply? Can you triple numbers in a list now without writing a new function triple? Can you quadruple numbers in a list now without writing a new function quadruple?\n",
    "\n",
    "9. Consider a function that builds a house. Brainstorm what arguments are needed. What is the output? What is the specification for this function?\n",
    "\n",
    "10. Consider a function that controls temperature in a room, given multiple sensors, that measure temperature, humidity and ambient light. What would the body of your function look like? What arguments do you need? What would be a good output for the function, ir any?\n",
    "\n",
    "11. Consider a function that operates a fan. The fan needs a frequency at which to operate. The fan needs power. So the function should require power and frequenmcy as an argument. What other arguments can you brainstorm that would be useful?\n",
    "\n",
    "12. Consider a function that operates a water valve. The function turns on off the valve. The function can control the water speed of the valve. What arguments does the function require? Brainstorm and explain your reasoning.\n",
    "\n",
    "13. Going back to question 10, let's simplify the question so that the function takes temperature and light only as arguments, and returns a signal, 1 or 0 where 1 is to turn on hear and 0 is not. If the temperature is less than 60, turn on the heat. If the temperature is greater than 70 turn of the heat. If the temperature is between 60 and 70, including 60 and 70, and light is greater than 50 units, turn on the heat. Otherwise, do nothing. Write a function that follows this specification. Here's a template for you to fill in:\n",
    "```{python}\n",
    "def control_heat(temp, light):\n",
    "    if temp < <fill in here>:\n",
    "        return <fill in here>\n",
    "    elif <fill in here> > 70:\n",
    "        return 0\n",
    "    elif <fill in here> >= 60 and <fill in here> <= 70 and <fill in here> > 50:\n",
    "        return <fill in here>\n",
    "    else:\n",
    "        <fill in here>\n",
    "```\n",
    "\n",
    "14. Going back to question 11, consider a fan that only takes frequency as an argument. The function returns a speed of the fan. Let's say that frequency ^ 2 is equal to speed.Write a function that takes in frequency and returns speed.Here's a template for you to fill in:\n",
    "```{python}\n",
    "def get_speed(<fill in here>):\n",
    "    speed = <fill in here>\n",
    "    <fill in here>\n",
    "```\n",
    "\n",
    "15. Going back to question 12, consider a water valve that can be turned on and off. When the valve is on, water speed is 50. When the valve is off, water speed is 0. Write a function to get the water speed given the valve on / off status. \n",
    "\n",
    "16. Write a function that has four arguments: temperature, humidity, soil moisture and ambient light , all four arguments are integers between 0 and 100 inclusive. The function returns 1 if the conditions is good, and 0 if bad. Conditions are good if temperature is above 50, humidity is below 60, moisture is between 10 and 20 and light is above 80. Otherwise, conditions are bad. Use booleans and if statements. \n",
    "\n",
    "17. Write a function that has four arguments: temperature, humidity, soil moisture and ambient light , all four arguments are integers between 0 and 100 inclusive. The function returns 1 if the conditions is good, and 0 if bad. Conditions are good if temperature is above 50 or humidity is below 60 or moisture is between 10 and 20 and light is above 80. Otherwise, conditions are bad. se booleans and if statements. \n",
    "\n",
    "18. Write a function that has four arguments: temperature, humidity, soil moisture and ambient light  all four arguments are integers between 0 and 100 inclusive. The function returns a list of four numbers, which are all 1 or 0, representing turning on a heater, plant light, water valve and fan respectively. Turn on the heater when temperature is below 50, turn on the light when ambient light is below 20, turn on the water valve when humidity is below 60 and turn on the fan when soil moisture is above 40. Here;s a template to get you started:\n",
    "```{python}\n",
    "<fill in here the function def, name, and args>\n",
    "    return_list = <fill in here>\n",
    "    if temperature < <fill in here>:\n",
    "        <fill in here>.append(1)\n",
    "    else:\n",
    "        <fill in here>.append(<fill in here>)\n",
    "    if <fill in here> < 20:\n",
    "        <fill in here>.append(1)\n",
    "    else:\n",
    "        <fill in here>\n",
    "\n",
    "    <fill in another if statement else statement>\n",
    "    <fill in another if statement else statement>\n",
    "\n",
    "    return <fill in here.\n",
    "```\n",
    "\n",
    "19. You have n plant lights that either on or off, 1 / 0. This is represented as a list of length n with only 1's and 0's. Write a function that gives the number of plant lights that are on, as well as a function that gives the number of plant lights that are off.\n",
    "\n",
    "20. You have n plant lights that either on or off, 1 / 0. This is represented as a list of length n with only 1's and 0's. Write a function that outputs true if more than 1/2 of the plant lights are on, otherwise outputting false.\n",
    "\n",
    "### Calling Functions\n",
    "\n",
    "We have seen how functions work and how to write our own function. What if we want to use our own function, or someone else's function?\n",
    "\n",
    "We need to be able to **call** a function. Calling a function requires you to know what the function does, what inputs it needs, and what outputs it has: this is exactly what the **specificaion** or **docstring** explains!.\n",
    "\n",
    "Once we have identified those three items, we can call our function. The syntax looks like this:\n",
    "```{python}\n",
    "function(arg1, arg2, ...)\n",
    "```\n",
    "for however many arguments are needed\n",
    "or \n",
    "```{python}\n",
    "function()\n",
    "```\n",
    "if the function has no input arguments at all\n",
    "It's essentially just the function name, open parenthesis, arguments, close parenthesis.\n",
    "We can save the result of a function call into a variable if we want. To do this, we have\n",
    "```{python}\n",
    "var = function(arg1, ...)\n",
    "```\n",
    "var holds the result of the function call. For example, if we call len() on the list [1, 2, 3]\n",
    "```{python}\n",
    "var = len([1, 2, 3])\n",
    "```\n",
    "Then var holds the length of the list [1, 2, 3], and thus, var is equal to 3!\n",
    "\n",
    "#### Exercise: Calling Functions Basics\n",
    "1. Create 5 different lists, find the lengths of all of them, and save each to a different variable\n",
    "\n",
    "2. Turn the first 10 integers into strings. Use a for loop and a range function call. Print each of the 10 strings. Here's a template:\n",
    "```{python}\n",
    "for n in <fill in the function call>:\n",
    "    print(<fill in the function call>)\n",
    "```\n",
    "\n",
    "3. Write a function that multiplies all the elements of a list together, assuming the list is of integers only. Now make a list. Save the product in a  variable named product. Here's a template:\n",
    "```{python}\n",
    "<fill in function def, name and args>:\n",
    "    <fill in collector variable and assignment>\n",
    "    for elt in <fill in the bloank>:\n",
    "        <fill in the update of the collector>\n",
    "    <fill in return>\n",
    "product = <fill in the function call here>\n",
    "```\n",
    "\n",
    "4. Write a function that finds the sum of the squares of the first n integers. Then save this in a variable named squares. After that, apply the function on squares and print the result. \n",
    "\n",
    "5. Write a function that combines a list of strings together into a bigger string, with spaces between the strings. Then create a variable to hold a function call on the function. Here's a template:\n",
    "```{python}\n",
    "<fill in function def, name and args>:\n",
    "    <fill in collector variable and assignment>\n",
    "    for elt in <fill in the bloank>:\n",
    "        <fill in blank> = <fill in blank> + \" \" + elt\n",
    "    <fill in return>\n",
    "<fill in variable> = <fill in the function call here>\n",
    "```\n",
    "Check your work to see that the function worked correctly.\n",
    "\n",
    "6. Practice calling the function print(), int() and any other functions you have seen before.\n",
    "\n",
    "7. Try using the function sort(). It sorts a list into order from least to greater. Create a list of integers, call sort and save it to a variable sorted. Print the new sorted list.\n",
    "\n",
    "8. Write a function to check if the elements of two lists are identical. Use calls to the function sort() to help. Then call the function on two lists that are scrambled versions of each other and check. Here's a template:\n",
    "```{python}\n",
    "def equal_lists(<fill in here>):\n",
    "    sorted_1 = sort(<fill in here>)\n",
    "    sorted_2 = <fill in here>\n",
    "    return sorted_1 <fill in here> sorted_2\n",
    "```\n",
    "\n",
    "9. Write a function to check if a list of strings all have the same length. Return 1 if they all have the same length and 0 otherwise. Then create a list of strings and call the function to see your work. Here's a template:\n",
    "\n",
    "```{python}\n",
    "def all_same(<fill in here>):\n",
    "    l = None\n",
    "    for <fill in here> in <fill in here>:\n",
    "        if l == None:\n",
    "            length = len(<fill in here>)\n",
    "            l = length \n",
    "        else:\n",
    "            length = len(<fill in here>)\n",
    "            if length != <fill in here>:\n",
    "                return <fill in here>\n",
    "    return <fill in here>\n",
    "```\n",
    "\n",
    "10. The function all() checks if a list only has elements that are true, and any() checks if any element in the list is true. Create some lists of bools and call all() and any() to see the result.  How would you write your own all and any functions? Try writing them with for loops and check your result by calling the functions.\n",
    "\n",
    "Here's a template for all():\n",
    "```{python}\n",
    "def custom_all(<fill in here>):\n",
    "    for <fill in here> in <fill in here>\n",
    "        if <fill in here>:\n",
    "            <fill in here>\n",
    "    <fill in here>\n",
    "```\n",
    "\n",
    "Here's a template for any():\n",
    "```{python}\n",
    "def custom_any(<fill in here>):\n",
    "    for <fill in here> in <fill in here>\n",
    "        if <fill in here>:\n",
    "            <fill in here>\n",
    "    <fill in here>\n",
    "```\n",
    "Notice the templates are the same. The fill in the blanks will be different though. \n",
    "\n"
   ]
  },
  {
   "cell_type": "markdown",
   "metadata": {},
   "source": [
    "### Functions Continued\n",
    "\n",
    "Let's try writing some specifications, calling some functions, and finally implementing some functions with specifications. These will be very useful skills later on, so master them now.\n",
    "\n",
    "#### Exercise: Function Specifications"
   ]
  },
  {
   "cell_type": "code",
   "execution_count": null,
   "metadata": {},
   "outputs": [],
   "source": [
    "# Give the Specifications for the functions below: e.g. tell me what the function does\n",
    "# Feel free to try values in the functions to see what they do\n",
    "# Append adds on elements to the end of the list\n",
    "def add_1(n):\n",
    "    \"\"\"\n",
    "    Fill in the Specification: Remember to give types and return values\n",
    "    \"\"\"\n",
    "    return n + 1\n",
    "\n",
    "\n",
    "def mult(x, y):\n",
    "    \"\"\"\n",
    "    Fill in the Specification: Remember to give types and return values\n",
    "    \"\"\"\n",
    "    return x * y\n",
    "\n",
    "def rep(s, n):\n",
    "    \"\"\"\n",
    "    Fill in the Specification: Remember to give types and return values\n",
    "    \"\"\"\n",
    "    lst = []\n",
    "    for i in range(n):\n",
    "        lst.append(s)\n",
    "    return lst\n",
    "\n",
    "def harder(n, lst):\n",
    "    \"\"\"\n",
    "    Fill in the Specification: Remember to give types and return values\n",
    "    Here, lst is a lst of Ints\n",
    "    \"\"\"\n",
    "    i = 0\n",
    "    while (i != len(lst)):\n",
    "        lst[i] = lst[i] + 1\n",
    "        i += 1\n",
    "    return lst\n",
    "\n",
    "def return_nothing(s):\n",
    "    \"\"\"\n",
    "    Fill in the Specification: \n",
    "    This is an example of a function with no return value!! Returns are not always needed\n",
    "    and so this function has no return. Instead, it returns the None type, \n",
    "    whicn you do not need to know about\n",
    "    \"\"\"\n",
    "    print(s)\n",
    "    print(\"I printed S, I do nothing\")\n",
    "\n",
    "        \n",
    "    "
   ]
  },
  {
   "cell_type": "markdown",
   "metadata": {},
   "source": [
    "#### Exercise: Calling Functions\n",
    "1. Call the function len() which we talked about with lsts earlier. Len() finds the length of the list\n",
    "2. Call the function mult_2 on a list of ints; you should create the list your self. Also, print out the result of the function by saving the function call to a variable twos and then printing twos"
   ]
  },
  {
   "cell_type": "code",
   "execution_count": null,
   "metadata": {},
   "outputs": [],
   "source": [
    "# Calling Functions exercise\n",
    "# Find the length of the list lst\n",
    "lst = [1, 2, 4, \"hello\", [2, 3], 7]\n",
    "\n",
    "# use mult_2 to double elements in a list\n",
    "def mult_2(lst):\n",
    "    \"\"\"\n",
    "    mult_2(lst) doubles the elements in lst\n",
    "    Returns a list of integers\n",
    "    lst is a lst of integers\n",
    "    \"\"\"\n",
    "    new_lst = []\n",
    "    for n in lst:\n",
    "        new_lst.append(n * 2)\n",
    "    return new_lst"
   ]
  },
  {
   "cell_type": "markdown",
   "metadata": {},
   "source": [
    "Functions can have multiple arguments; For example, consider a function that adds two numbers together:\n",
    "def add (x, y):\n",
    "    return x + y\n",
    "    \n",
    "In general, you can have as many function arguments as you want. "
   ]
  },
  {
   "cell_type": "code",
   "execution_count": null,
   "metadata": {},
   "outputs": [],
   "source": [
    "def add (x, y):\n",
    "    \"\"\"\n",
    "    adds x and y and returns the sum \n",
    "    \"\"\"\n",
    "    return x + y\n",
    "\n",
    "print(add(2, 3))"
   ]
  },
  {
   "cell_type": "markdown",
   "metadata": {},
   "source": [
    "#### Exercise: Fill in the Function\n",
    "1. Write a function that adds n to a number x. the function returns the sum. X and N are ints, and so the function has 2 arguments\n",
    "\n",
    "2. Write a function that takes in a list and prints out all the elements of the list., There is only one argument, the list of integers. Use a for loop and len(). There is no return needed\n",
    "\n",
    "3. Write a function that takes in a list and prints out all numbers greater than 40. There is only one argument, the list of integers. Use a for loop and len(). There is no return needed\n",
    "\n",
    "4. Write a function that takes in a list of strings, and if one of the strings is 'Hello World!' returns True, otherwise returning False. The list of strings can be empty. \n"
   ]
  },
  {
   "cell_type": "code",
   "execution_count": null,
   "metadata": {},
   "outputs": [],
   "source": [
    "# Fill in the function\n",
    "def add_n(x, n):\n",
    "    # add a specification\n",
    "    pass # delete pass and fill in your code here\n",
    "    # add a return statement\n",
    "    \n",
    "def print_list(lst):\n",
    "    pass # delete pass and fill in your code here\n",
    "\n",
    "def print_greater(lst):\n",
    "    pass # delete pass and fill in your code here\n",
    "\n",
    "def hello_world(lst):\n",
    "    pass # delete pass and fill in your code here\n",
    "    # add a return statement"
   ]
  },
  {
   "cell_type": "markdown",
   "metadata": {},
   "source": [
    "### Code Reuse\n",
    "\n",
    "So how are functions good for code reuse? Consider this code:\n",
    "```python\n",
    "s1 = \"Steven\"\n",
    "s1.lower().strip()\n",
    "s1 += \" \"\n",
    "s2 += \"Says Hi\"\n",
    "\n",
    "s2 = \"Jane\"\n",
    "s2.lower().strip()\n",
    "s2 += \" \"\n",
    "s2 += \"Says Hi!\"\n",
    "```\n",
    "\n",
    "Notice the lower and the strip are repeated over and over, then the appending to the string is also repeated. We could turn this into its own function."
   ]
  },
  {
   "cell_type": "code",
   "execution_count": null,
   "metadata": {},
   "outputs": [],
   "source": [
    "s1 = \"Steven\"\n",
    "s1.lower().strip()\n",
    "s1 += \" \"\n",
    "s1 += \"Says Hi!\"\n",
    "print(s1)\n",
    "\n",
    "s2 = \"Jane\"\n",
    "s2.lower().strip()\n",
    "s2 += \" \"\n",
    "s2 += \"Says Hi!\"\n",
    "print(s2)"
   ]
  },
  {
   "cell_type": "markdown",
   "metadata": {},
   "source": [
    "Instead, we have this function with the same result!"
   ]
  },
  {
   "cell_type": "code",
   "execution_count": null,
   "metadata": {},
   "outputs": [],
   "source": [
    "def says_hi(name):\n",
    "    \"\"\"\n",
    "    Makes name say hi!\n",
    "    Returns name with says hi! appending\n",
    "    Returns String\n",
    "    Requires: name is a string\n",
    "    \"\"\"\n",
    "    name.lower().strip()\n",
    "    name += \" \"\n",
    "    name += \"Says Hi!\"\n",
    "    return name\n",
    "\n",
    "s1 = \"Steven\"\n",
    "s2 = \"Jane\"\n",
    "print(says_hi(s1))\n",
    "print(says_hi(s2))"
   ]
  },
  {
   "cell_type": "markdown",
   "metadata": {},
   "source": [
    "Let's try some examples to reduce code being copy and pasting (which is a big source of computer bugs) and instead write some functions to increase code reuse. For the examples below, write your own functions to abstract away some functionality into a function that can be reused.\n",
    "\n",
    "#### Exercise: Code Reuse with Functions"
   ]
  },
  {
   "cell_type": "code",
   "execution_count": null,
   "metadata": {},
   "outputs": [],
   "source": [
    "# Example 1: write a function to calculate z and r \n",
    "x = 3\n",
    "y = 4\n",
    "\n",
    "z = x * y\n",
    "z = z + 1\n",
    "z = z / 2\n",
    "z = z * z\n",
    "\n",
    "l = 2\n",
    "m = 3\n",
    "\n",
    "r = l * m\n",
    "r = r + 1\n",
    "r = r / 2\n",
    "r = r * r\n",
    "\n",
    "# Example 2: code reuse with loops\n",
    "# write One (1) function only that does what these three for loops below all do\n",
    "# The function should have one argument, an integer n. Assume that n is even\n",
    "# and state that assumption in the specification so that other uses know\n",
    "\n",
    "for i in range(100):\n",
    "    if i == 0:\n",
    "        print(\"start\")\n",
    "    if i == 100/2:\n",
    "        print(\"Halfway\")\n",
    "    print(i)\n",
    "    \n",
    "for j in range(300):\n",
    "    if j == 0:\n",
    "        print(\"start\")\n",
    "    if j == 300/2:\n",
    "        print(\"Halfway\")\n",
    "    print(j)\n",
    "\n",
    "for k in range(12):\n",
    "    if k == 0:\n",
    "        print(\"start\")\n",
    "    if k == 12/2:\n",
    "        print(\"Halfway\")\n",
    "    print(k)\n",
    "\n"
   ]
  },
  {
   "cell_type": "markdown",
   "metadata": {},
   "source": [
    "## Modules and APIs\n",
    "Modules are a way for developers to bundle code together. You import modules to use the functions inside. For example, the math module uhas tons of functions to use like sine, cosine, tangent, exponentials and much more. There are modules for virtually anything.\n",
    "\n",
    "But how do we know how to use the functions in the modules? We look it up in the API, which is  the documentation on how to use the module's functions.\n",
    "\n",
    "Let's try using the math module. Check out the Math module API here;\n",
    "https://docs.python.org/3/library/math.html\n",
    "\n",
    "To use the module, we use:\n",
    "```python\n",
    "import\n",
    "```\n",
    "a statement that copies the modules function in the workspace we are working in. Now we have those functions and can use them.Here, you can see we use the sin and exp function.\n",
    "\n",
    "Note that we call functions with the module, a dot, then the function.\n",
    "```python\n",
    "module.func(args)\n",
    "```"
   ]
  },
  {
   "cell_type": "code",
   "execution_count": null,
   "metadata": {},
   "outputs": [],
   "source": [
    "import math\n",
    "print(math.sin(30))\n",
    "print(math.exp(100))"
   ]
  },
  {
   "cell_type": "markdown",
   "metadata": {},
   "source": [
    "But is it sine in radians or degrees? It looks like radians since sin(30 degrees) is 0.5. If we did not know this, we would check out the API! \n",
    "\n",
    "#### Exercise: Modules and APIs\n",
    "1. Check out the JSON module. Read the API. What does Loads and Dumps do?\n",
    "2. Read the Numpy API. Try importing NUmpy into a cell with\n",
    "```python\n",
    "import numpy\n",
    "```\n",
    "Play around with the functions, and work with a numpy array. Numpy is very efficient for matrices and array calculations. For example, try \n",
    "```python\n",
    "numpy.zeros()\n",
    "```\n",
    "3. Check out the Matplotlib API. It hs tons of functions for plotting and graphing. If you are adventurous, use numpy to create two arrays and make a scatterplot of the Data. Even better, check out the random API, import random, make two lists of random numbers, and use Matplotlib to plot it\n",
    "\n",
    "You may have to run on the terminal:\n",
    "```bash\n",
    "pip install matplotlib\n",
    "```\n",
    "if matplotlib is not installed already.\n",
    "\n",
    "Here is a starter:\n",
    "```python\n",
    "import random\n",
    "import matplotlib.pyplot as plt # you can use plt instead of matplotlib.pyplot, which is hard # to type\n",
    "\n",
    "random_xs = []\n",
    "for i in range(100): # get first 100 random nums\n",
    "    n = random.randint(0, 100)\n",
    "    random_xs.append(n)\n",
    "    \n",
    "random_ys = []\n",
    "for i in range(100): # get second 100 random nums\n",
    "    n = random.randint(0, 100)\n",
    "    random_ys.append(n)\n",
    "\n",
    "# use plt to plot! read the API\n",
    "```\n"
   ]
  },
  {
   "cell_type": "markdown",
   "metadata": {},
   "source": [
    "Modules are not limited to those written by others though. Modules can be written by yourself, and imported into your program. Modules are a great way to split up work between different files, separating the contents in to similar features and functions that are interelated, rather than putting disimilar work all in one file. \n",
    "\n",
    "In the greenhouse project, you will find that there are different modules. Each module focuses on one fundamental, basic task for the greenhouse. These modules include the sensor_class, peripheral_class and main modules. These modules all interact with each other; main dependences on sensor_class and peripheral_class, and thus requires you to import both sensor_class and peripheral_class.\n",
    "\n",
    "To end this section on modules, let's try importing a custom module. In the directory, you should find that there is a python file named practice_import.py. It must be in the same directory as this ipynb notebook file. Verify this, otherwise the next section will not work. \n",
    "\n",
    "First, since we need some functions and constants from practice_import, let's use and import statement. Do you remember hpw?"
   ]
  },
  {
   "cell_type": "code",
   "execution_count": 1,
   "metadata": {},
   "outputs": [],
   "source": [
    "import practice_import"
   ]
  },
  {
   "cell_type": "markdown",
   "metadata": {},
   "source": [
    "Next, let us import in the function "
   ]
  },
  {
   "cell_type": "markdown",
   "metadata": {},
   "source": [
    "## Classes and Object Oriented Programming"
   ]
  },
  {
   "cell_type": "markdown",
   "metadata": {},
   "source": [
    "You have seen functions being used to reuse code. Now, you will learn about classes. Classes are another way to reduce code. More importantly, classes allow us to crea abstract versions of objects we want to model; thus classes  are central to object oreinted programming.\n",
    "\n",
    "In this section, we will learn 2 different ways to understand the concept of a class: blueprints and sets of objects. In addition, we will talk about what an object is, what attrbutes are, and what methods are.\n",
    "\n",
    "## Classes Explained\n",
    "\n",
    "A class is really a blueprint for an object. For example, consider an architect's blueprint. It represents a \"class\" of houses, but is not a house itself. To instantiate the 'class', we built an actual house. So the house is an **object**, while the **class** is the **blueprint** the house.\n",
    "\n",
    "For example, we could have the house **class** like this:\n",
    "class house:\n",
    "    - number of windows\n",
    "    - number of doors\n",
    "    - number of bedrooms\n",
    "    - number of toilets\n",
    "    - number of people living there\n",
    "    - Owner's name\n",
    "    - House Address\n",
    "    \n",
    "Notice this is like a **blueprint**: there are windows, but the number is not specified. The house blueprint could be used to construct actual house objects with 0, 1, or 100 windows (a really big house!). Likewise, other **attributes** of information for the house like number of  doors, number of windows, Address and owner's name are not specified because this is a **blueprint**. Of course an actual instance of a house would have these specified.\n",
    "    \n",
    "Now let's talk about **objects**. Continuing witj the same example, **ONE** house **object** could be:\n",
    "house1:\n",
    "    - 6 windows\n",
    "    - 4 doors\n",
    "    - 2 bedrooms\n",
    "    - 2 toilets\n",
    "    - 2 people living there\n",
    "    - \"Steve\" as Owner's name\n",
    "    - \"431 Smithfield Drive\" as House Address\n",
    "    \n",
    "Notice in this actual house **object**, all the **attribute** fields of information are filled it. We have **instantiated** the house **class** with a house **object**. So instantiating turns an abstract blueprint into a concrete house, with all **attributes** filled in with values.\n",
    "\n",
    "We've been studying classes as blueprints for **instantiating** objects. However, there's another useful way of seeing classes. In general, classes are just a name for a set of objects. We've already worked with sets before; Remember, **types**? A **type** was a convenient name for the set of onbjects one could put data into. For example, the **int** **type** allows you to store integers, so **ints** represent the set of integers where integers are the objects in the set. Likewise, **strings** represent the set of characters combined together. Finally, **lists** represents sets of objects that were joined together like a laundry list. But these **types** were custom defined; how could you make a new type of set of objects?\n",
    "\n",
    "The answer is classes. Classes can allow you make **custom** **types**. Need a type for calendar dates? Make a class called date. Need a type representing animals? Make a class called animal.\n",
    "\n",
    "Following the same pattern, here is an example of a class you are familiar with: The class of humans. Humanity is a set of people, and also a blueprint, since it is a general concept. Each human is an object of the class. **Attributes** are literally the characteristics of an object. So, our name, age, and year of school are attributes. We could even add more attributes like our social security number, our home address, etc. The skies the limit!\n",
    "\n",
    "Expanding out the humanity example for extra attention:\n",
    "class humanity:\n",
    "    - age\n",
    "    - name\n",
    "    - year in school\n",
    "    - social security\n",
    "    - home address\n",
    "    - phone number\n",
    "\n",
    "\"John\":\n",
    "    - 50\n",
    "    - \"John\"\n",
    "    - Not in school\n",
    "    - 1111111111\n",
    "    - 234 5th street\n",
    "    - 309 - 102- 0192\n",
    " \n",
    "Now it's your turn: Let's do some exercises to udnerstand the concept of classes and objects. \n",
    "\n",
    "#### Exercise: Brainstorming classes\n",
    "1. Generate 5 different classes. Create 2 objects for each class, fully instanting the attrbutes of the object\n",
    "2. Brainstorm 3 different attributes for the class of Apples. Here's a starter: the type of apple, e.g. \"Granny Smith\" or \"Jonagold\"\n",
    "3. Brainstorm 3 different attributes for the job of Construction Worker. Here's a start: the time to start work, e.g. 5 AM.\n",
    "4. Brainstorm 3 different attributes for a Grocery Store. Here's a starter: the brand of the store, e.g. \"Walmart\" or \"Kroger\"\n",
    "5. Given a class representing a traffic light with two attributes: time since changing color, and current color, instantiate the class with 3 different objects. That is, state the attributes for the traffic light in three different ways\n",
    "6. I need a new type for a fixed length list, e.g. a list that only ever holds two items. Come up with as many attributes as you can to describe this fixed length list. Also, if you are up for a challenge, search up on Google about Python Tuples. \n",
    "7. I need a new type that represents a block of data in memory. The block of data could be of any size, and it has a type associated with it. Tell me as many attributes as you can come up with to describe the block of data type. \n",
    "8. Just creating classes is a bit boring. Let's manipulate the classes. Here's a class: the class representing Rational Numnbers (notice this is a type!). We can store rational numbers as a list of length 2, the top being numerator and the bottom as denominator. Come up with 4 operations that we can do on two **instances** of the rational numbers **class**. For simplicity, assume that whenever a rational number part of the **class**, it will always be fully reduced, e.g, 2/4 will be reduced to 1/2 automatically.\n",
    "9. Come up with a class representing the set of phone numbers and give attributes for this class. One attribute, for example, is whether the number is American, or European, or somewhere else. \n",
    " \n",
    "### Sensor Class\n",
    "Getting back to project: we will have a set of sensors and a set of peripherals in the greenhouse. It might be useful to have a class for sensors since we have a set for both. The sensor class could act as a type for the set of sensors.\n",
    "\n",
    "Below, we will define a class for a sensor. The sensor will have a variable noting whether it is activated or not. We call the variable (or **attribute**) active. The sensor starts inactive, so we set active to False.\n",
    "\n",
    "Consider the class below. IT is a class for sensors. An instance of the class Sensor is a specific sensor. Now run the class the below and take note of the different parts of the class. \n",
    "\n",
    "How do we **instantiate** the class? We need to have a function that builds the object and returns it back to the user. The builder function is called a **constructor**. Python has a unique syntax for constructors, with \n",
    "```{python}\n",
    "__init__(self):\n",
    "```\n",
    "Self is the name of the object you can create, **__init__** is the constructor. Notice that the constructor is located in the class. We put it in the class because it is part of the blueprint: it tells us how to make an **instance** of the class. Also, **constructors never have return statements**. You do not need to return self. So **remember to not add return statements in a constructor**. \n",
    "\n",
    "Several things to note as you look through the syntax.\n",
    "1. The syntax for a class begins with the word \"class\" and is followed by the name, here, Sensor.\n",
    "2. The **__init__** function is a **constructor** for the class: it is responsible for building an object of the type class. So for example, if we were the architect, to create a house, we would call the init function\n",
    "3. To create the object, we do not call __init__, but we call the name of the class, Sensor. So use \n",
    "```python\n",
    "Sensor() \n",
    "```\n",
    "rather than __init__.\n",
    "4. Self represents the object. It is the _name_ of the object. For example, the address of the house that the architect builds would be the **self** for the house. Self allows for referencing the object just like the address of your home allows people to know where you live.\n",
    "5. In the cell after, I have created a sensor object in variable s. Self is not needed as an argument to the constructor, so there are no arguments in the function call"
   ]
  },
  {
   "cell_type": "code",
   "execution_count": null,
   "metadata": {},
   "outputs": [],
   "source": [
    "class Sensor:\n",
    "    \"\"\"\n",
    "    Sensor represents a sensor object\n",
    "    \n",
    "    Active is the activity of the sensor: True if on, false if false\n",
    "    \"\"\"\n",
    "    def __init__(self):\n",
    "        self.active = False"
   ]
  },
  {
   "cell_type": "code",
   "execution_count": null,
   "metadata": {},
   "outputs": [],
   "source": [
    "s = Sensor()"
   ]
  },
  {
   "cell_type": "markdown",
   "metadata": {},
   "source": [
    "And here is a sensor! You instantiated a sensor which you could maninpulate!But how can we manipulate the sensor. In the exercises earlier, we talked about how it would be nice to change objects, or even have objects interact with each other. We need functions to represent changes or interactions!\n",
    "\n",
    "Going back the to the sensor exaple: the sensor does not do much right now. You cannot turn it on. Let's add a method to turn on the sensor so that it can sense actions.\n",
    "\n",
    "We extend the class with a **method**. A **method** is a function that resides in a class. It manipulates an object of the class. Here, we want a method to turn the Sensor on. Naturally, the method must know which object to change; it needs a reference much like the address to your home. Thus, it needs to have self as an argument. In general, all methods of a class need self as an argument to be able to manipulate the objects of that class.\n",
    "\n",
    "So we create a method named turn_on, which has one argument self. It changes the **attribute** of self, active, to be True, representing on. Notice that the specification for the method follows the specification for the class, saying that active is true if the sensor is on. Also, the method does not return a value. This is ok, because self is set properly, which is what we want the method to do.\n",
    "\n",
    "Syntactically, notice that the method is just a function inside the class. Also, note that the first argument is **self**, representing the object you are operating on. So if you turn_on a light sensor # 1, you would have **self** as light sensor # 1. Methods **must always have one or more arguments**, one of which is self. Finally, notice that methods are just placed inside of the class. This is show via the indentation level of the functions being indented inside the class definition on the first line."
   ]
  },
  {
   "cell_type": "code",
   "execution_count": null,
   "metadata": {},
   "outputs": [],
   "source": [
    "class Sensor:\n",
    "    \"\"\"\n",
    "    Sensor represents a sensor object\n",
    "    \n",
    "    Active is the activity of the sensor: True if on, false if false\n",
    "    \"\"\"\n",
    "    def __init__(self):\n",
    "        self.active = False\n",
    "        \n",
    "    def turn_on(self):\n",
    "        \"\"\"\n",
    "        turn_on(self) turns on the sensor\n",
    "        \"\"\"\n",
    "        self.active = True\n",
    "\n",
    "    def turn_off(self):\n",
    "        \"\"\"\n",
    "        turn_off(self) turns off the sensor\n",
    "        \"\"\"\n",
    "        self.active = False\n"
   ]
  },
  {
   "cell_type": "markdown",
   "metadata": {},
   "source": [
    "Let's turn the sensor on now! We create an object s of class Sensor and we call turn_on on s. Notice that we need an argument for turn_on, and turn_on is not a constructor, so we cannot ignore self. Instead, we call the method like this: \n",
    "```python\n",
    "s.turn_on()\n",
    "```\n",
    "For method calls, we call methods in this fashion: \n",
    "```python\n",
    "object.method(additional args)\n",
    "```\n",
    "This is different from function calls, where we never do \n",
    "```python\n",
    "arg.func()\n",
    "```\n",
    "but we do \n",
    "```python\n",
    "func(arg)\n",
    "```\n",
    "You can remember the difference by knowing that methods belong to classes, and are special, while functions do not belong to the class you made."
   ]
  },
  {
   "cell_type": "code",
   "execution_count": null,
   "metadata": {},
   "outputs": [],
   "source": [
    "s = Sensor()\n",
    "s.turn_on()"
   ]
  },
  {
   "cell_type": "markdown",
   "metadata": {},
   "source": [
    "#### Exercise: Brainstorming Methods:\n",
    "1. Come up with 5 different methods for a class representing a runner. Here's 1: Drink Water. As a challenge, actually create the class in Python and add the method. \n",
    "2. Come up with 5 different methods for a class representing a bank. Here's 1: Deposit Money. As a challenge, actually create the class in Python and add the method. \n",
    "3. What are some methods that operate on the set of integers? On the set of strings? On the set of Lists? For each set, come up with as many methods as you can.\n",
    "4. Some sensors can be have a ambient light and direct light mode. Come up with a method to tell me which light mode the sensor is in, with pseudocode. Also, come up with a method to change the light mode. \n",
    "5. Suppose you have a fan object, with has a frequency of 200 hz and duty cycles of 1. Create a method for the fan class to change frequency and duty cycles, using psuedocode. As a challenge, actually create the class in Python and add the methods.\n",
    "6. Create a sensor object and try turning it on and off. Remember the syntax to call methods is \n",
    "```{python}\n",
    "object.method()\n",
    "```\n",
    "\n",
    "We've seen a basic sensor class with a method inside. In the greenhouse project, we also will have peripherals to change the conditions in the greenhouse. \n",
    "\n",
    "Now let's try to create a class for peripherals. Peripherals represent output devices, such as fans or heaters. Peripherals can be controlled in different ways. For example, Peripherals will be turned on and off, and have a frequency at which current is given. The frequency will be a number between 0 and 100. There is also a quantity called duty cycles, for which the value is between 0 and 10. Finally,m Peripherals need an output channel, which will be a number in this example (it could be a GPIO Pin object if we wanted). So we will need 4 attributes: activity, which is a boolean, frequency, a int. duty cycles, an int, and channel, also an int.\n",
    "\n",
    "We also want methods to activate and deactivate, and change the frequency and duty cycles. In addition, we want methods to get the current activity status, the frequency and duty cycles. This makes 7 methods.\n",
    "\n",
    "Of Course, we must create a constructor as well. Remember this uses __init__(self). Finally, you can start the activity of the peripheral as off when you create it. \n",
    "\n",
    "Also, let's give each peripheral a name so that we can identify it. Name is a string, like \"fan\" or \"heater\". \n",
    "\n",
    "Our class is shown completed below. Try making the class before actually looking at our solution."
   ]
  },
  {
   "cell_type": "code",
   "execution_count": null,
   "metadata": {},
   "outputs": [],
   "source": [
    "class Peripheral():\n",
    "\n",
    "    def __init__(self, freq, duty_cycles, name):\n",
    "        self.freq = freq\n",
    "        self.dc = duty_cycles\n",
    "        self.activity = False\n",
    "        self.name = name\n",
    "\n",
    "    def get_freq(self):\n",
    "        return self.freq\n",
    "\n",
    "    def get_dc(self):\n",
    "        return self.dc\n",
    "\n",
    "    def get_activity(self):\n",
    "        return self.activity\n",
    "\n",
    "    def get_name(self):\n",
    "        return self.name\n",
    "\n",
    "    def set_active(self):\n",
    "        self.active = True\n",
    "\n",
    "    def set_inactive(self):\n",
    "        self.active = False\n",
    "    \n",
    "    def set_freq(self, freq):\n",
    "        self.freq = freq\n",
    "\n",
    "    def set_dc(self, dc):\n",
    "        self.dc = dc\n"
   ]
  },
  {
   "cell_type": "markdown",
   "metadata": {},
   "source": [
    "We can play around with the Peripheral class we made above. For example, perhaps we want to have three peripherals. Maybe we also want to give them different names: fan, light and water valve. Here's the three peripherals. Notice the variables are appropriately named. \n",
    "\n",
    "Again, we create the object of Peripheral class by calling a function with the same name as the class, here, it is Peripheral\n",
    "```python\n",
    "Peripheral()\n",
    "```"
   ]
  },
  {
   "cell_type": "code",
   "execution_count": null,
   "metadata": {},
   "outputs": [],
   "source": [
    "light = Peripheral(0, 0, \"light\")\n",
    "valve = Peripheral(0, 0, \"valve\")\n",
    "fan = Peripheral(0, 0, \"fan\")"
   ]
  },
  {
   "cell_type": "markdown",
   "metadata": {},
   "source": [
    "We could manipulate these Peripherals. Let's turn the light on by activating it. Also, let's write a function that turns the light frequency to 0 when the duty cycles is over 10 and activity is True. Finally, let's write a function that takes in all three peripherals and returns a list of the duty cycles if all the duty cycles are greater than 10, otherwise a list of three 0's."
   ]
  },
  {
   "cell_type": "code",
   "execution_count": null,
   "metadata": {},
   "outputs": [],
   "source": [
    "# activate light\n",
    "light.set_active()\n",
    "\n",
    "def turn_light_frequency_to_0(light):\n",
    "    if light.get_dc() > 10 and light.get_activity() == True:\n",
    "        light.set_freq(0)\n",
    "\n",
    "def change_peripherals(light, valve, fan):\n",
    "    dc_light = light.get_dc()\n",
    "    dc_valve = valve.get_dc()\n",
    "    dc_fan = fan.get_dc()\n",
    "    if dc_fan > 10 and dc_valve > 10 and dc_light > 10:\n",
    "        return [dc_light, dc_valve, dc_fan]\n",
    "    return [0, 0, 0]"
   ]
  },
  {
   "cell_type": "markdown",
   "metadata": {},
   "source": [
    "#### Exercise: Class\n",
    "1. You've turned on the sensor! But we can do more. Try adding some other attributes and methods to the sensor. For example, make a method that prints(\"Sensor is on.\") if the sensor is active and otherwise prints(\"Sensor is off.\")\n",
    "\n",
    "2. Also, try adding an attribute that to represent the name of the sensor., Think of an appropriate type for this attribute and document it in the specificaiton. Make a method to print out the name of the sensor and test it out. To create an attribute, you can go to __init__ and add another line self.<attribute> = ... wherre attribute is the name you give to the attribute. For example, we have <attribute> = active in the above example.\n",
    "    \n",
    "3. Create a class representing a student: each student instance should have an age, a name, the year in school, gender and favorite food. This means the class has five attributes. Here is a template for the class you can use:\n",
    "```python\n",
    "class Student:\n",
    "    def __init__(self, name):\n",
    "        self.name = name\n",
    "        # add other attributes\n",
    "```\n",
    "Then create a student object. Make sure you have enough arguments in the constructor; not including self, there should be 5 arguments for the 5 attributes, and so when you call the function, you need 5 arguments.\n",
    "\n",
    "4. Create a class representing a bank account. It should have attributes of the amount of money, the id of the bank account and the bank's name. Here is a template:\n",
    "```python\n",
    "class Bank_Account:\n",
    "    def __init__(self, amount):\n",
    "        self.amount = amount\n",
    "        # add other attributes\n",
    "```\n",
    "\n",
    "5. As a challenge, add a method to print out the amount of money in the bank. Return that amount. This is called a **getter** method since it gets an attribute.\n",
    "\n",
    "6. As a challenge, add a method to change the amount of money in the bank by d dollars. Return the new changed amount. This is called a **setter** method since it changes the value of the attribute.\n",
    "\n",
    "7. Using the Sensor class above, turn off the sensor. You will need a sensor object to be created. Also, repeatedly turn on and off the sensor for 100 cycles.\n",
    "\n",
    "8. Using the Peripheral class above, create a peripheral. Turn off the peripheral when the frequency of the peripheral is above 20. Then turn it on if the peripheral's frequency is below 50.\n",
    "\n",
    "9. Write a function that creates a list of Peripherals, activates all of the peripherals and returns a list of all the peripherals frequencies\n",
    "\n",
    "10. Create a function that takes in a Peripheral object, and increases the frequnecy 100 times in succession. Print out the final frequnecy to make sure it is correct, then set the activity of the Peripheral to False. "
   ]
  },
  {
   "cell_type": "markdown",
   "metadata": {},
   "source": [
    "### Using Classes\n",
    "Using classes can be very helpful. We can use classes in different ways. For example, if we want a class full of students, we can create a list of student objects, We could then manipulate the student objects; for example, we could change each student's grade attribute."
   ]
  },
  {
   "cell_type": "code",
   "execution_count": null,
   "metadata": {},
   "outputs": [],
   "source": [
    "class Student:\n",
    "    \"\"\"\n",
    "    Student represents a student object\n",
    "    grade is the grade of a student, and is a string, e.g. 'A'\n",
    "    \"\"\"\n",
    "    def __init__(self, grade):\n",
    "        self.grade = grade\n",
    "    \n",
    "    def change_grade(self, new_grade):\n",
    "        self.grade = new_grade\n",
    "    \n",
    "    # __repr__ is a representation of the object, you do not need to know this\n",
    "    def __repr__(self):\n",
    "        return (\"The grade for this student is \" + self.grade)\n",
    "        \n",
    "student_list = [] # list of students\n",
    "for i in range(10): # create 10 students\n",
    "    student_list.append(Student('A'))\n",
    "    \n",
    "for i in range(10): # get initial grades\n",
    "    print(student_list[i])\n",
    "    \n",
    "for i in range(10):\n",
    "    student_list[i].change_grade('B') # change all students to grade B\n",
    "    \n",
    "for i in range(10): # get changed grades\n",
    "    print(student_list[i])"
   ]
  },
  {
   "cell_type": "markdown",
   "metadata": {},
   "source": [
    "Above, you can see how the student's grades change based on our setting method change_grade. This type of interaction of methods changing objects is typical in this project. In the Greenhouse project, you will be working with the classes that we create. You will create instances of the class, representing each sensor, and you will manipulate the sensors to read in input and turn on and turn off sensors. You will also get a chance to change the settings on the sensors as well, for example, like the power of a sensor. \n",
    "\n",
    "Let's try some exercises on using classes:\n",
    "#### Exercise: Using Classes\n",
    "1. Using the above class, use change_grade oto change 20 students grades to C's\n",
    "2. Add a new method to the class that assigns an exam grade to each student. Each student must then have an attribute called exam, which is an int between 0 and 100. \n",
    "3. As a challenge, make a method called assign grade, which for every student, takes a numerical score from the exam between 0 and 100, changes the exam attribute, adn assigns the student a grade between A and F. Assume that A range is above 90, B is above 80, C above 70, D above 60 and F is the rest. Use if statements in your method to make this possible. You may require to have a function call another function inside.\n",
    "4. Create a class named School. Inside the school, there are 3 grades, first, second and third grades. Create a Grade class for each grade. Then make the school have an attribute for each grade with a grade class. For each grade, assign that grade 100 students each by making grade have a students list attribute. "
   ]
  },
  {
   "cell_type": "markdown",
   "metadata": {},
   "source": [
    "### Using Classes Continued\n",
    "How can we use classes in other ways? \n",
    "\n",
    "We could put objects in other classes. For example, consider the class of bookshelves. Each bookshelve has book objects in it. So each bookshelf would be instantiated with book objects in it. Likewise, Python supports instantiating classes inside of classes.\n",
    "\n",
    "Brainstorm some examples of where you would have classes inside of another class. Think about real life examples.\n",
    "\n",
    "Classes can also function as abstract definitions for data structures. We could define a class for list, with operations like add, remove, check if an element is inside. So we can define the methods that the class will have. Thus, one can think of classes as abstract data types.\n",
    "\n",
    "In the greenhouse, we will use classes as a data type to hold information relating to peripherals and sensors. We have the operations on the data type, like reading from the sensor, and changing the peripheral. \n",
    "\n",
    "#### Exercise: Using Classes Continued\n",
    "1. Think of some operations that the sensor should have. For example, fine tuning the sensor.What attributes do these operations necessitate?\n",
    "2. Think of some operations that the peripherals should have. For example, receiving a message from the peripheral. What attributes do these operations necessitate?"
   ]
  },
  {
   "cell_type": "markdown",
   "metadata": {},
   "source": [
    "### Inheritance\n",
    "Why are classes good for code reuse? One of the examples is inheritance. Classes can inherit properties from parent classes. This means we do not have to duplicate code; the code from the parent class is implicitly given to the child class through inheritance. While we will not cover this in detail, we will demonstrate an example, with the Sensor class.\n",
    "\n",
    "The Sensor class represents a broad spectrum of sensors. A child of the sensor class is a specific type of sensor, for example, the class of light sensors. It inherits the attribute active, and gains a new attribute, the light intensity. It also inherits from the parent Sensor class, the turn_on method. We add a new method in the Light Sensor Class, the method change_intensity.\n",
    "\n",
    "Note the syntax of subclasses (child classes), where we wrap the Parent class in parenthesis:\n",
    "```python\n",
    "class Child(Parent):\n",
    "    pass\n",
    "```\n",
    "\n",
    "Also note how we use code reuse: we call\n",
    "```python\n",
    "super()\n",
    "```\n",
    "which allows us to call the superclass method (the parent class method). So When we call \n",
    "```python\n",
    "super().__init__\n",
    "```\n",
    "it calls the parent constructor for Light Sensor, or the Sensor Constructor. This way, I do not need self.active inside Light Sensor."
   ]
  },
  {
   "cell_type": "code",
   "execution_count": null,
   "metadata": {},
   "outputs": [],
   "source": [
    "class Sensor:\n",
    "    \"\"\"\n",
    "    Sensor represents a sensor object\n",
    "    \n",
    "    Active is the activity of the sensor: True if on, false if false\n",
    "    \"\"\"\n",
    "    def __init__(self):\n",
    "        self.active = False\n",
    "        \n",
    "    def turn_on(self):\n",
    "        \"\"\"\n",
    "        turn_on(self) turns on the sensor\n",
    "        \"\"\"\n",
    "        self.active = True\n",
    "    \n",
    "    def __repr__(self):\n",
    "        return str(self.active) # turn self.active boolean into string\n",
    "        \n",
    "class LightSensor(Sensor):\n",
    "    \"\"\"\n",
    "    LightSensor represents a light sensor object\n",
    "    \n",
    "    intensity is the activity of the sensor: it is an int between 0 and 100\n",
    "    \"\"\"\n",
    "    def __init__(self):\n",
    "        super().__init__()\n",
    "        self.intensity = 0\n",
    "        \n",
    "    def change_intensity(self, change):\n",
    "        \"\"\"\n",
    "        change_intensity(self, change) changes the current intensity of the light sensor\n",
    "        by change amount\n",
    "        \"\"\"\n",
    "        self.intensity = self.intensity + change\n",
    "        \n",
    "    def __repr__(self):\n",
    "        return super().__repr__() + \" \" + str(self.intensity)"
   ]
  },
  {
   "cell_type": "code",
   "execution_count": null,
   "metadata": {},
   "outputs": [],
   "source": [
    "ls = LightSensor()\n",
    "ls.change_intensity(24)\n",
    "ls.turn_on()\n",
    "str(ls)"
   ]
  },
  {
   "cell_type": "markdown",
   "metadata": {},
   "source": [
    "We see that the Light Sensor intensity changed, and that it is on! \n",
    "\n",
    "The class hierarchy is very useful; by adding inheritance, we allow for code resuse. Class and subclasses are used everywhere, and in this project, the classes for sensors and peripherals will be subclasses of another parent class.\n",
    "\n",
    "#### Exercise: Inheritance\n",
    "1. Make a parent class human with attribute name and make a subclass Student with attribute student_id.\n",
    "2. Extend the Sensor parent class above with another sensor, a humidity sensor. Let the humidity sensor have attribute humidity, which is a positive integer. Here is a template:\n",
    "```python\n",
    "class HumiditySensor(Sensor):\n",
    "    def __init__(self, humidity):\n",
    "        super().__init__()\n",
    "        # set the attribute\n",
    "```\n",
    "3. Add two methods to the humidity sensor class, to increase adn decrease humidity by an amount n each time. \n",
    "4. Extend the ligh sensor class above to have another method, to shine the light sensor. Make the attribute shine be true when you shine the sensor. You will need to add an attribute shine along with the method. Also, add a method to turn off the sensor. Print out the result by creating a light sensor object and printing the object. For convenience, here is a repr function you can put in your class to print:\n",
    "```python\n",
    "    def __repr__(self):\n",
    "        return super().__repr__() + \" \" + str(self.intensity) + \" \" + str(self.shine)\n",
    "```\n",
    "5. Create a parent class for Peripherals, with an activity attribute. Next, create 2 subclasses of this parent class. Make sure that one of the subclasses has at least one more attribute named frequency. "
   ]
  },
  {
   "cell_type": "markdown",
   "metadata": {},
   "source": [
    "## Visualization \n",
    "With lots of data, it is nice to have a way to summarize th information from the data. We can visualize the data to get a good idea of what the data says. Python has a module for easy visualization. It is called matplotlib, and we can import as a tool to help us make nice charts and graphs to visualize. Later on, in the greenhouse project, you will get a chance to collect adn visualize data, and matplotlib is a good place to start.\n",
    "\n",
    "Let's import matplotlib.pyplot as plt, meaning that we can refer to plt instead of matplotlib.pyplot. Some methods we might want are show.\n",
    "\n",
    "```python\n",
    "import matplotlib.pyplot as plt\n",
    "```\n",
    "\n",
    "### Histograms\n",
    "\n",
    "First let us visualize the frequency of data. Sometimes, when we have a lot of data, we mkight want to see which data observations occur the most often. For this, we can use a histogram, which the hist function is used for."
   ]
  },
  {
   "cell_type": "code",
   "execution_count": null,
   "metadata": {},
   "outputs": [],
   "source": [
    "import matplotlib.pyplot as plt\n",
    "import random\n",
    "\n",
    "random_nums = []\n",
    "for i in range(10000):\n",
    "    random_nums.append(random.randint(0, 100))\n",
    "\n",
    "%matplotlib inline\n",
    "plt.hist(random_nums)\n",
    "\n"
   ]
  },
  {
   "cell_type": "markdown",
   "metadata": {},
   "source": [
    "Ok, that's not that interesting. The numbers come from a random distribution that is roughly uniform. Let's try a different distribution."
   ]
  },
  {
   "cell_type": "code",
   "execution_count": null,
   "metadata": {},
   "outputs": [],
   "source": [
    "import numpy as np\n",
    "rand_nums = np.random.normal(0, 1, 200000)\n",
    "%matplotlib inline\n",
    "plt.hist(rand_nums)"
   ]
  },
  {
   "cell_type": "markdown",
   "metadata": {},
   "source": [
    "This is a bit more interesting. It's a bell shaped curve, indicating a Gaussian distribution. The reason it is normal / Gaussian is because the random number generator was np.random.normal, which makes a random curve. The normal distrbution can useful in statistical inference contexts, and if you notice a curve like this, the data is very nice.  \n",
    "\n",
    "### Scatterplots\n",
    "We can also check for relationships between variables. We create a scatterplot between two variables x and y, which hold lists of data. Now there's no real relationship, as we can see from the data below, when you execute the code. "
   ]
  },
  {
   "cell_type": "code",
   "execution_count": null,
   "metadata": {},
   "outputs": [],
   "source": [
    "import numpy as np\n",
    "xs = np.random.normal(0, 1, 200000) # 200000 normal random points\n",
    "ys = np.random.normal(0, 1, 200000) # 200000 normal random points\n",
    "%matplotlib inline\n",
    "plt.scatter(xs, ys)"
   ]
  },
  {
   "cell_type": "markdown",
   "metadata": {},
   "source": [
    "Python can do a lot more in Visualization. To learn other types of plots and charts, check out the API for Matplotlib. "
   ]
  },
  {
   "cell_type": "markdown",
   "metadata": {},
   "source": [
    "## Debugging\n",
    "What happens when our program does not do what we want it to? We have to debug the bugs in the program. The process is like a puzzle. You can make an estimated guess of where the problem is and try to verify and fix the problem. To help come up with guesses for what the bug is, we can use different methods\n",
    "\n",
    "We have different ways to pin down where bugs are, such as printing. We can also test our code to reveal more bugs!\n",
    "\n",
    "For example in the code below, we cannot find out why we do not get the number 10 for i. We use print statements to see what is happening:"
   ]
  },
  {
   "cell_type": "code",
   "execution_count": null,
   "metadata": {},
   "outputs": [],
   "source": [
    "for i in range(10):\n",
    "    # our code:\n",
    "    x = i + 1\n",
    "    y = x\n",
    "    # the print statement\n",
    "    print(i)"
   ]
  },
  {
   "cell_type": "markdown",
   "metadata": {},
   "source": [
    "Turns out we did not check the range(). We want range 11 to get the number 10. Print statements can be very helpful to isolate errors. In the next example, please try to find the errors and fix it.\n",
    "\n",
    "#### Exercise: Debugging"
   ]
  },
  {
   "cell_type": "code",
   "execution_count": null,
   "metadata": {},
   "outputs": [],
   "source": [
    "# prints \"hi\" when i >= 10\n",
    "# Does it work or can you fix the error?\n",
    "\n",
    "for i in range(100):\n",
    "    if i > 10:\n",
    "        print(i)"
   ]
  },
  {
   "cell_type": "markdown",
   "metadata": {},
   "source": [
    "## Testing\n",
    "Testing is a relatively cheap way to find and fix bugs. One could conceivably use loops and randomization to write millions of tests for certain programs. Yet, tests cannot prove correctness of programs; specificational correctness is only possible using mathematical proof, which you can study in formal verification. We won't cover the mathematical side; instead, we will focus on building solid test cases to find bugs and fix them. We can be reasonably sure, with a solid test suite, that our programs work as intended.\n",
    "\n",
    "Let's try testing the function which divides each number by 2 if it is even, but when it is odd, it multiplies by 3 and adds 1. *This is the Collatz problem*. We use the assert statement to test our answer, asserting the result equal to some expected value. So, inside the asserts is a boolean. If the boolean is false, we have an issue, and the asserts will cause an exception stopping execution. \n",
    "\n",
    "Here is our first try:"
   ]
  },
  {
   "cell_type": "code",
   "execution_count": null,
   "metadata": {},
   "outputs": [],
   "source": [
    "def collatz(n):\n",
    "    \"\"\"\n",
    "    collatz(n) divides n by 2 if n is even, otherwise multiples n by 3 and adds 1\n",
    "    n is positive integer and can be 0\n",
    "    returns an integer\n",
    "    \"\"\"\n",
    "    if n % 2 == 0: # % takes the remainder, so 3 % 2 is 1 and 2 % 2 is 0\n",
    "        return n / 2\n",
    "    else:\n",
    "        return 2 * n + 1\n",
    " \n",
    "assert collatz(0) == 0\n",
    "assert collatz(2) == 1\n",
    "assert collatz(4) == 2\n",
    "assert collatz(5) == 16"
   ]
  },
  {
   "cell_type": "markdown",
   "metadata": {},
   "source": [
    "We get an AssertionError! This means the asserts statement got a False value, on line 15, and that collatz(5) is not 16 as expected *since 5 * 3 + 1 = 16*. so we have to debug. Let's add print statements in each branch of the if and else:"
   ]
  },
  {
   "cell_type": "code",
   "execution_count": null,
   "metadata": {},
   "outputs": [],
   "source": [
    "def collatz(n):\n",
    "    \"\"\"\n",
    "    collatz(n) divides n by 2 if n is even, otherwise multiples n by 3 and adds 1\n",
    "    n is positive integer and can be 0\n",
    "    returns an integer\n",
    "    \"\"\"\n",
    "    if n % 2 == 0: # % takes the remainder, so 3 % 2 is 1 and 2 % 2 is 0\n",
    "        print(\"if\")\n",
    "        return n / 2\n",
    "    else:\n",
    "        print(\"Else\")\n",
    "        return 2 * n + 1\n",
    "    \n",
    "print(collatz(5))"
   ]
  },
  {
   "cell_type": "markdown",
   "metadata": {},
   "source": [
    "So the collatz function executes the else branch: the error must be in the else branch. And we see the error is we multiplied by 2 and not 3. Here is a better function with more test cases: it works now. There are no assertion errors."
   ]
  },
  {
   "cell_type": "code",
   "execution_count": null,
   "metadata": {},
   "outputs": [],
   "source": [
    "def collatz(n):\n",
    "    \"\"\"\n",
    "    collatz(n) divides n by 2 if n is even, otherwise multiples n by 3 and adds 1\n",
    "    n is positive integer and can be 0\n",
    "    returns an integer\n",
    "    \"\"\"\n",
    "    if n % 2 == 0: # % takes the remainder, so 3 % 2 is 1 and 2 % 2 is 0\n",
    "        return n / 2\n",
    "    else:\n",
    "        return 3 * n + 1\n",
    "    \n",
    "assert collatz(0) == 0\n",
    "assert collatz(2) == 1\n",
    "assert collatz(4) == 2\n",
    "assert collatz(5) == 16\n",
    "assert collatz(15) == 46\n",
    "assert collatz(1) == 4\n",
    "assert collatz(100) == 50\n",
    "assert collatz(67) == 202"
   ]
  },
  {
   "cell_type": "markdown",
   "metadata": {},
   "source": [
    "The lesson is to test extensively to hunt down bugs. We tried different represrntative tests, with 0, 1, 2 being small evens and odds numbers.We also tried normal cases like 4 and 5. Finally, we tried big even and odd numbers like 100 and 67.\n",
    "\n",
    "When you test, try to test the normal cases, and lots of edge cases like we did. Also, mever break the specificaiton: we say that n is a positive integer and can be 0. So we cannot test -1,-2, or any negative number."
   ]
  }
 ],
 "metadata": {
  "kernelspec": {
   "display_name": "venv",
   "language": "python",
   "name": "venv"
  },
  "language_info": {
   "codemirror_mode": {
    "name": "ipython",
    "version": 3
   },
   "file_extension": ".py",
   "mimetype": "text/x-python",
   "name": "python",
   "nbconvert_exporter": "python",
   "pygments_lexer": "ipython3",
   "version": "3.7.6"
  }
 },
 "nbformat": 4,
 "nbformat_minor": 2
}