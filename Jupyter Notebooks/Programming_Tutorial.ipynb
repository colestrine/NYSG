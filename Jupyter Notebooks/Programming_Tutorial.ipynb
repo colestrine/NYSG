{
 "cells": [
  {
   "cell_type": "markdown",
   "metadata": {},
   "source": [
    "References\n",
    "https://stackoverflow.com/questions/18162970/read-only-cells-in-ipython-notebook \n",
    "to edit metadata and make undeletable"
   ]
  },
  {
   "cell_type": "markdown",
   "metadata": {},
   "source": [
    "# Python Programming Tutorial\n",
    "We will be learning basics of programming in Python"
   ]
  },
  {
   "cell_type": "markdown",
   "metadata": {},
   "source": [
    "### Assignment Statements:\n",
    "Try running the following statements. You will be assigning numbers to variables foo and bar. Afterwards, try to change the values of foo and bar to 8 and 9, respectively. "
   ]
  },
  {
   "cell_type": "code",
   "execution_count": 37,
   "metadata": {},
   "outputs": [],
   "source": [
    "foo = 3\n",
    "bar = 4"
   ]
  },
  {
   "cell_type": "code",
   "execution_count": 38,
   "metadata": {},
   "outputs": [
    {
     "name": "stdout",
     "output_type": "stream",
     "text": [
      "3\n",
      "4\n"
     ]
    }
   ],
   "source": [
    "print(foo)\n",
    "print(bar)"
   ]
  },
  {
   "cell_type": "code",
   "execution_count": 39,
   "metadata": {},
   "outputs": [
    {
     "name": "stdout",
     "output_type": "stream",
     "text": [
      "5\n",
      "4\n"
     ]
    }
   ],
   "source": [
    "foo = 5\n",
    "print(foo)\n",
    "print(bar)"
   ]
  },
  {
   "cell_type": "markdown",
   "metadata": {},
   "source": [
    "You probably realized that print(<var_name>) prints out the value of the variable. So if variable name = 3, then print(name) will print 3 to the screen. In fact, print can be used in many places, from debugging, to user interaction, to logging results. Make a cell, create a new variable var with value -1 and print the variable var. Try printing other variables; printing is very useful!\n",
    "\n",
    "Let's use printing to guess what the following operators *, - and / will give us as output."
   ]
  },
  {
   "cell_type": "code",
   "execution_count": 40,
   "metadata": {},
   "outputs": [
    {
     "name": "stdout",
     "output_type": "stream",
     "text": [
      "15\n",
      "1.0\n",
      "6\n"
     ]
    }
   ],
   "source": [
    "print(3 * 5)\n",
    "print(2 / 2)\n",
    "print(10 - 4)"
   ]
  },
  {
   "cell_type": "markdown",
   "metadata": {},
   "source": [
    "It's just multiplication, division and subtraction!\n",
    "\n",
    "What about 2/3?"
   ]
  },
  {
   "cell_type": "code",
   "execution_count": 41,
   "metadata": {},
   "outputs": [
    {
     "name": "stdout",
     "output_type": "stream",
     "text": [
      "0.6666666666666666\n"
     ]
    }
   ],
   "source": [
    "print(2/3)"
   ]
  },
  {
   "cell_type": "markdown",
   "metadata": {},
   "source": [
    "We got a decimal! In Python, we say that this is a float, a floating point number. So we have decimals in python as well. HEre are some examples of floats:"
   ]
  },
  {
   "cell_type": "code",
   "execution_count": 42,
   "metadata": {},
   "outputs": [
    {
     "name": "stdout",
     "output_type": "stream",
     "text": [
      "7.99\n",
      "-20.0\n",
      "34.78\n"
     ]
    }
   ],
   "source": [
    "print(3.44 + 4.55)\n",
    "print(6.0 / -0.3)\n",
    "print(3.7 * 9.4)"
   ]
  },
  {
   "cell_type": "markdown",
   "metadata": {},
   "source": [
    "Add a few cells below, showing multiplication of three floating point numbers 3.0, 5.455 and 6.055. Print out your anwwer. Also do division, and subtration and addition of these floating point numbers. Also, assign a variable to a float, and to an int. Try doing more complex operations and assigning that operation to a variable with your choice for the name"
   ]
  },
  {
   "cell_type": "markdown",
   "metadata": {},
   "source": [
    "### TYPES\n",
    "How can we store different values? For example, can we store decimals, or words, or even a collection of items like a shopping list in Python?\n",
    "\n",
    "### STRINGS\n",
    "\n",
    "Python has many different data types ready for your use. You just used ints, which are a machine representation of integers. How about a type for characters or words? Python also has a type for that: strings"
   ]
  },
  {
   "cell_type": "code",
   "execution_count": 43,
   "metadata": {},
   "outputs": [
    {
     "name": "stdout",
     "output_type": "stream",
     "text": [
      "Hello World!\n"
     ]
    }
   ],
   "source": [
    "s = \"Hello World!\"\n",
    "print(s)"
   ]
  },
  {
   "cell_type": "code",
   "execution_count": 44,
   "metadata": {},
   "outputs": [
    {
     "name": "stdout",
     "output_type": "stream",
     "text": [
      "j\n"
     ]
    }
   ],
   "source": [
    "s = \"My name is \" + input() + \".\""
   ]
  },
  {
   "cell_type": "code",
   "execution_count": 45,
   "metadata": {},
   "outputs": [
    {
     "name": "stdout",
     "output_type": "stream",
     "text": [
      "My name is j.\n"
     ]
    }
   ],
   "source": [
    "print(s)\n"
   ]
  },
  {
   "cell_type": "markdown",
   "metadata": {},
   "source": [
    "Create a string assigned to a variable named s1 with your favorite food. Remember to wrap your string with \" \" quotes at the start and end."
   ]
  },
  {
   "cell_type": "markdown",
   "metadata": {},
   "source": [
    "### Booleans and Comparisons\n",
    "\n",
    "Another basic type that Python includes is a type with only two values: True and False. This is the Boolean type. Booleans can useful when we only have to check two conditions, such as if something will occur or not."
   ]
  },
  {
   "cell_type": "code",
   "execution_count": 46,
   "metadata": {},
   "outputs": [
    {
     "name": "stdout",
     "output_type": "stream",
     "text": [
      "True\n",
      "False\n"
     ]
    }
   ],
   "source": [
    "x = True\n",
    "print(True)\n",
    "y = False\n",
    "print(False)"
   ]
  },
  {
   "cell_type": "markdown",
   "metadata": {},
   "source": [
    "We can use bools for comparisons. For example, if we check two numbers or strings are the same, we get a bool. Or if we check for inequality, we get a bool. Of note is the operations: == is for equality, != for inequality, >=, <= , < and > have the standard mathematical meanings as greater than or equal, less than or equal, less than and greater than, respectively.\n",
    "\n",
    "So what happens if we print(3 == 3)? What do you think should be the outcome? True or False?\n",
    "How about print(5 > 4)\n",
    "Or print(3.0 < 7)\n",
    "or print(5.6 <= -3.4)\n",
    "or print (7 != 8)\n",
    "or print (7 != 7)\n",
    "Run the next cell to see!"
   ]
  },
  {
   "cell_type": "code",
   "execution_count": 47,
   "metadata": {},
   "outputs": [
    {
     "name": "stdout",
     "output_type": "stream",
     "text": [
      "True\n",
      "True\n",
      "False\n",
      "True\n",
      "False\n",
      "True\n",
      "False\n"
     ]
    }
   ],
   "source": [
    "print(5 > 4)\n",
    "print(3.0 < 7)\n",
    "print(5.6 <= -3.4)\n",
    "print (7 != 8)\n",
    "print (7 != 7)\n",
    "print (3 <= 3)\n",
    "print (7 == 9)"
   ]
  },
  {
   "cell_type": "markdown",
   "metadata": {},
   "source": [
    "Was that what you expected? It's pretty simple once you get the hang of it.\n",
    "\n",
    "Can we chain booleans together? Yes! We can use _and_ and _or_ to do this.\n",
    "\n",
    "What is true and true? - > True!\n",
    "How about true or false -> True (because one of the two is true)\n",
    "How about true and false -> False (because and requires both to be true to give true)"
   ]
  },
  {
   "cell_type": "code",
   "execution_count": 48,
   "metadata": {},
   "outputs": [
    {
     "name": "stdout",
     "output_type": "stream",
     "text": [
      "False\n",
      "True\n",
      "True\n"
     ]
    }
   ],
   "source": [
    "print(True and False)\n",
    "print(False or True)\n",
    "x = 0\n",
    "print(x == 0 or x > 0)"
   ]
  },
  {
   "cell_type": "markdown",
   "metadata": {},
   "source": [
    "Finally, we can negate a boolean. This one is easy. What is not True -> False! And what is not false? Try below!"
   ]
  },
  {
   "cell_type": "code",
   "execution_count": 49,
   "metadata": {},
   "outputs": [
    {
     "name": "stdout",
     "output_type": "stream",
     "text": [
      "False\n",
      "True\n",
      "True\n"
     ]
    }
   ],
   "source": [
    "print(not True)\n",
    "print(not False)\n",
    "y = 4\n",
    "print(not y != 4)"
   ]
  },
  {
   "cell_type": "markdown",
   "metadata": {},
   "source": [
    "### Lists\n",
    "\n",
    "How about a container type for collecting up elements of another type? Python has several different basic containes. Some of these include the list and the tuple. Let's see the list first."
   ]
  },
  {
   "cell_type": "code",
   "execution_count": 50,
   "metadata": {},
   "outputs": [],
   "source": [
    "lst = [1, 2, 3, 4, 5, 6, 7, 8, 9, 10]"
   ]
  },
  {
   "cell_type": "code",
   "execution_count": 51,
   "metadata": {},
   "outputs": [
    {
     "name": "stdout",
     "output_type": "stream",
     "text": [
      "[1, 2, 3, 4, 5, 6, 7, 8, 9, 10]\n"
     ]
    }
   ],
   "source": [
    "print(lst)"
   ]
  },
  {
   "cell_type": "markdown",
   "metadata": {},
   "source": [
    "Lists can hold as many things as you want, and the items inside can mixes of any type, including lists. Let's see an example."
   ]
  },
  {
   "cell_type": "code",
   "execution_count": 52,
   "metadata": {},
   "outputs": [],
   "source": [
    "new_lst = [[1, 2, 3], \"hello\", 5]"
   ]
  },
  {
   "cell_type": "code",
   "execution_count": 53,
   "metadata": {},
   "outputs": [
    {
     "name": "stdout",
     "output_type": "stream",
     "text": [
      "[[1, 2, 3], 'hello', 5]\n"
     ]
    }
   ],
   "source": [
    "print(new_lst)"
   ]
  },
  {
   "cell_type": "markdown",
   "metadata": {},
   "source": [
    "How about this next list? What is in it?"
   ]
  },
  {
   "cell_type": "code",
   "execution_count": 54,
   "metadata": {},
   "outputs": [
    {
     "name": "stdout",
     "output_type": "stream",
     "text": [
      "[]\n"
     ]
    }
   ],
   "source": [
    "x = []\n",
    "print(x)"
   ]
  },
  {
   "cell_type": "markdown",
   "metadata": {},
   "source": [
    "It's the empty list: it has nothing inside. The empty list can be useful if we want to start off with an empty list and add items: its like a empty shopping cart to which we can place groceries inside. But how can we add stuff to a list? Append()"
   ]
  },
  {
   "cell_type": "code",
   "execution_count": 55,
   "metadata": {},
   "outputs": [
    {
     "name": "stdout",
     "output_type": "stream",
     "text": [
      "[1]\n"
     ]
    }
   ],
   "source": [
    "x = []\n",
    "x.append(1)\n",
    "print(x)"
   ]
  },
  {
   "cell_type": "markdown",
   "metadata": {},
   "source": [
    "We added the value of 1 to x! Let's try adding the values 0 and 3 as well"
   ]
  },
  {
   "cell_type": "code",
   "execution_count": 56,
   "metadata": {},
   "outputs": [
    {
     "name": "stdout",
     "output_type": "stream",
     "text": [
      "[1, 0, 3]\n"
     ]
    }
   ],
   "source": [
    "x.append(0)\n",
    "x.append(3)\n",
    "print(x)"
   ]
  },
  {
   "cell_type": "markdown",
   "metadata": {},
   "source": [
    "Notice we added values at the right end of the list. We will call the right end the tail fo the list adn the left end the head. So append appends values to the tail. We can add to an arbitrary location as well.Suppose we want to add to the head of the list. We can use insert()"
   ]
  },
  {
   "cell_type": "code",
   "execution_count": 57,
   "metadata": {},
   "outputs": [
    {
     "name": "stdout",
     "output_type": "stream",
     "text": [
      "[4, 1, 0, 3]\n"
     ]
    }
   ],
   "source": [
    "x.insert(0, 4)\n",
    "print(x)"
   ]
  },
  {
   "cell_type": "markdown",
   "metadata": {},
   "source": [
    "Notice how we added the value 4 at position 0 using insert. In general, insert takes a position p and a value n to add to the list. Now we can insert values anywhere in the list.\n",
    "\n",
    "You might notice we start at position 0 at the left end side, or the head of the list. In general, Python numbers every collection from **0. The first item of any collection is 0, the next is location 1, and so on. So remember to count from 0!**\n",
    "\n",
    "We can see this when we get elements from strings and lists. Let's try indexing a list and a string to get elements inside, keeping in mind we start from **0**. \n",
    "\n",
    "To get an item from a string or a list, or any other collection, we can use the notation string[i] or list[i] to get the ith element from the list. So if the lsit was named items, and we wanted the first item, we would do items[0]. To get the 10th element from items, we do items[9]."
   ]
  },
  {
   "cell_type": "code",
   "execution_count": 58,
   "metadata": {},
   "outputs": [
    {
     "name": "stdout",
     "output_type": "stream",
     "text": [
      "E\n",
      "i\n",
      "50\n",
      "6\n"
     ]
    }
   ],
   "source": [
    "s = \"Engineers\"\n",
    "print(s[0])\n",
    "print(s[3])\n",
    "\n",
    "items = [30, 50, 2, 3, -4, 0, 5, 6]\n",
    "print(items[1])\n",
    "print(items[7])"
   ]
  },
  {
   "cell_type": "markdown",
   "metadata": {},
   "source": [
    "We can also  manipulate the items in a list. For example, let's change the first element of items to -100. We can use the same notation as getting an element, just changed a bit. Now, we have items[0] = -100, with items[0] on the left of the equals sign. Think of it as assignment - you are assigning the first element of items the value -100."
   ]
  },
  {
   "cell_type": "code",
   "execution_count": 59,
   "metadata": {},
   "outputs": [
    {
     "name": "stdout",
     "output_type": "stream",
     "text": [
      "[-100, 50, 2, 3, -4, 0, 5, 6]\n"
     ]
    }
   ],
   "source": [
    "items[0] = -100\n",
    "print(items)"
   ]
  },
  {
   "cell_type": "markdown",
   "metadata": {},
   "source": [
    "Let's try the same thing for strings: can we do s[0] = \"h\" to change the string's first character to h?"
   ]
  },
  {
   "cell_type": "code",
   "execution_count": 60,
   "metadata": {},
   "outputs": [
    {
     "ename": "TypeError",
     "evalue": "'str' object does not support item assignment",
     "output_type": "error",
     "traceback": [
      "\u001b[0;31m---------------------------------------------------------------------------\u001b[0m",
      "\u001b[0;31mTypeError\u001b[0m                                 Traceback (most recent call last)",
      "\u001b[0;32m<ipython-input-60-28afdf8ed541>\u001b[0m in \u001b[0;36m<module>\u001b[0;34m()\u001b[0m\n\u001b[0;32m----> 1\u001b[0;31m \u001b[0ms\u001b[0m\u001b[0;34m[\u001b[0m\u001b[0;36m0\u001b[0m\u001b[0;34m]\u001b[0m \u001b[0;34m=\u001b[0m \u001b[0;34m'h'\u001b[0m\u001b[0;34m\u001b[0m\u001b[0;34m\u001b[0m\u001b[0m\n\u001b[0m",
      "\u001b[0;31mTypeError\u001b[0m: 'str' object does not support item assignment"
     ]
    }
   ],
   "source": [
    "s[0] = 'h'"
   ]
  },
  {
   "cell_type": "markdown",
   "metadata": {},
   "source": [
    "You got a TypeError! Oh No! An error means that Python cannot do the intended operation. Python explains strings do not have item assignment. \n",
    "\n",
    "Actually, this shows that strings are **immutable**. Once you assign a string its characters, you cannot change the characters inside. So you cannot delete the character 'e' in the beginning of the string 'engineers', nor can you add to the string, nor can you change the characters, like the 'e' to another character. You can, however, make a new string or resassign the string. So we could still do the actions shown below:"
   ]
  },
  {
   "cell_type": "code",
   "execution_count": null,
   "metadata": {},
   "outputs": [],
   "source": [
    "s = \"hi\"\n",
    "s = \"hello\"\n",
    "s = \"hello\" + \"!\"\n",
    "s = s + \" \" + s\n",
    "print(s)"
   ]
  },
  {
   "cell_type": "markdown",
   "metadata": {},
   "source": [
    "### COMMENTS:\n",
    "Sometimes, we want to explain our code, but we do not want Python to ezecute the code, Comments are the right way to do this. They allow us to type out the explanation for future readers, and ourselves, especially in places with hard to understand logic. A good rule of thumb is to comment blocks of code, but not excessively"
   ]
  },
  {
   "cell_type": "code",
   "execution_count": null,
   "metadata": {},
   "outputs": [],
   "source": [
    "# Hi This is a comment\n",
    "\n",
    "# Comments begin with a hash tag symbol\n",
    "\n",
    "# You can write anything in a comment and it is ignored by Python"
   ]
  },
  {
   "cell_type": "markdown",
   "metadata": {},
   "source": [
    "## CONTROL FLOW"
   ]
  },
  {
   "cell_type": "markdown",
   "metadata": {},
   "source": [
    "### IF - ELIF - ELSE"
   ]
  },
  {
   "cell_type": "markdown",
   "metadata": {},
   "source": [
    "Let's see if we can influence what code is executed. What do you think will be printed out below?"
   ]
  },
  {
   "cell_type": "code",
   "execution_count": null,
   "metadata": {},
   "outputs": [],
   "source": [
    "b = True\n",
    "if b:\n",
    "    print(\"Hi\")\n",
    "else:\n",
    "    print(\"Bye\")"
   ]
  },
  {
   "cell_type": "markdown",
   "metadata": {},
   "source": [
    "There are two types of booleans: True and False. Can you infer how to make the above code print \"Bye\"?"
   ]
  },
  {
   "cell_type": "markdown",
   "metadata": {},
   "source": [
    "Can we try replacing b with False? Let's do an assignment statement to see what happens:"
   ]
  },
  {
   "cell_type": "code",
   "execution_count": null,
   "metadata": {},
   "outputs": [],
   "source": [
    "b = False\n",
    "if b:\n",
    "    # Inside If statement\n",
    "    print(\"Hi\")\n",
    "else:\n",
    "    # Inside Else statement\n",
    "    print(\"Bye\")"
   ]
  },
  {
   "cell_type": "markdown",
   "metadata": {},
   "source": [
    "If-else statements are interesting. They allow us to alter flow of the program in run time. The behavior is straightforward: we check the value of b, which we call the guard. If b is true, then we execute the statements inside of the if statement, where the \"inside if statement indicates\". We then skip the else statement. Otherwise, if b were False, we completely skip over the if statement and go the else statement. We would execute the statements in the else statement instead. \n",
    "\n",
    "But what if want to have multiple branches? Say what happens if we want to do something when x > 0, something else when x = 0 and lastly, something when x < 0:"
   ]
  },
  {
   "cell_type": "code",
   "execution_count": 61,
   "metadata": {},
   "outputs": [
    {
     "name": "stdout",
     "output_type": "stream",
     "text": [
      "X is positive\n"
     ]
    }
   ],
   "source": [
    "x = 3\n",
    "if x < 0:\n",
    "    # Inside If Branch\n",
    "    print(\"X is negative\")\n",
    "elif x == 0:\n",
    "    # Inside Elif branch\n",
    "    print(\"X is 0\")\n",
    "else:\n",
    "    # Inside Else Branch\n",
    "    print(\"X is positive\")"
   ]
  },
  {
   "cell_type": "markdown",
   "metadata": {},
   "source": [
    "We add the elif statement in order to add additional branching behavior. The elif has another guard which checks the value in the guard, and if the value is true, we execute what is inside the elif statement"
   ]
  },
  {
   "cell_type": "markdown",
   "metadata": {},
   "source": [
    "### Repetition - Loops\n",
    "What happens if we want to repeat our code 3 times in a row? Or how about repeat until we get a variable is larger than 10?\n",
    "We need repetition. Python provides two simple constructs for repetition: the For Loop,  and the While Loop. For loops terminate after a specified number of iterations; while loop terminate after a condition is reached."
   ]
  },
  {
   "cell_type": "markdown",
   "metadata": {},
   "source": [
    "#### FOR LOOPS:\n",
    "Let's have our code print out \"hi\" 3 times in a row. Because we have a specified number of iterations, we can use a for loop. "
   ]
  },
  {
   "cell_type": "code",
   "execution_count": null,
   "metadata": {},
   "outputs": [],
   "source": [
    "for i in range(3):\n",
    "    print(\"Hi\")"
   ]
  },
  {
   "cell_type": "markdown",
   "metadata": {},
   "source": [
    "Notice the format: we have the for opening the statement, in range(3), where 3 is the number of iterations. Inside, we print(\"HI\") 3 times."
   ]
  },
  {
   "cell_type": "markdown",
   "metadata": {},
   "source": [
    "Can you make a for loop which prints your name out 10 times?"
   ]
  },
  {
   "cell_type": "markdown",
   "metadata": {},
   "source": [
    "We can further work with for loops without specifying a range. Whenever we have a container type, such as a list or a string, we can use the for loop to unpack the elements and iterate over. Let's examine with a list:"
   ]
  },
  {
   "cell_type": "code",
   "execution_count": null,
   "metadata": {},
   "outputs": [],
   "source": [
    "lst = [1, 2, 3, 4, 5, 6]\n",
    "for n in lst:\n",
    "    print(n)"
   ]
  },
  {
   "cell_type": "markdown",
   "metadata": {},
   "source": [
    "Notice we do not have to use range here. In fact, range actually creates a list. For example, range(3) equals the list [0, 1, 2], ending before 3. So when we do range(n), we really mean we iterate over a list with n elements, starting at 0 and ending at n - 1. _As an aside, range actually does not create a list immediately; it uses lazy evaluation to defer getting each element of the list until that element is needed._ \n",
    "\n",
    "### WHILE LOOPS\n",
    "\n",
    "With all this in mind, we can now iterate for a specified amount of iterations. How about iterating until I enter Yes? Can we go on for an indefinite amount of time before ending the iteration? Yes, we can do this with a while loop. The while loop below will run forever until you type in \"Yes\". Try it!"
   ]
  },
  {
   "cell_type": "code",
   "execution_count": null,
   "metadata": {},
   "outputs": [],
   "source": [
    "s = \"\"\n",
    "while (s != \"yes\"):\n",
    "    s = input(\"Type Yes to end \")\n",
    "    s = s.lower().strip()"
   ]
  },
  {
   "cell_type": "markdown",
   "metadata": {},
   "source": [
    "It can be confusing to know when to use a while loop versus using a for loop. Let's consider several situations. \n",
    "Would you use a for loop or while loop when waiting for a button press from the user?\n",
    "How about when iterating over a string, and considering several elements at a time?\n",
    "How about a iteration of a list, except you are doing operations from both ends of the list?"
   ]
  },
  {
   "cell_type": "markdown",
   "metadata": {},
   "source": [
    "## Functions:\n",
    "At the heart of programming is functions. Functions are one of the ways we resuse code without copy and pasting. Functions help us map an input to a known output, and are thus predictable, With code reuse and predictability, we can have an easier time reasoning that our code is correct. This means less bugs! \n",
    "\n",
    "What is a function example though? Consider a function that adds the numbers in a list. Let's see this in action."
   ]
  },
  {
   "cell_type": "code",
   "execution_count": null,
   "metadata": {},
   "outputs": [],
   "source": [
    "def sum_list(lst):\n",
    "    \"\"\"\n",
    "    Sums the numbers in lst\n",
    "    lst is a list of ints\n",
    "    Returns the sum\n",
    "    \"\"\"\n",
    "    total = 0\n",
    "    for n in lst:\n",
    "        total = total + n\n",
    "    return total\n",
    "\n",
    "n = 10\n",
    "print(sum_list(range(n + 1)))"
   ]
  },
  {
   "cell_type": "markdown",
   "metadata": {},
   "source": [
    "Cool! Seems to work well. We can sum up the list. Here, we learned two things: How to write the function, which begins at the \"def\" statement and ends with a \"return\" if we choose to return a value [we could omit the return if we do not return anything]. We also learn how to \"call\" the function. We call the function on the list created by range, and the function spits out an answer. \n",
    "\n",
    "When you are the user of a function, You could imagine the function as a blackbox where magically, the right answer comes out. For instance, there is a function in Python called sum that does what we did above. All we have to know as the user is what sum does. We do not need to know what happens inside of sum. \n",
    "\n",
    "But when we implement the function, we have to think to follow a specification: the guidelines and rules of what the user wants. We must make sure that the user gets their intended result. \n",
    "\n",
    "Notice the specification above. It is in docstrings, or the \"\"\" ... \"\"\" section of quotes. It is treated like a comment and is not executed by Python. But it tells the user exactly what the function will do.\n",
    "\n",
    "Let's try writing some specifications, calling some functions, and finally implementing some functions with specifications. These will be very useful skills later on, so master them now."
   ]
  },
  {
   "cell_type": "code",
   "execution_count": null,
   "metadata": {},
   "outputs": [],
   "source": [
    "# Give the Specifications for the functions below: e.g. tell me what the function does\n",
    "# Feel free to try values in the functions to see what they do\n",
    "# Append adds on elements to the end of the list\n",
    "def add_1(n):\n",
    "    \"\"\"\n",
    "    Fill in the Specification: Remember to give types and return values\n",
    "    \"\"\"\n",
    "    return n + 1\n",
    "\n",
    "\n",
    "def mult(x, y):\n",
    "    \"\"\"\n",
    "    Fill in the Specification: Remember to give types and return values\n",
    "    \"\"\"\n",
    "    return x * y\n",
    "\n",
    "def rep(s, n):\n",
    "    \"\"\"\n",
    "    Fill in the Specification: Remember to give types and return values\n",
    "    \"\"\"\n",
    "    lst = []\n",
    "    for i in range(n):\n",
    "        lst.append(s)\n",
    "    return lst\n",
    "\n",
    "def harder(n, lst):\n",
    "    \"\"\"\n",
    "    Fill in the Specification: Remember to give types and return values\n",
    "    Here, lst is a lst of Ints\n",
    "    \"\"\"\n",
    "    i = 0\n",
    "    while (i != len(lst)):\n",
    "        lst[i] = lst[i] + 1\n",
    "        i += 1\n",
    "    return lst\n",
    "        \n",
    "    "
   ]
  },
  {
   "cell_type": "code",
   "execution_count": null,
   "metadata": {},
   "outputs": [],
   "source": [
    "# Call some functions"
   ]
  },
  {
   "cell_type": "code",
   "execution_count": null,
   "metadata": {},
   "outputs": [],
   "source": [
    "# Fill in the functio"
   ]
  },
  {
   "cell_type": "markdown",
   "metadata": {},
   "source": [
    "Functions can have multiple arguments; For example, consider a function that adds two numbers together:\n",
    "def add (x, y):\n",
    "    return x + y\n",
    "    \n",
    "In general, you can have as many function arguments as you want. "
   ]
  },
  {
   "cell_type": "code",
   "execution_count": 70,
   "metadata": {},
   "outputs": [
    {
     "name": "stdout",
     "output_type": "stream",
     "text": [
      "5\n"
     ]
    }
   ],
   "source": [
    "def add (x, y):\n",
    "    \"\"\"\n",
    "    adds x and y and returns the sum \n",
    "    \"\"\"\n",
    "    return x + y\n",
    "\n",
    "print(add(2, 3))"
   ]
  },
  {
   "cell_type": "markdown",
   "metadata": {},
   "source": [
    "So how are functions good for code reuse? Consider this code:\n",
    "\n",
    "s1 = \"Steven\"\n",
    "s1.lower().strip()\n",
    "s1 += \" \"\n",
    "s2 += \"Says Hi\"\n",
    "\n",
    "s2 = \"Jane\"\n",
    "s2.lower().strip()\n",
    "s2 += \" \"\n",
    "s2 += \"Says Hi!\"\n",
    "\n",
    "Notice the lower and the strip are repeated over and over, then the appending to the string is also repeated. We could turn this into its own function."
   ]
  },
  {
   "cell_type": "code",
   "execution_count": 64,
   "metadata": {},
   "outputs": [
    {
     "name": "stdout",
     "output_type": "stream",
     "text": [
      "Steven Says Hi!\n",
      "Jane Says Hi!\n"
     ]
    }
   ],
   "source": [
    "s1 = \"Steven\"\n",
    "s1.lower().strip()\n",
    "s1 += \" \"\n",
    "s1 += \"Says Hi!\"\n",
    "print(s1)\n",
    "\n",
    "s2 = \"Jane\"\n",
    "s2.lower().strip()\n",
    "s2 += \" \"\n",
    "s2 += \"Says Hi!\"\n",
    "print(s2)"
   ]
  },
  {
   "cell_type": "markdown",
   "metadata": {},
   "source": [
    "Instead, we have this function with the same result!"
   ]
  },
  {
   "cell_type": "code",
   "execution_count": 67,
   "metadata": {},
   "outputs": [
    {
     "name": "stdout",
     "output_type": "stream",
     "text": [
      "Steven Says Hi!\n",
      "Jane Says Hi!\n"
     ]
    }
   ],
   "source": [
    "def says_hi(name):\n",
    "    \"\"\"\n",
    "    Makes name say hi!\n",
    "    Returns name with says hi! appending\n",
    "    Returns String\n",
    "    Requires: name is a string\n",
    "    \"\"\"\n",
    "    name.lower().strip()\n",
    "    name += \" \"\n",
    "    name += \"Says Hi!\"\n",
    "    return name\n",
    "\n",
    "s1 = \"Steven\"\n",
    "s2 = \"Jane\"\n",
    "print(says_hi(s1))\n",
    "print(says_hi(s2))"
   ]
  },
  {
   "cell_type": "markdown",
   "metadata": {},
   "source": [
    "Let's try some examples to reduce code being copy and pasting (which is a big source of computer bugs) and instead write some functions to increase code reuse. For the examples below, write your own functions to abstract away some functionality into a function that can be reused."
   ]
  },
  {
   "cell_type": "code",
   "execution_count": 68,
   "metadata": {},
   "outputs": [],
   "source": [
    "# Example 1: write a function to calculate z and r \n",
    "x = 3\n",
    "y = 4\n",
    "\n",
    "z = x * y\n",
    "z = z + 1\n",
    "z = z / 2\n",
    "z = z * z\n",
    "\n",
    "l = 2\n",
    "m = 3\n",
    "\n",
    "r = l * m\n",
    "r = r + 1\n",
    "r = r / 2\n",
    "r = r * r\n",
    "\n",
    "# Example 2"
   ]
  },
  {
   "cell_type": "markdown",
   "metadata": {},
   "source": [
    "## Classes and Object Oriented Programming"
   ]
  },
  {
   "cell_type": "markdown",
   "metadata": {},
   "source": [
    "You have seen functions being used to reuse code. Now, you will learn about classes. Classes are another way to reduce code, and are central to object oreinted programming. A class is really a blueprint for an object. For example, consider an architect's blueprint. It represents a \"class\" of houses, but is not a house itself. To instantiate the 'class', we built an actual house. So the house is an object, while the class is the blueprint the house.\n",
    "\n",
    "Below, we will define a class for a sensor. The sensor will have a variable noting whether it is activated or not. We call the variable (or **attribute**) active. The sensor starts inactive, so we set active to False.\n",
    "\n",
    "Several things to note as you look through the syntax.\n",
    "1. The syntax for a class begins with the word \"class\" and is followed by the name, here, Sensor.\n",
    "2. The **__init__** function is a **constructor** for the class: it is responsible for building an object of the type class. So for example, if we were the architect, to create a house, we would call the init function\n",
    "3. To create the object, we do not call __init__, but we call the name of the class, Sensor. So use Sensor() rather than __init__.\n",
    "4. Self represents the object. It is the _name_ of the object. For example, the address of the house that the architect builds would be the **self** for the house. Self allows for referencing the object just like the address of your home allows people to know where you live.\n",
    "5. In the cell after, I have created a sensor object in variable s. Self is not needed as an argument to the constructor, so there are no arguments in the function call"
   ]
  },
  {
   "cell_type": "code",
   "execution_count": 73,
   "metadata": {},
   "outputs": [],
   "source": [
    "class Sensor:\n",
    "    \"\"\"\n",
    "    Sensor represents a sensor object\n",
    "    \n",
    "    Active is the activity of the sensor: True if on, false if false\n",
    "    \"\"\"\n",
    "    def __init__(self):\n",
    "        self.active = False"
   ]
  },
  {
   "cell_type": "code",
   "execution_count": 74,
   "metadata": {},
   "outputs": [],
   "source": [
    "s = Sensor()"
   ]
  },
  {
   "cell_type": "markdown",
   "metadata": {},
   "source": [
    "And here is a sensor! You instantiated a sensor which you can maninpulate! But this sensor does not do much right now. You cannot turn it on. Let's add a method to turn on the sensor so that it can sense actions.\n",
    "\n",
    "We extend the class with a **method**. A **method** is a function that resides in a class. It manipulates an object of the class. Here, we want a method to turn the Sensor on. Naturally, the method must know which object to change; it needs a reference much like the address to your home. Thus, it needs to have self as an argument. In general, all methods of a class need self as an argument to be able to manipulate the objects of that class.\n",
    "\n",
    "So we create a method named turn_on, which has one argument self. It changes the **attribute** of self, active, to be True, representing on. Notice that the specification for the method follows the specification for the class, saying that active is true if the sensor is on. Also, the method does not return a value. This is ok, because self is set properly, which is what we want the method to do."
   ]
  },
  {
   "cell_type": "code",
   "execution_count": 75,
   "metadata": {},
   "outputs": [],
   "source": [
    "class Sensor:\n",
    "    \"\"\"\n",
    "    Sensor represents a sensor object\n",
    "    \n",
    "    Active is the activity of the sensor: True if on, false if false\n",
    "    \"\"\"\n",
    "    def __init__(self):\n",
    "        self.active = False\n",
    "        \n",
    "    def turn_on(self):\n",
    "        \"\"\"\n",
    "        turn_on(self) turns on the sensor\n",
    "        \"\"\"\n",
    "        self.active = True"
   ]
  },
  {
   "cell_type": "markdown",
   "metadata": {},
   "source": [
    "Let's turn the sensor on now! We create an object s of class Sensor and we call turn_on on s. Notice that we need an argument for turn_on, and turn_on is not a constructor, so we cannot ignore self. Instead, we call the method like this: s.turn_on(). For method calls, we call methods in this fashion: object.method(additional args). This is different from function calls, where we never do arg.func() but we do func(arg). You can remember the difference by knowing that methods belong to classes, and are special, while functions do not belong to the class you made."
   ]
  },
  {
   "cell_type": "code",
   "execution_count": 76,
   "metadata": {},
   "outputs": [],
   "source": [
    "s = Sensor()\n",
    "s.turn_on()"
   ]
  },
  {
   "cell_type": "markdown",
   "metadata": {},
   "source": [
    "You've turned on the sensor! But we can do more. Try adding some other attributes and methods to the sensor. For example, make a method that prints(\"Sensor is on.\") if the sensor is active and otherwise prints(\"Sensor is off.\")\n",
    "\n",
    "Also, try adding an attribute that to represent the name of the sensor., Think of an appropriate type for this attribute and document it in the specificaiton. Make a method to print out the name of the sensor and test it out. To create an attribute, you can go to __init__ and add another line self.<attribute> = ... wherre attribute is the name you give to the attribute. For example, we have <attribute> = acti"
   ]
  }
 ],
 "metadata": {
  "kernelspec": {
   "display_name": "Python 3",
   "language": "python",
   "name": "python3"
  },
  "language_info": {
   "codemirror_mode": {
    "name": "ipython",
    "version": 3
   },
   "file_extension": ".py",
   "mimetype": "text/x-python",
   "name": "python",
   "nbconvert_exporter": "python",
   "pygments_lexer": "ipython3",
   "version": "3.7.6"
  }
 },
 "nbformat": 4,
 "nbformat_minor": 2
}
